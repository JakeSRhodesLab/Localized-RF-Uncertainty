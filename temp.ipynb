{
 "cells": [
  {
   "cell_type": "code",
   "execution_count": 1,
   "id": "db4a11bb",
   "metadata": {},
   "outputs": [],
   "source": [
    "from rfgap import RFGAP\n",
    "from datasets import load_classification_sets, load_regression_sets\n",
    "from quantile_forest import RandomForestQuantileRegressor\n",
    "import pandas as pd\n",
    "import numpy as np\n",
    "import methods\n",
    "import matplotlib.pyplot as plt\n",
    "from sklearn.model_selection import train_test_split\n"
   ]
  },
  {
   "cell_type": "code",
   "execution_count": 2,
   "id": "5f1ebb2b",
   "metadata": {},
   "outputs": [],
   "source": [
    "classification_sets = load_classification_sets()\n",
    "classification_set_keys = list(classification_sets.keys())\n",
    "\n",
    "# regression_sets = load_regression_sets()\n",
    "# regression_set_keys = list(regression_sets.keys())"
   ]
  },
  {
   "cell_type": "code",
   "execution_count": 3,
   "id": "51993795",
   "metadata": {},
   "outputs": [],
   "source": [
    "X = classification_sets[0]['X']\n",
    "y = classification_sets[0]['y']\n",
    "\n",
    "# X = regression_sets[0]['X']\n",
    "# y = regression_sets[0]['y']\n",
    "\n",
    "X = pd.get_dummies(X, drop_first=False)\n",
    "y = pd.Categorical(y).codes"
   ]
  },
  {
   "cell_type": "code",
   "execution_count": 4,
   "id": "0304f16a",
   "metadata": {},
   "outputs": [],
   "source": [
    "X_train, X_test, y_train, y_test = train_test_split(X, y, test_size=0.2, random_state=42)"
   ]
  },
  {
   "cell_type": "code",
   "execution_count": 16,
   "id": "5f6b0d9f",
   "metadata": {},
   "outputs": [
    {
     "name": "stdout",
     "output_type": "stream",
     "text": [
      "mask_test:  (105,)\n",
      "proximities_test:  (105, 417)\n",
      "same_k:  (105, 5)\n",
      "diff_k:  (105, 5)\n",
      "mask_test:  (105,)\n",
      "proximities_test:  (105, 417)\n",
      "same_k:  (105, 5)\n",
      "diff_k:  (105, 5)\n"
     ]
    }
   ],
   "source": [
    "method = methods.classification_methods['rf']\n",
    "# method = methods.regression_methods['rf']\n",
    "\n",
    "# method(X_train, y_train, X_test, y_test = y_test, prox_method = 'oob',\n",
    "#                                   level=0.99, random_state=42, k=5)[2]\n",
    "\n",
    "rf, plot_res, res = method(X_train, y_train, X_test = X_test, y_test = y_test, prox_method = 'rfgap',\n",
    "                                  random_state=42, k=5)\n"
   ]
  },
  {
   "cell_type": "code",
   "execution_count": 17,
   "id": "6e825440",
   "metadata": {},
   "outputs": [
    {
     "data": {
      "text/plain": [
       "{'prox_method': 'rfgap',\n",
       " 'conformity_k': 5,\n",
       " 'random_state': 42,\n",
       " 'oob_score_': 0.841726618705036,\n",
       " 'diff_proba_auc': 0.9298082225544574,\n",
       " 'diff_proba_auc_test': 0.828959452582297,\n",
       " 'conformity_auc': 0.9761579319965106,\n",
       " 'conformity_auc_test': 0.9560980281254878,\n",
       " 'ice_auc': 0.937964476566881,\n",
       " 'ice_auc_test': 0.8562813691102529}"
      ]
     },
     "execution_count": 17,
     "metadata": {},
     "output_type": "execute_result"
    }
   ],
   "source": [
    "res"
   ]
  },
  {
   "cell_type": "code",
   "execution_count": 23,
   "id": "f6fdb793",
   "metadata": {},
   "outputs": [],
   "source": [
    "n = classification_sets[0]['n_samples']"
   ]
  },
  {
   "cell_type": "code",
   "execution_count": 25,
   "id": "723c16cb",
   "metadata": {},
   "outputs": [
    {
     "data": {
      "text/plain": [
       "array([261., 290., 319., 348., 377., 406., 435., 464., 493., 522.])"
      ]
     },
     "execution_count": 25,
     "metadata": {},
     "output_type": "execute_result"
    }
   ],
   "source": [
    "np.linspace(n / 2, n, 10)"
   ]
  },
  {
   "cell_type": "code",
   "execution_count": 24,
   "id": "e1723093",
   "metadata": {},
   "outputs": [
    {
     "data": {
      "text/plain": [
       "array([522., 522., 522., 522., 522., 522.])"
      ]
     },
     "execution_count": 24,
     "metadata": {},
     "output_type": "execute_result"
    }
   ],
   "source": [
    "np.quantile(n, q = [0.25, 0.5, 0.75, 0.9, 0.95, 0.99])"
   ]
  }
 ],
 "metadata": {
  "kernelspec": {
   "display_name": "rf-uncertainty",
   "language": "python",
   "name": "python3"
  },
  "language_info": {
   "codemirror_mode": {
    "name": "ipython",
    "version": 3
   },
   "file_extension": ".py",
   "mimetype": "text/x-python",
   "name": "python",
   "nbconvert_exporter": "python",
   "pygments_lexer": "ipython3",
   "version": "3.10.18"
  }
 },
 "nbformat": 4,
 "nbformat_minor": 5
}
