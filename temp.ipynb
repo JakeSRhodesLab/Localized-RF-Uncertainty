{
 "cells": [
  {
   "cell_type": "code",
   "execution_count": 7,
   "id": "db4a11bb",
   "metadata": {},
   "outputs": [],
   "source": [
    "from rfgap import RFGAP\n",
    "from methods import nonconformity_rfgap\n",
    "from datasets import load_classification_sets, load_regression_sets\n",
    "from quantile_forest import RandomForestQuantileRegressor\n",
    "import pandas as pd"
   ]
  },
  {
   "cell_type": "code",
   "execution_count": 8,
   "id": "5f1ebb2b",
   "metadata": {},
   "outputs": [],
   "source": [
    "classification_sets = load_classification_sets()\n",
    "regression_sets = load_regression_sets()\n",
    "\n",
    "classification_set_keys = list(classification_sets.keys())\n",
    "regression_set_keys = list(regression_sets.keys())"
   ]
  },
  {
   "cell_type": "code",
   "execution_count": null,
   "id": "51993795",
   "metadata": {},
   "outputs": [],
   "source": [
    "X = regression_sets[0]['X']\n",
    "y = regression_sets[0]['y']\n",
    "X = pd.get_dummies(X, drop_first=False)"
   ]
  },
  {
   "cell_type": "code",
   "execution_count": 18,
   "id": "34d70201",
   "metadata": {},
   "outputs": [],
   "source": [
    "qrf = RandomForestQuantileRegressor()\n",
    "qrf.fit(X, y)\n",
    "y_pred = qrf.predict(X, quantiles=[0.025, 0.5, 0.975])"
   ]
  }
 ],
 "metadata": {
  "kernelspec": {
   "display_name": "rf-uncertainty",
   "language": "python",
   "name": "python3"
  },
  "language_info": {
   "codemirror_mode": {
    "name": "ipython",
    "version": 3
   },
   "file_extension": ".py",
   "mimetype": "text/x-python",
   "name": "python",
   "nbconvert_exporter": "python",
   "pygments_lexer": "ipython3",
   "version": "3.10.18"
  }
 },
 "nbformat": 4,
 "nbformat_minor": 5
}
