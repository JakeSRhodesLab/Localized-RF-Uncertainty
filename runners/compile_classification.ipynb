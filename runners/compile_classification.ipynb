{
 "cells": [
  {
   "cell_type": "code",
   "execution_count": 29,
   "id": "20661f8f",
   "metadata": {},
   "outputs": [],
   "source": [
    "import os\n",
    "import pickle\n",
    "from concurrent.futures import ThreadPoolExecutor\n",
    "from concurrent.futures import ProcessPoolExecutor, as_completed\n",
    "from pathlib import Path\n",
    "import pandas as pd\n",
    "import matplotlib.pyplot as plt\n",
    "import numpy as np\n",
    "import seaborn as sns\n",
    "import matplotlib.pyplot as plt\n",
    "\n",
    "import sys\n",
    "sys.path.append(str(Path.cwd().parent))"
   ]
  },
  {
   "cell_type": "code",
   "execution_count": 30,
   "id": "0dd93fbe",
   "metadata": {},
   "outputs": [],
   "source": [
    "# Directory containing pickle files\n",
    "directory = Path(\"../results/classification/quantitative\")\n",
    "\n",
    "# Optionally filter for specific substrings\n",
    "pkl_files = [f for f in directory.iterdir() if f.suffix == \".pkl\"]\n",
    "\n",
    "# Efficient loader\n",
    "def load_file(file_path):\n",
    "    try:\n",
    "        with open(file_path, \"rb\") as f:\n",
    "            data = pickle.load(f)\n",
    "            if isinstance(data, dict):\n",
    "                return file_path.name, data\n",
    "    except (EOFError, pickle.UnpicklingError) as e:\n",
    "        print(f\"Warning: Failed to load {file_path.name}: {e}\")\n",
    "    except Exception as e:\n",
    "        print(f\"Unexpected error with {file_path.name}: {e}\")\n",
    "    return None\n",
    "\n",
    "# Load files using multithreading (I/O bound)\n",
    "all_data = {}\n",
    "with ThreadPoolExecutor() as executor:\n",
    "    futures = [executor.submit(load_file, f) for f in pkl_files]\n",
    "    for future in as_completed(futures):\n",
    "        result = future.result()\n",
    "        if result:\n",
    "            filename, data = result\n",
    "            all_data[filename] = data\n",
    "\n",
    "files = list(all_data.keys())\n"
   ]
  },
  {
   "cell_type": "code",
   "execution_count": 31,
   "id": "9a50b0db",
   "metadata": {},
   "outputs": [
    {
     "data": {
      "text/plain": [
       "{'prox_method': 'rfgap',\n",
       " 'conformity_k': 50,\n",
       " 'random_state': 732181,\n",
       " 'oob_score_': 0.964824120603015,\n",
       " 'diff_proba_auc': 0.9882716008358128,\n",
       " 'diff_proba_auc_test': 0.9827427757289594,\n",
       " 'conformity_auc': 0.996740796032977,\n",
       " 'conformity_auc_test': 0.9930149849153908,\n",
       " 'ice_auc': 0.9723633543323503,\n",
       " 'ice_auc_test': 0.972585042506119}"
      ]
     },
     "execution_count": 31,
     "metadata": {},
     "output_type": "execute_result"
    }
   ],
   "source": [
    "dictionary"
   ]
  },
  {
   "cell_type": "code",
   "execution_count": 32,
   "id": "7131e3c1",
   "metadata": {},
   "outputs": [
    {
     "name": "stdout",
     "output_type": "stream",
     "text": [
      "(2933, 13)\n"
     ]
    }
   ],
   "source": [
    "records = []\n",
    "\n",
    "for file, dictionary in all_data.items():\n",
    "    records.append(dictionary)\n",
    "\n",
    "# Create the DataFrame\n",
    "df = pd.DataFrame(records)\n",
    "\n",
    "\n",
    "# df = df.dropna(\n",
    "#     subset=[col for col in df.columns if col not in ['file', 'dataset_name', 'method_name', 'missing_type', 'pct', 'random_state']],\n",
    "#     how='all'\n",
    "# )\n",
    "\n",
    "\n",
    "# df.drop(columns=['file'], inplace=True)\n",
    "print(df.shape)\n",
    "\n"
   ]
  },
  {
   "cell_type": "code",
   "execution_count": 33,
   "id": "115c8071",
   "metadata": {},
   "outputs": [
    {
     "data": {
      "text/plain": [
       "'wdbc_rfgap_k5_rs732181.pkl'"
      ]
     },
     "execution_count": 33,
     "metadata": {},
     "output_type": "execute_result"
    }
   ],
   "source": [
    "file"
   ]
  },
  {
   "cell_type": "code",
   "execution_count": null,
   "id": "d8e5055b",
   "metadata": {},
   "outputs": [],
   "source": [
    "# Main methods: RF-ICE, Conformity (based on three proximity types), difference in probabilities (independent of proximities)"
   ]
  },
  {
   "cell_type": "code",
   "execution_count": 43,
   "id": "58a9560e",
   "metadata": {},
   "outputs": [
    {
     "data": {
      "text/plain": [
       "Index(['prox_method', 'conformity_k', 'random_state', 'oob_score_',\n",
       "       'diff_proba_auc', 'diff_proba_auc_test', 'conformity_auc',\n",
       "       'conformity_auc_test', 'ice_auc', 'ice_auc_test', 'name', 'n_features',\n",
       "       'n_samples'],\n",
       "      dtype='object')"
      ]
     },
     "execution_count": 43,
     "metadata": {},
     "output_type": "execute_result"
    }
   ],
   "source": [
    "df.columns"
   ]
  },
  {
   "cell_type": "code",
   "execution_count": 53,
   "id": "18487ff0",
   "metadata": {},
   "outputs": [
    {
     "data": {
      "text/html": [
       "<div>\n",
       "<style scoped>\n",
       "    .dataframe tbody tr th:only-of-type {\n",
       "        vertical-align: middle;\n",
       "    }\n",
       "\n",
       "    .dataframe tbody tr th {\n",
       "        vertical-align: top;\n",
       "    }\n",
       "\n",
       "    .dataframe thead th {\n",
       "        text-align: right;\n",
       "    }\n",
       "</style>\n",
       "<table border=\"1\" class=\"dataframe\">\n",
       "  <thead>\n",
       "    <tr style=\"text-align: right;\">\n",
       "      <th></th>\n",
       "      <th></th>\n",
       "      <th></th>\n",
       "      <th>ice_auc</th>\n",
       "      <th>oob_score_</th>\n",
       "    </tr>\n",
       "    <tr>\n",
       "      <th>name</th>\n",
       "      <th>random_state</th>\n",
       "      <th>prox_method</th>\n",
       "      <th></th>\n",
       "      <th></th>\n",
       "    </tr>\n",
       "  </thead>\n",
       "  <tbody>\n",
       "    <tr>\n",
       "      <th rowspan=\"5\" valign=\"top\">analcatdata_authorship</th>\n",
       "      <th rowspan=\"3\" valign=\"top\">54887</th>\n",
       "      <th>oob</th>\n",
       "      <td>0.983180</td>\n",
       "      <td>0.989796</td>\n",
       "    </tr>\n",
       "    <tr>\n",
       "      <th>original</th>\n",
       "      <td>0.983180</td>\n",
       "      <td>0.989796</td>\n",
       "    </tr>\n",
       "    <tr>\n",
       "      <th>rfgap</th>\n",
       "      <td>0.983180</td>\n",
       "      <td>0.989796</td>\n",
       "    </tr>\n",
       "    <tr>\n",
       "      <th rowspan=\"2\" valign=\"top\">110269</th>\n",
       "      <th>oob</th>\n",
       "      <td>0.978248</td>\n",
       "      <td>0.991497</td>\n",
       "    </tr>\n",
       "    <tr>\n",
       "      <th>original</th>\n",
       "      <td>0.978248</td>\n",
       "      <td>0.991497</td>\n",
       "    </tr>\n",
       "    <tr>\n",
       "      <th>...</th>\n",
       "      <th>...</th>\n",
       "      <th>...</th>\n",
       "      <td>...</td>\n",
       "      <td>...</td>\n",
       "    </tr>\n",
       "    <tr>\n",
       "      <th rowspan=\"5\" valign=\"top\">wdbc</th>\n",
       "      <th rowspan=\"2\" valign=\"top\">671156</th>\n",
       "      <th>original</th>\n",
       "      <td>0.977950</td>\n",
       "      <td>0.957286</td>\n",
       "    </tr>\n",
       "    <tr>\n",
       "      <th>rfgap</th>\n",
       "      <td>0.977950</td>\n",
       "      <td>0.957286</td>\n",
       "    </tr>\n",
       "    <tr>\n",
       "      <th rowspan=\"3\" valign=\"top\">732181</th>\n",
       "      <th>oob</th>\n",
       "      <td>0.972363</td>\n",
       "      <td>0.964824</td>\n",
       "    </tr>\n",
       "    <tr>\n",
       "      <th>original</th>\n",
       "      <td>0.972363</td>\n",
       "      <td>0.964824</td>\n",
       "    </tr>\n",
       "    <tr>\n",
       "      <th>rfgap</th>\n",
       "      <td>0.972363</td>\n",
       "      <td>0.964824</td>\n",
       "    </tr>\n",
       "  </tbody>\n",
       "</table>\n",
       "<p>533 rows × 2 columns</p>\n",
       "</div>"
      ],
      "text/plain": [
       "                                                  ice_auc  oob_score_\n",
       "name                   random_state prox_method                      \n",
       "analcatdata_authorship 54887        oob          0.983180    0.989796\n",
       "                                    original     0.983180    0.989796\n",
       "                                    rfgap        0.983180    0.989796\n",
       "                       110269       oob          0.978248    0.991497\n",
       "                                    original     0.978248    0.991497\n",
       "...                                                   ...         ...\n",
       "wdbc                   671156       original     0.977950    0.957286\n",
       "                                    rfgap        0.977950    0.957286\n",
       "                       732181       oob          0.972363    0.964824\n",
       "                                    original     0.972363    0.964824\n",
       "                                    rfgap        0.972363    0.964824\n",
       "\n",
       "[533 rows x 2 columns]"
      ]
     },
     "execution_count": 53,
     "metadata": {},
     "output_type": "execute_result"
    }
   ],
   "source": [
    "df[['name', 'random_state', 'prox_method', 'ice_auc', 'oob_score_']].groupby(['name', 'random_state', 'prox_method']).mean()"
   ]
  },
  {
   "cell_type": "code",
   "execution_count": 39,
   "id": "eb5c6549",
   "metadata": {},
   "outputs": [
    {
     "data": {
      "text/html": [
       "<div>\n",
       "<style scoped>\n",
       "    .dataframe tbody tr th:only-of-type {\n",
       "        vertical-align: middle;\n",
       "    }\n",
       "\n",
       "    .dataframe tbody tr th {\n",
       "        vertical-align: top;\n",
       "    }\n",
       "\n",
       "    .dataframe thead th {\n",
       "        text-align: right;\n",
       "    }\n",
       "</style>\n",
       "<table border=\"1\" class=\"dataframe\">\n",
       "  <thead>\n",
       "    <tr style=\"text-align: right;\">\n",
       "      <th></th>\n",
       "      <th>n_samples</th>\n",
       "      <th>conformity_k</th>\n",
       "    </tr>\n",
       "  </thead>\n",
       "  <tbody>\n",
       "    <tr>\n",
       "      <th>2024</th>\n",
       "      <td>1055</td>\n",
       "      <td>200</td>\n",
       "    </tr>\n",
       "    <tr>\n",
       "      <th>2114</th>\n",
       "      <td>1055</td>\n",
       "      <td>200</td>\n",
       "    </tr>\n",
       "    <tr>\n",
       "      <th>2108</th>\n",
       "      <td>1055</td>\n",
       "      <td>200</td>\n",
       "    </tr>\n",
       "    <tr>\n",
       "      <th>2317</th>\n",
       "      <td>958</td>\n",
       "      <td>200</td>\n",
       "    </tr>\n",
       "    <tr>\n",
       "      <th>2316</th>\n",
       "      <td>958</td>\n",
       "      <td>200</td>\n",
       "    </tr>\n",
       "    <tr>\n",
       "      <th>...</th>\n",
       "      <td>...</td>\n",
       "      <td>...</td>\n",
       "    </tr>\n",
       "    <tr>\n",
       "      <th>1080</th>\n",
       "      <td>1000</td>\n",
       "      <td>1</td>\n",
       "    </tr>\n",
       "    <tr>\n",
       "      <th>1073</th>\n",
       "      <td>1000</td>\n",
       "      <td>1</td>\n",
       "    </tr>\n",
       "    <tr>\n",
       "      <th>1069</th>\n",
       "      <td>1000</td>\n",
       "      <td>1</td>\n",
       "    </tr>\n",
       "    <tr>\n",
       "      <th>1068</th>\n",
       "      <td>1000</td>\n",
       "      <td>1</td>\n",
       "    </tr>\n",
       "    <tr>\n",
       "      <th>1466</th>\n",
       "      <td>583</td>\n",
       "      <td>1</td>\n",
       "    </tr>\n",
       "  </tbody>\n",
       "</table>\n",
       "<p>2933 rows × 2 columns</p>\n",
       "</div>"
      ],
      "text/plain": [
       "      n_samples  conformity_k\n",
       "2024       1055           200\n",
       "2114       1055           200\n",
       "2108       1055           200\n",
       "2317        958           200\n",
       "2316        958           200\n",
       "...         ...           ...\n",
       "1080       1000             1\n",
       "1073       1000             1\n",
       "1069       1000             1\n",
       "1068       1000             1\n",
       "1466        583             1\n",
       "\n",
       "[2933 rows x 2 columns]"
      ]
     },
     "execution_count": 39,
     "metadata": {},
     "output_type": "execute_result"
    }
   ],
   "source": [
    "df[['n_samples', 'conformity_k']].sort_values(by=['conformity_k'], ascending=False)"
   ]
  }
 ],
 "metadata": {
  "kernelspec": {
   "display_name": "rf-uncertainty",
   "language": "python",
   "name": "python3"
  },
  "language_info": {
   "codemirror_mode": {
    "name": "ipython",
    "version": 3
   },
   "file_extension": ".py",
   "mimetype": "text/x-python",
   "name": "python",
   "nbconvert_exporter": "python",
   "pygments_lexer": "ipython3",
   "version": "3.10.18"
  }
 },
 "nbformat": 4,
 "nbformat_minor": 5
}
