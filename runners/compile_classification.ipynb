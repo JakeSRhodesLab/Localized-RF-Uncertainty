{
 "cells": [
  {
   "cell_type": "code",
   "execution_count": 1,
   "id": "20661f8f",
   "metadata": {},
   "outputs": [],
   "source": [
    "import os\n",
    "import pickle\n",
    "from concurrent.futures import ThreadPoolExecutor\n",
    "from concurrent.futures import ProcessPoolExecutor, as_completed\n",
    "from pathlib import Path\n",
    "import pandas as pd\n",
    "import matplotlib.pyplot as plt\n",
    "import numpy as np\n",
    "import seaborn as sns\n",
    "import matplotlib.pyplot as plt\n",
    "\n",
    "import sys\n",
    "sys.path.append(str(Path.cwd().parent))"
   ]
  },
  {
   "cell_type": "code",
   "execution_count": 2,
   "id": "0dd93fbe",
   "metadata": {},
   "outputs": [],
   "source": [
    "# Directory containing pickle files\n",
    "directory = Path(\"../results/classification/quantitative\")\n",
    "\n",
    "# Optionally filter for specific substrings\n",
    "pkl_files = [f for f in directory.iterdir() if f.suffix == \".pkl\"]\n",
    "\n",
    "# Efficient loader\n",
    "def load_file(file_path):\n",
    "    try:\n",
    "        with open(file_path, \"rb\") as f:\n",
    "            data = pickle.load(f)\n",
    "            if isinstance(data, dict):\n",
    "                return file_path.name, data\n",
    "    except (EOFError, pickle.UnpicklingError) as e:\n",
    "        print(f\"Warning: Failed to load {file_path.name}: {e}\")\n",
    "    except Exception as e:\n",
    "        print(f\"Unexpected error with {file_path.name}: {e}\")\n",
    "    return None\n",
    "\n",
    "# Load files using multithreading (I/O bound)\n",
    "all_data = {}\n",
    "with ThreadPoolExecutor() as executor:\n",
    "    futures = [executor.submit(load_file, f) for f in pkl_files]\n",
    "    for future in as_completed(futures):\n",
    "        result = future.result()\n",
    "        if result:\n",
    "            filename, data = result\n",
    "            all_data[filename] = data\n",
    "\n",
    "files = list(all_data.keys())\n"
   ]
  },
  {
   "cell_type": "code",
   "execution_count": 3,
   "id": "7131e3c1",
   "metadata": {},
   "outputs": [
    {
     "name": "stdout",
     "output_type": "stream",
     "text": [
      "(9136, 13)\n"
     ]
    }
   ],
   "source": [
    "records = []\n",
    "\n",
    "for file, dictionary in all_data.items():\n",
    "    records.append(dictionary)\n",
    "\n",
    "# Create the DataFrame\n",
    "df = pd.DataFrame(records)\n",
    "\n",
    "\n",
    "# df = df.dropna(\n",
    "#     subset=[col for col in df.columns if col not in ['file', 'dataset_name', 'method_name', 'missing_type', 'pct', 'random_state']],\n",
    "#     how='all'\n",
    "# )\n",
    "\n",
    "\n",
    "# df.drop(columns=['file'], inplace=True)\n",
    "print(df.shape)\n",
    "\n"
   ]
  },
  {
   "cell_type": "code",
   "execution_count": 4,
   "id": "115c8071",
   "metadata": {},
   "outputs": [
    {
     "data": {
      "text/plain": [
       "'pc1_original_k20_rs671156.pkl'"
      ]
     },
     "execution_count": 4,
     "metadata": {},
     "output_type": "execute_result"
    }
   ],
   "source": [
    "file"
   ]
  },
  {
   "cell_type": "code",
   "execution_count": 5,
   "id": "d8e5055b",
   "metadata": {},
   "outputs": [],
   "source": [
    "# Main methods: RF-ICE, Conformity (based on three proximity types), difference in probabilities (independent of proximities)"
   ]
  },
  {
   "cell_type": "code",
   "execution_count": 6,
   "id": "58a9560e",
   "metadata": {},
   "outputs": [
    {
     "data": {
      "text/plain": [
       "Index(['prox_method', 'conformity_k', 'random_state', 'oob_score_',\n",
       "       'diff_proba_auc', 'diff_proba_auc_test', 'conformity_auc',\n",
       "       'conformity_auc_test', 'ice_auc', 'ice_auc_test', 'name', 'n_features',\n",
       "       'n_samples'],\n",
       "      dtype='object')"
      ]
     },
     "execution_count": 6,
     "metadata": {},
     "output_type": "execute_result"
    }
   ],
   "source": [
    "df.columns"
   ]
  },
  {
   "cell_type": "code",
   "execution_count": 7,
   "id": "18487ff0",
   "metadata": {},
   "outputs": [
    {
     "data": {
      "application/vnd.microsoft.datawrangler.viewer.v0+json": {
       "columns": [
        {
         "name": "('name', 'random_state', 'prox_method')",
         "rawType": "object",
         "type": "unknown"
        },
        {
         "name": "ice_auc_test",
         "rawType": "float64",
         "type": "float"
        },
        {
         "name": "oob_score_",
         "rawType": "float64",
         "type": "float"
        }
       ],
       "ref": "3a771b68-4e6e-4f4d-b236-46e82f07a508",
       "rows": [
        [
         "('Bioresponse', 54887, 'oob')",
         "0.8756234133476185",
         "0.7954285714285714"
        ],
        [
         "('Bioresponse', 54887, 'original')",
         "0.8756234133476185",
         "0.7954285714285714"
        ],
        [
         "('Bioresponse', 54887, 'rfgap')",
         "0.8756234133476185",
         "0.7954285714285714"
        ],
        [
         "('Bioresponse', 110269, 'oob')",
         "0.8719794969083309",
         "0.7996190476190477"
        ],
        [
         "('Bioresponse', 110269, 'original')",
         "0.8719794969083309",
         "0.7996190476190477"
        ],
        [
         "('Bioresponse', 110269, 'rfgap')",
         "0.8719794969083309",
         "0.7996190476190477"
        ],
        [
         "('Bioresponse', 121959, 'oob')",
         "0.8837221900812199",
         "0.7767619047619048"
        ],
        [
         "('Bioresponse', 121959, 'original')",
         "0.8837221900812199",
         "0.7767619047619048"
        ],
        [
         "('Bioresponse', 121959, 'rfgap')",
         "0.8837221900812199",
         "0.7767619047619048"
        ],
        [
         "('Bioresponse', 131933, 'oob')",
         "0.8792186171267533",
         "0.7847619047619048"
        ],
        [
         "('Bioresponse', 131933, 'original')",
         "0.8792186171267533",
         "0.7847619047619048"
        ],
        [
         "('Bioresponse', 131933, 'rfgap')",
         "0.8792186171267533",
         "0.7847619047619048"
        ],
        [
         "('Bioresponse', 137338, 'oob')",
         "0.8947115295766755",
         "0.7878095238095238"
        ],
        [
         "('Bioresponse', 137338, 'original')",
         "0.8947115295766755",
         "0.7878095238095238"
        ],
        [
         "('Bioresponse', 137338, 'rfgap')",
         "0.8947115295766755",
         "0.7878095238095238"
        ],
        [
         "('Bioresponse', 259179, 'oob')",
         "0.8685033517012698",
         "0.7885714285714286"
        ],
        [
         "('Bioresponse', 259179, 'original')",
         "0.8685033517012698",
         "0.7885714285714286"
        ],
        [
         "('Bioresponse', 259179, 'rfgap')",
         "0.8685033517012698",
         "0.7885714285714286"
        ],
        [
         "('Bioresponse', 365839, 'oob')",
         "0.8764258415808434",
         "0.8076190476190476"
        ],
        [
         "('Bioresponse', 365839, 'original')",
         "0.8764258415808434",
         "0.8076190476190476"
        ],
        [
         "('Bioresponse', 365839, 'rfgap')",
         "0.8764258415808434",
         "0.8076190476190476"
        ],
        [
         "('Bioresponse', 644168, 'oob')",
         "0.8648587507809312",
         "0.7897142857142857"
        ],
        [
         "('Bioresponse', 644168, 'original')",
         "0.8648587507809312",
         "0.7897142857142857"
        ],
        [
         "('Bioresponse', 644168, 'rfgap')",
         "0.8648587507809312",
         "0.7897142857142857"
        ],
        [
         "('Bioresponse', 671156, 'oob')",
         "0.8745039786203901",
         "0.8015238095238095"
        ],
        [
         "('Bioresponse', 671156, 'original')",
         "0.8745039786203901",
         "0.8015238095238095"
        ],
        [
         "('Bioresponse', 671156, 'rfgap')",
         "0.8745039786203901",
         "0.8015238095238095"
        ],
        [
         "('Bioresponse', 732181, 'oob')",
         "0.8707974535828051",
         "0.7961904761904762"
        ],
        [
         "('Bioresponse', 732181, 'original')",
         "0.8707974535828051",
         "0.7961904761904762"
        ],
        [
         "('Bioresponse', 732181, 'rfgap')",
         "0.8707974535828051",
         "0.7961904761904762"
        ],
        [
         "('GesturePhaseSegmentationProcessed', 54887, 'rfgap')",
         "0.7874375575700701",
         "0.6496889017508322"
        ],
        [
         "('GesturePhaseSegmentationProcessed', 110269, 'rfgap')",
         "0.7985504977259628",
         "0.6436116336275503"
        ],
        [
         "('GesturePhaseSegmentationProcessed', 121959, 'rfgap')",
         "0.8096320590864462",
         "0.6365214874837216"
        ],
        [
         "('GesturePhaseSegmentationProcessed', 131933, 'rfgap')",
         "0.7916655311242553",
         "0.6395601215453625"
        ],
        [
         "('GesturePhaseSegmentationProcessed', 137338, 'rfgap')",
         "0.7965306855899684",
         "0.6414411807263782"
        ],
        [
         "('GesturePhaseSegmentationProcessed', 259179, 'rfgap')",
         "0.7828183323700934",
         "0.6421646650267689"
        ],
        [
         "('GesturePhaseSegmentationProcessed', 365839, 'rfgap')",
         "0.8008119330876885",
         "0.6320358848212994"
        ],
        [
         "('GesturePhaseSegmentationProcessed', 644168, 'rfgap')",
         "0.7916661213985438",
         "0.6437563304876284"
        ],
        [
         "('GesturePhaseSegmentationProcessed', 671156, 'rfgap')",
         "0.7812027476628473",
         "0.6462161771089567"
        ],
        [
         "('GesturePhaseSegmentationProcessed', 732181, 'rfgap')",
         "0.805666012971539",
         "0.6447692085081753"
        ],
        [
         "('Internet-Advertisements', 54887, 'oob')",
         "0.9851292555902079",
         "0.9738562091503268"
        ],
        [
         "('Internet-Advertisements', 54887, 'original')",
         "0.9851292555902079",
         "0.9738562091503268"
        ],
        [
         "('Internet-Advertisements', 54887, 'rfgap')",
         "0.9851292555902079",
         "0.9738562091503268"
        ],
        [
         "('Internet-Advertisements', 110269, 'oob')",
         "0.9838352682937079",
         "0.9786492374727669"
        ],
        [
         "('Internet-Advertisements', 110269, 'original')",
         "0.9838352682937079",
         "0.9786492374727669"
        ],
        [
         "('Internet-Advertisements', 110269, 'rfgap')",
         "0.9838352682937079",
         "0.9786492374727669"
        ],
        [
         "('Internet-Advertisements', 121959, 'oob')",
         "0.9909907304078448",
         "0.9808278867102397"
        ],
        [
         "('Internet-Advertisements', 121959, 'original')",
         "0.9909907304078448",
         "0.9808278867102397"
        ],
        [
         "('Internet-Advertisements', 121959, 'rfgap')",
         "0.9909907304078448",
         "0.9808278867102397"
        ],
        [
         "('Internet-Advertisements', 131933, 'oob')",
         "0.9915363031039348",
         "0.9760348583877996"
        ]
       ],
       "shape": {
        "columns": 2,
        "rows": 1470
       }
      },
      "text/html": [
       "<div>\n",
       "<style scoped>\n",
       "    .dataframe tbody tr th:only-of-type {\n",
       "        vertical-align: middle;\n",
       "    }\n",
       "\n",
       "    .dataframe tbody tr th {\n",
       "        vertical-align: top;\n",
       "    }\n",
       "\n",
       "    .dataframe thead th {\n",
       "        text-align: right;\n",
       "    }\n",
       "</style>\n",
       "<table border=\"1\" class=\"dataframe\">\n",
       "  <thead>\n",
       "    <tr style=\"text-align: right;\">\n",
       "      <th></th>\n",
       "      <th></th>\n",
       "      <th></th>\n",
       "      <th>ice_auc_test</th>\n",
       "      <th>oob_score_</th>\n",
       "    </tr>\n",
       "    <tr>\n",
       "      <th>name</th>\n",
       "      <th>random_state</th>\n",
       "      <th>prox_method</th>\n",
       "      <th></th>\n",
       "      <th></th>\n",
       "    </tr>\n",
       "  </thead>\n",
       "  <tbody>\n",
       "    <tr>\n",
       "      <th rowspan=\"5\" valign=\"top\">Bioresponse</th>\n",
       "      <th rowspan=\"3\" valign=\"top\">54887</th>\n",
       "      <th>oob</th>\n",
       "      <td>0.875623</td>\n",
       "      <td>0.795429</td>\n",
       "    </tr>\n",
       "    <tr>\n",
       "      <th>original</th>\n",
       "      <td>0.875623</td>\n",
       "      <td>0.795429</td>\n",
       "    </tr>\n",
       "    <tr>\n",
       "      <th>rfgap</th>\n",
       "      <td>0.875623</td>\n",
       "      <td>0.795429</td>\n",
       "    </tr>\n",
       "    <tr>\n",
       "      <th rowspan=\"2\" valign=\"top\">110269</th>\n",
       "      <th>oob</th>\n",
       "      <td>0.871979</td>\n",
       "      <td>0.799619</td>\n",
       "    </tr>\n",
       "    <tr>\n",
       "      <th>original</th>\n",
       "      <td>0.871979</td>\n",
       "      <td>0.799619</td>\n",
       "    </tr>\n",
       "    <tr>\n",
       "      <th>...</th>\n",
       "      <th>...</th>\n",
       "      <th>...</th>\n",
       "      <td>...</td>\n",
       "      <td>...</td>\n",
       "    </tr>\n",
       "    <tr>\n",
       "      <th rowspan=\"5\" valign=\"top\">wilt</th>\n",
       "      <th rowspan=\"2\" valign=\"top\">671156</th>\n",
       "      <th>original</th>\n",
       "      <td>0.997294</td>\n",
       "      <td>0.981990</td>\n",
       "    </tr>\n",
       "    <tr>\n",
       "      <th>rfgap</th>\n",
       "      <td>0.997294</td>\n",
       "      <td>0.981990</td>\n",
       "    </tr>\n",
       "    <tr>\n",
       "      <th rowspan=\"3\" valign=\"top\">732181</th>\n",
       "      <th>oob</th>\n",
       "      <td>0.990492</td>\n",
       "      <td>0.979037</td>\n",
       "    </tr>\n",
       "    <tr>\n",
       "      <th>original</th>\n",
       "      <td>0.990492</td>\n",
       "      <td>0.979037</td>\n",
       "    </tr>\n",
       "    <tr>\n",
       "      <th>rfgap</th>\n",
       "      <td>0.990492</td>\n",
       "      <td>0.979037</td>\n",
       "    </tr>\n",
       "  </tbody>\n",
       "</table>\n",
       "<p>1470 rows × 2 columns</p>\n",
       "</div>"
      ],
      "text/plain": [
       "                                      ice_auc_test  oob_score_\n",
       "name        random_state prox_method                          \n",
       "Bioresponse 54887        oob              0.875623    0.795429\n",
       "                         original         0.875623    0.795429\n",
       "                         rfgap            0.875623    0.795429\n",
       "            110269       oob              0.871979    0.799619\n",
       "                         original         0.871979    0.799619\n",
       "...                                            ...         ...\n",
       "wilt        671156       original         0.997294    0.981990\n",
       "                         rfgap            0.997294    0.981990\n",
       "            732181       oob              0.990492    0.979037\n",
       "                         original         0.990492    0.979037\n",
       "                         rfgap            0.990492    0.979037\n",
       "\n",
       "[1470 rows x 2 columns]"
      ]
     },
     "execution_count": 7,
     "metadata": {},
     "output_type": "execute_result"
    }
   ],
   "source": [
    "df[['name', 'random_state', 'prox_method', 'ice_auc_test', 'oob_score_']].groupby(['name', 'random_state', 'prox_method']).mean()"
   ]
  },
  {
   "cell_type": "code",
   "execution_count": 8,
   "id": "f9a4e2dc",
   "metadata": {},
   "outputs": [
    {
     "data": {
      "text/plain": [
       "Index(['prox_method', 'conformity_k', 'random_state', 'oob_score_',\n",
       "       'diff_proba_auc', 'diff_proba_auc_test', 'conformity_auc',\n",
       "       'conformity_auc_test', 'ice_auc', 'ice_auc_test', 'name', 'n_features',\n",
       "       'n_samples'],\n",
       "      dtype='object')"
      ]
     },
     "execution_count": 8,
     "metadata": {},
     "output_type": "execute_result"
    }
   ],
   "source": [
    "df.keys()"
   ]
  },
  {
   "cell_type": "code",
   "execution_count": 9,
   "id": "30b43dd0",
   "metadata": {},
   "outputs": [],
   "source": [
    "df_long = df.melt(id_vars=['name', 'random_state', 'prox_method', 'conformity_k',\n",
    "                 ],\n",
    "         value_vars=['ice_auc', 'diff_proba_auc', 'conformity_auc','ice_auc_test', 'diff_proba_auc_test', 'conformity_auc_test'],\n",
    "         var_name='metric',\n",
    "         value_name='auc'\n",
    "         )"
   ]
  },
  {
   "cell_type": "code",
   "execution_count": 10,
   "id": "6b55e899",
   "metadata": {},
   "outputs": [
    {
     "data": {
      "application/vnd.microsoft.datawrangler.viewer.v0+json": {
       "columns": [
        {
         "name": "index",
         "rawType": "int64",
         "type": "integer"
        },
        {
         "name": "name",
         "rawType": "object",
         "type": "string"
        },
        {
         "name": "random_state",
         "rawType": "int64",
         "type": "integer"
        },
        {
         "name": "prox_method",
         "rawType": "object",
         "type": "string"
        },
        {
         "name": "conformity_k",
         "rawType": "int64",
         "type": "integer"
        },
        {
         "name": "metric",
         "rawType": "object",
         "type": "string"
        },
        {
         "name": "auc",
         "rawType": "float64",
         "type": "float"
        }
       ],
       "ref": "9aad5ac2-455d-46dc-ae19-ecf51e00b9a7",
       "rows": [
        [
         "0",
         "kc1",
         "671156",
         "rfgap",
         "10",
         "ice_auc",
         "0.9489250274640765"
        ],
        [
         "1",
         "cnae-9",
         "365839",
         "oob",
         "20",
         "ice_auc",
         "0.974804071926269"
        ],
        [
         "2",
         "qsar-biodeg",
         "671156",
         "original",
         "100",
         "ice_auc",
         "0.9392960206037748"
        ],
        [
         "3",
         "spambase",
         "259179",
         "oob",
         "20",
         "ice_auc",
         "0.9745179369375855"
        ],
        [
         "4",
         "wdbc",
         "137338",
         "oob",
         "100",
         "ice_auc",
         "0.9795737661251186"
        ],
        [
         "5",
         "wdbc",
         "732181",
         "rfgap",
         "5",
         "ice_auc",
         "0.9723633543323503"
        ],
        [
         "6",
         "har",
         "137338",
         "rfgap",
         "50",
         "ice_auc",
         "0.9964048648448761"
        ],
        [
         "7",
         "steel-plates-fault",
         "54887",
         "oob",
         "5",
         "ice_auc",
         "0.9054863591929686"
        ],
        [
         "8",
         "semeion",
         "732181",
         "original",
         "100",
         "ice_auc",
         "0.9654940207546622"
        ],
        [
         "9",
         "satimage",
         "121959",
         "oob",
         "10",
         "ice_auc",
         "0.9723545009478591"
        ],
        [
         "10",
         "churn",
         "54887",
         "rfgap",
         "1",
         "ice_auc",
         "0.9621513633676532"
        ],
        [
         "11",
         "analcatdata_authorship",
         "365839",
         "rfgap",
         "20",
         "ice_auc",
         "0.9731010124603212"
        ],
        [
         "12",
         "isolet",
         "131933",
         "oob",
         "5",
         "ice_auc",
         "0.9710443163790676"
        ],
        [
         "13",
         "analcatdata_authorship",
         "131933",
         "oob",
         "5",
         "ice_auc",
         "0.9769676056619437"
        ],
        [
         "14",
         "ozone-level-8hr",
         "131933",
         "oob",
         "5",
         "ice_auc",
         "0.9776414829064451"
        ],
        [
         "15",
         "optdigits",
         "259179",
         "rfgap",
         "1",
         "ice_auc",
         "0.9892860960498174"
        ],
        [
         "16",
         "semeion",
         "644168",
         "oob",
         "1",
         "ice_auc",
         "0.9541612223892852"
        ],
        [
         "17",
         "texture",
         "110269",
         "oob",
         "100",
         "ice_auc",
         "0.9942025565946933"
        ],
        [
         "18",
         "segment",
         "671156",
         "rfgap",
         "5",
         "ice_auc",
         "0.9804512737114874"
        ],
        [
         "19",
         "mfeat-fourier",
         "644168",
         "oob",
         "100",
         "ice_auc",
         "0.9383130874583812"
        ],
        [
         "20",
         "mfeat-morphological",
         "365839",
         "original",
         "5",
         "ice_auc",
         "0.9011686158503178"
        ],
        [
         "21",
         "Bioresponse",
         "131933",
         "oob",
         "50",
         "ice_auc",
         "0.8777071523245573"
        ],
        [
         "22",
         "balance-scale",
         "732181",
         "original",
         "10",
         "ice_auc",
         "0.9154811941112656"
        ],
        [
         "23",
         "cmc",
         "137338",
         "rfgap",
         "1",
         "ice_auc",
         "0.7235307906413725"
        ],
        [
         "24",
         "optdigits",
         "131933",
         "oob",
         "50",
         "ice_auc",
         "0.9909391474420323"
        ],
        [
         "25",
         "vowel",
         "671156",
         "original",
         "1",
         "ice_auc",
         "0.9548970285689478"
        ],
        [
         "26",
         "madelon",
         "259179",
         "original",
         "50",
         "ice_auc",
         "0.7458250671882043"
        ],
        [
         "27",
         "vehicle",
         "732181",
         "original",
         "20",
         "ice_auc",
         "0.9062747113009884"
        ],
        [
         "28",
         "diabetes",
         "644168",
         "rfgap",
         "100",
         "ice_auc",
         "0.8787866533512904"
        ],
        [
         "29",
         "mfeat-pixel",
         "121959",
         "original",
         "1",
         "ice_auc",
         "0.9929908670374523"
        ],
        [
         "30",
         "dna",
         "54887",
         "original",
         "10",
         "ice_auc",
         "0.9758055027538582"
        ],
        [
         "31",
         "texture",
         "259179",
         "original",
         "10",
         "ice_auc",
         "0.9931145763399656"
        ],
        [
         "32",
         "Bioresponse",
         "121959",
         "rfgap",
         "10",
         "ice_auc",
         "0.8750135935853658"
        ],
        [
         "33",
         "cnae-9",
         "137338",
         "oob",
         "5",
         "ice_auc",
         "0.9768897517670118"
        ],
        [
         "34",
         "ilpd",
         "110269",
         "original",
         "20",
         "ice_auc",
         "0.86372974077651"
        ],
        [
         "35",
         "ilpd",
         "259179",
         "oob",
         "50",
         "ice_auc",
         "0.8580543015644332"
        ],
        [
         "36",
         "mfeat-factors",
         "110269",
         "oob",
         "50",
         "ice_auc",
         "0.9791721750199422"
        ],
        [
         "37",
         "spambase",
         "732181",
         "original",
         "50",
         "ice_auc",
         "0.9740562052350857"
        ],
        [
         "38",
         "satimage",
         "54887",
         "original",
         "20",
         "ice_auc",
         "0.9787085665572673"
        ],
        [
         "39",
         "mfeat-morphological",
         "54887",
         "oob",
         "20",
         "ice_auc",
         "0.9121836207672461"
        ],
        [
         "40",
         "optdigits",
         "137338",
         "original",
         "10",
         "ice_auc",
         "0.9926663054369769"
        ],
        [
         "41",
         "segment",
         "121959",
         "rfgap",
         "5",
         "ice_auc",
         "0.9858230640283301"
        ],
        [
         "42",
         "Bioresponse",
         "110269",
         "original",
         "200",
         "ice_auc",
         "0.872916816352157"
        ],
        [
         "43",
         "vehicle",
         "137338",
         "original",
         "100",
         "ice_auc",
         "0.9149454352885951"
        ],
        [
         "44",
         "segment",
         "671156",
         "original",
         "1",
         "ice_auc",
         "0.9804512737114874"
        ],
        [
         "45",
         "ilpd",
         "54887",
         "rfgap",
         "50",
         "ice_auc",
         "0.8433898974113819"
        ],
        [
         "46",
         "vehicle",
         "732181",
         "rfgap",
         "50",
         "ice_auc",
         "0.9062747113009884"
        ],
        [
         "47",
         "banknote-authentication",
         "259179",
         "oob",
         "100",
         "ice_auc",
         "0.9917490741376256"
        ],
        [
         "48",
         "kr-vs-kp",
         "671156",
         "oob",
         "20",
         "ice_auc",
         "0.9982573729839104"
        ],
        [
         "49",
         "kr-vs-kp",
         "121959",
         "original",
         "10",
         "ice_auc",
         "0.9959478081968434"
        ]
       ],
       "shape": {
        "columns": 6,
        "rows": 54816
       }
      },
      "text/html": [
       "<div>\n",
       "<style scoped>\n",
       "    .dataframe tbody tr th:only-of-type {\n",
       "        vertical-align: middle;\n",
       "    }\n",
       "\n",
       "    .dataframe tbody tr th {\n",
       "        vertical-align: top;\n",
       "    }\n",
       "\n",
       "    .dataframe thead th {\n",
       "        text-align: right;\n",
       "    }\n",
       "</style>\n",
       "<table border=\"1\" class=\"dataframe\">\n",
       "  <thead>\n",
       "    <tr style=\"text-align: right;\">\n",
       "      <th></th>\n",
       "      <th>name</th>\n",
       "      <th>random_state</th>\n",
       "      <th>prox_method</th>\n",
       "      <th>conformity_k</th>\n",
       "      <th>metric</th>\n",
       "      <th>auc</th>\n",
       "    </tr>\n",
       "  </thead>\n",
       "  <tbody>\n",
       "    <tr>\n",
       "      <th>0</th>\n",
       "      <td>kc1</td>\n",
       "      <td>671156</td>\n",
       "      <td>rfgap</td>\n",
       "      <td>10</td>\n",
       "      <td>ice_auc</td>\n",
       "      <td>0.948925</td>\n",
       "    </tr>\n",
       "    <tr>\n",
       "      <th>1</th>\n",
       "      <td>cnae-9</td>\n",
       "      <td>365839</td>\n",
       "      <td>oob</td>\n",
       "      <td>20</td>\n",
       "      <td>ice_auc</td>\n",
       "      <td>0.974804</td>\n",
       "    </tr>\n",
       "    <tr>\n",
       "      <th>2</th>\n",
       "      <td>qsar-biodeg</td>\n",
       "      <td>671156</td>\n",
       "      <td>original</td>\n",
       "      <td>100</td>\n",
       "      <td>ice_auc</td>\n",
       "      <td>0.939296</td>\n",
       "    </tr>\n",
       "    <tr>\n",
       "      <th>3</th>\n",
       "      <td>spambase</td>\n",
       "      <td>259179</td>\n",
       "      <td>oob</td>\n",
       "      <td>20</td>\n",
       "      <td>ice_auc</td>\n",
       "      <td>0.974518</td>\n",
       "    </tr>\n",
       "    <tr>\n",
       "      <th>4</th>\n",
       "      <td>wdbc</td>\n",
       "      <td>137338</td>\n",
       "      <td>oob</td>\n",
       "      <td>100</td>\n",
       "      <td>ice_auc</td>\n",
       "      <td>0.979574</td>\n",
       "    </tr>\n",
       "    <tr>\n",
       "      <th>...</th>\n",
       "      <td>...</td>\n",
       "      <td>...</td>\n",
       "      <td>...</td>\n",
       "      <td>...</td>\n",
       "      <td>...</td>\n",
       "      <td>...</td>\n",
       "    </tr>\n",
       "    <tr>\n",
       "      <th>54811</th>\n",
       "      <td>dna</td>\n",
       "      <td>732181</td>\n",
       "      <td>rfgap</td>\n",
       "      <td>500</td>\n",
       "      <td>conformity_auc_test</td>\n",
       "      <td>0.997656</td>\n",
       "    </tr>\n",
       "    <tr>\n",
       "      <th>54812</th>\n",
       "      <td>churn</td>\n",
       "      <td>131933</td>\n",
       "      <td>original</td>\n",
       "      <td>200</td>\n",
       "      <td>conformity_auc_test</td>\n",
       "      <td>0.997659</td>\n",
       "    </tr>\n",
       "    <tr>\n",
       "      <th>54813</th>\n",
       "      <td>segment</td>\n",
       "      <td>121959</td>\n",
       "      <td>rfgap</td>\n",
       "      <td>200</td>\n",
       "      <td>conformity_auc_test</td>\n",
       "      <td>0.996474</td>\n",
       "    </tr>\n",
       "    <tr>\n",
       "      <th>54814</th>\n",
       "      <td>first-order-theorem-proving</td>\n",
       "      <td>137338</td>\n",
       "      <td>original</td>\n",
       "      <td>5</td>\n",
       "      <td>conformity_auc_test</td>\n",
       "      <td>0.891185</td>\n",
       "    </tr>\n",
       "    <tr>\n",
       "      <th>54815</th>\n",
       "      <td>pc1</td>\n",
       "      <td>671156</td>\n",
       "      <td>original</td>\n",
       "      <td>20</td>\n",
       "      <td>conformity_auc_test</td>\n",
       "      <td>0.995124</td>\n",
       "    </tr>\n",
       "  </tbody>\n",
       "</table>\n",
       "<p>54816 rows × 6 columns</p>\n",
       "</div>"
      ],
      "text/plain": [
       "                              name  random_state prox_method  conformity_k  \\\n",
       "0                              kc1        671156       rfgap            10   \n",
       "1                           cnae-9        365839         oob            20   \n",
       "2                      qsar-biodeg        671156    original           100   \n",
       "3                         spambase        259179         oob            20   \n",
       "4                             wdbc        137338         oob           100   \n",
       "...                            ...           ...         ...           ...   \n",
       "54811                          dna        732181       rfgap           500   \n",
       "54812                        churn        131933    original           200   \n",
       "54813                      segment        121959       rfgap           200   \n",
       "54814  first-order-theorem-proving        137338    original             5   \n",
       "54815                          pc1        671156    original            20   \n",
       "\n",
       "                    metric       auc  \n",
       "0                  ice_auc  0.948925  \n",
       "1                  ice_auc  0.974804  \n",
       "2                  ice_auc  0.939296  \n",
       "3                  ice_auc  0.974518  \n",
       "4                  ice_auc  0.979574  \n",
       "...                    ...       ...  \n",
       "54811  conformity_auc_test  0.997656  \n",
       "54812  conformity_auc_test  0.997659  \n",
       "54813  conformity_auc_test  0.996474  \n",
       "54814  conformity_auc_test  0.891185  \n",
       "54815  conformity_auc_test  0.995124  \n",
       "\n",
       "[54816 rows x 6 columns]"
      ]
     },
     "execution_count": 10,
     "metadata": {},
     "output_type": "execute_result"
    }
   ],
   "source": [
    "df_long"
   ]
  },
  {
   "cell_type": "code",
   "execution_count": 11,
   "id": "e7b5575d",
   "metadata": {},
   "outputs": [
    {
     "data": {
      "application/vnd.microsoft.datawrangler.viewer.v0+json": {
       "columns": [
        {
         "name": "index",
         "rawType": "int64",
         "type": "integer"
        },
        {
         "name": "name",
         "rawType": "object",
         "type": "string"
        },
        {
         "name": "random_state",
         "rawType": "int64",
         "type": "integer"
        },
        {
         "name": "prox_method",
         "rawType": "object",
         "type": "string"
        },
        {
         "name": "conformity_k",
         "rawType": "int64",
         "type": "integer"
        },
        {
         "name": "metric",
         "rawType": "object",
         "type": "string"
        },
        {
         "name": "auc",
         "rawType": "float64",
         "type": "float"
        }
       ],
       "ref": "5299761a-4c19-42b1-8157-d5f578679bdd",
       "rows": [
        [
         "0",
         "kc1",
         "671156",
         "rfgap",
         "10",
         "ice_auc",
         "0.9489250274640765"
        ],
        [
         "1",
         "cnae-9",
         "365839",
         "oob",
         "20",
         "ice_auc",
         "0.974804071926269"
        ],
        [
         "2",
         "qsar-biodeg",
         "671156",
         "original",
         "100",
         "ice_auc",
         "0.9392960206037748"
        ],
        [
         "3",
         "spambase",
         "259179",
         "oob",
         "20",
         "ice_auc",
         "0.9745179369375855"
        ],
        [
         "4",
         "wdbc",
         "137338",
         "oob",
         "100",
         "ice_auc",
         "0.9795737661251186"
        ],
        [
         "5",
         "wdbc",
         "732181",
         "rfgap",
         "5",
         "ice_auc",
         "0.9723633543323503"
        ],
        [
         "6",
         "har",
         "137338",
         "rfgap",
         "50",
         "ice_auc",
         "0.9964048648448761"
        ],
        [
         "7",
         "steel-plates-fault",
         "54887",
         "oob",
         "5",
         "ice_auc",
         "0.9054863591929686"
        ],
        [
         "8",
         "semeion",
         "732181",
         "original",
         "100",
         "ice_auc",
         "0.9654940207546622"
        ],
        [
         "9",
         "satimage",
         "121959",
         "oob",
         "10",
         "ice_auc",
         "0.9723545009478591"
        ],
        [
         "10",
         "churn",
         "54887",
         "rfgap",
         "1",
         "ice_auc",
         "0.9621513633676532"
        ],
        [
         "11",
         "analcatdata_authorship",
         "365839",
         "rfgap",
         "20",
         "ice_auc",
         "0.9731010124603212"
        ],
        [
         "12",
         "isolet",
         "131933",
         "oob",
         "5",
         "ice_auc",
         "0.9710443163790676"
        ],
        [
         "13",
         "analcatdata_authorship",
         "131933",
         "oob",
         "5",
         "ice_auc",
         "0.9769676056619437"
        ],
        [
         "14",
         "ozone-level-8hr",
         "131933",
         "oob",
         "5",
         "ice_auc",
         "0.9776414829064451"
        ],
        [
         "15",
         "optdigits",
         "259179",
         "rfgap",
         "1",
         "ice_auc",
         "0.9892860960498174"
        ],
        [
         "16",
         "semeion",
         "644168",
         "oob",
         "1",
         "ice_auc",
         "0.9541612223892852"
        ],
        [
         "17",
         "texture",
         "110269",
         "oob",
         "100",
         "ice_auc",
         "0.9942025565946933"
        ],
        [
         "18",
         "segment",
         "671156",
         "rfgap",
         "5",
         "ice_auc",
         "0.9804512737114874"
        ],
        [
         "19",
         "mfeat-fourier",
         "644168",
         "oob",
         "100",
         "ice_auc",
         "0.9383130874583812"
        ],
        [
         "20",
         "mfeat-morphological",
         "365839",
         "original",
         "5",
         "ice_auc",
         "0.9011686158503178"
        ],
        [
         "21",
         "Bioresponse",
         "131933",
         "oob",
         "50",
         "ice_auc",
         "0.8777071523245573"
        ],
        [
         "22",
         "balance-scale",
         "732181",
         "original",
         "10",
         "ice_auc",
         "0.9154811941112656"
        ],
        [
         "23",
         "cmc",
         "137338",
         "rfgap",
         "1",
         "ice_auc",
         "0.7235307906413725"
        ],
        [
         "24",
         "optdigits",
         "131933",
         "oob",
         "50",
         "ice_auc",
         "0.9909391474420323"
        ],
        [
         "25",
         "vowel",
         "671156",
         "original",
         "1",
         "ice_auc",
         "0.9548970285689478"
        ],
        [
         "26",
         "madelon",
         "259179",
         "original",
         "50",
         "ice_auc",
         "0.7458250671882043"
        ],
        [
         "27",
         "vehicle",
         "732181",
         "original",
         "20",
         "ice_auc",
         "0.9062747113009884"
        ],
        [
         "28",
         "diabetes",
         "644168",
         "rfgap",
         "100",
         "ice_auc",
         "0.8787866533512904"
        ],
        [
         "29",
         "mfeat-pixel",
         "121959",
         "original",
         "1",
         "ice_auc",
         "0.9929908670374523"
        ],
        [
         "30",
         "dna",
         "54887",
         "original",
         "10",
         "ice_auc",
         "0.9758055027538582"
        ],
        [
         "31",
         "texture",
         "259179",
         "original",
         "10",
         "ice_auc",
         "0.9931145763399656"
        ],
        [
         "32",
         "Bioresponse",
         "121959",
         "rfgap",
         "10",
         "ice_auc",
         "0.8750135935853658"
        ],
        [
         "33",
         "cnae-9",
         "137338",
         "oob",
         "5",
         "ice_auc",
         "0.9768897517670118"
        ],
        [
         "34",
         "ilpd",
         "110269",
         "original",
         "20",
         "ice_auc",
         "0.86372974077651"
        ],
        [
         "35",
         "ilpd",
         "259179",
         "oob",
         "50",
         "ice_auc",
         "0.8580543015644332"
        ],
        [
         "36",
         "mfeat-factors",
         "110269",
         "oob",
         "50",
         "ice_auc",
         "0.9791721750199422"
        ],
        [
         "37",
         "spambase",
         "732181",
         "original",
         "50",
         "ice_auc",
         "0.9740562052350857"
        ],
        [
         "38",
         "satimage",
         "54887",
         "original",
         "20",
         "ice_auc",
         "0.9787085665572673"
        ],
        [
         "39",
         "mfeat-morphological",
         "54887",
         "oob",
         "20",
         "ice_auc",
         "0.9121836207672461"
        ],
        [
         "40",
         "optdigits",
         "137338",
         "original",
         "10",
         "ice_auc",
         "0.9926663054369769"
        ],
        [
         "41",
         "segment",
         "121959",
         "rfgap",
         "5",
         "ice_auc",
         "0.9858230640283301"
        ],
        [
         "42",
         "Bioresponse",
         "110269",
         "original",
         "200",
         "ice_auc",
         "0.872916816352157"
        ],
        [
         "43",
         "vehicle",
         "137338",
         "original",
         "100",
         "ice_auc",
         "0.9149454352885951"
        ],
        [
         "44",
         "segment",
         "671156",
         "original",
         "1",
         "ice_auc",
         "0.9804512737114874"
        ],
        [
         "45",
         "ilpd",
         "54887",
         "rfgap",
         "50",
         "ice_auc",
         "0.8433898974113819"
        ],
        [
         "46",
         "vehicle",
         "732181",
         "rfgap",
         "50",
         "ice_auc",
         "0.9062747113009884"
        ],
        [
         "47",
         "banknote-authentication",
         "259179",
         "oob",
         "100",
         "ice_auc",
         "0.9917490741376256"
        ],
        [
         "48",
         "kr-vs-kp",
         "671156",
         "oob",
         "20",
         "ice_auc",
         "0.9982573729839104"
        ],
        [
         "49",
         "kr-vs-kp",
         "121959",
         "original",
         "10",
         "ice_auc",
         "0.9959478081968434"
        ]
       ],
       "shape": {
        "columns": 6,
        "rows": 54816
       }
      },
      "text/html": [
       "<div>\n",
       "<style scoped>\n",
       "    .dataframe tbody tr th:only-of-type {\n",
       "        vertical-align: middle;\n",
       "    }\n",
       "\n",
       "    .dataframe tbody tr th {\n",
       "        vertical-align: top;\n",
       "    }\n",
       "\n",
       "    .dataframe thead th {\n",
       "        text-align: right;\n",
       "    }\n",
       "</style>\n",
       "<table border=\"1\" class=\"dataframe\">\n",
       "  <thead>\n",
       "    <tr style=\"text-align: right;\">\n",
       "      <th></th>\n",
       "      <th>name</th>\n",
       "      <th>random_state</th>\n",
       "      <th>prox_method</th>\n",
       "      <th>conformity_k</th>\n",
       "      <th>metric</th>\n",
       "      <th>auc</th>\n",
       "    </tr>\n",
       "  </thead>\n",
       "  <tbody>\n",
       "    <tr>\n",
       "      <th>0</th>\n",
       "      <td>kc1</td>\n",
       "      <td>671156</td>\n",
       "      <td>rfgap</td>\n",
       "      <td>10</td>\n",
       "      <td>ice_auc</td>\n",
       "      <td>0.948925</td>\n",
       "    </tr>\n",
       "    <tr>\n",
       "      <th>1</th>\n",
       "      <td>cnae-9</td>\n",
       "      <td>365839</td>\n",
       "      <td>oob</td>\n",
       "      <td>20</td>\n",
       "      <td>ice_auc</td>\n",
       "      <td>0.974804</td>\n",
       "    </tr>\n",
       "    <tr>\n",
       "      <th>2</th>\n",
       "      <td>qsar-biodeg</td>\n",
       "      <td>671156</td>\n",
       "      <td>original</td>\n",
       "      <td>100</td>\n",
       "      <td>ice_auc</td>\n",
       "      <td>0.939296</td>\n",
       "    </tr>\n",
       "    <tr>\n",
       "      <th>3</th>\n",
       "      <td>spambase</td>\n",
       "      <td>259179</td>\n",
       "      <td>oob</td>\n",
       "      <td>20</td>\n",
       "      <td>ice_auc</td>\n",
       "      <td>0.974518</td>\n",
       "    </tr>\n",
       "    <tr>\n",
       "      <th>4</th>\n",
       "      <td>wdbc</td>\n",
       "      <td>137338</td>\n",
       "      <td>oob</td>\n",
       "      <td>100</td>\n",
       "      <td>ice_auc</td>\n",
       "      <td>0.979574</td>\n",
       "    </tr>\n",
       "    <tr>\n",
       "      <th>...</th>\n",
       "      <td>...</td>\n",
       "      <td>...</td>\n",
       "      <td>...</td>\n",
       "      <td>...</td>\n",
       "      <td>...</td>\n",
       "      <td>...</td>\n",
       "    </tr>\n",
       "    <tr>\n",
       "      <th>54811</th>\n",
       "      <td>dna</td>\n",
       "      <td>732181</td>\n",
       "      <td>rfgap</td>\n",
       "      <td>500</td>\n",
       "      <td>conformity_auc_test</td>\n",
       "      <td>0.997656</td>\n",
       "    </tr>\n",
       "    <tr>\n",
       "      <th>54812</th>\n",
       "      <td>churn</td>\n",
       "      <td>131933</td>\n",
       "      <td>original</td>\n",
       "      <td>200</td>\n",
       "      <td>conformity_auc_test</td>\n",
       "      <td>0.997659</td>\n",
       "    </tr>\n",
       "    <tr>\n",
       "      <th>54813</th>\n",
       "      <td>segment</td>\n",
       "      <td>121959</td>\n",
       "      <td>rfgap</td>\n",
       "      <td>200</td>\n",
       "      <td>conformity_auc_test</td>\n",
       "      <td>0.996474</td>\n",
       "    </tr>\n",
       "    <tr>\n",
       "      <th>54814</th>\n",
       "      <td>first-order-theorem-proving</td>\n",
       "      <td>137338</td>\n",
       "      <td>original</td>\n",
       "      <td>5</td>\n",
       "      <td>conformity_auc_test</td>\n",
       "      <td>0.891185</td>\n",
       "    </tr>\n",
       "    <tr>\n",
       "      <th>54815</th>\n",
       "      <td>pc1</td>\n",
       "      <td>671156</td>\n",
       "      <td>original</td>\n",
       "      <td>20</td>\n",
       "      <td>conformity_auc_test</td>\n",
       "      <td>0.995124</td>\n",
       "    </tr>\n",
       "  </tbody>\n",
       "</table>\n",
       "<p>54816 rows × 6 columns</p>\n",
       "</div>"
      ],
      "text/plain": [
       "                              name  random_state prox_method  conformity_k  \\\n",
       "0                              kc1        671156       rfgap            10   \n",
       "1                           cnae-9        365839         oob            20   \n",
       "2                      qsar-biodeg        671156    original           100   \n",
       "3                         spambase        259179         oob            20   \n",
       "4                             wdbc        137338         oob           100   \n",
       "...                            ...           ...         ...           ...   \n",
       "54811                          dna        732181       rfgap           500   \n",
       "54812                        churn        131933    original           200   \n",
       "54813                      segment        121959       rfgap           200   \n",
       "54814  first-order-theorem-proving        137338    original             5   \n",
       "54815                          pc1        671156    original            20   \n",
       "\n",
       "                    metric       auc  \n",
       "0                  ice_auc  0.948925  \n",
       "1                  ice_auc  0.974804  \n",
       "2                  ice_auc  0.939296  \n",
       "3                  ice_auc  0.974518  \n",
       "4                  ice_auc  0.979574  \n",
       "...                    ...       ...  \n",
       "54811  conformity_auc_test  0.997656  \n",
       "54812  conformity_auc_test  0.997659  \n",
       "54813  conformity_auc_test  0.996474  \n",
       "54814  conformity_auc_test  0.891185  \n",
       "54815  conformity_auc_test  0.995124  \n",
       "\n",
       "[54816 rows x 6 columns]"
      ]
     },
     "execution_count": 11,
     "metadata": {},
     "output_type": "execute_result"
    }
   ],
   "source": [
    "df_long"
   ]
  },
  {
   "cell_type": "code",
   "execution_count": 12,
   "id": "a92efa3c",
   "metadata": {},
   "outputs": [],
   "source": [
    "df_group = df_long.groupby(['prox_method', 'conformity_k', 'metric'])['auc'].agg(['mean', 'std']).reset_index()\n"
   ]
  },
  {
   "cell_type": "code",
   "execution_count": 13,
   "id": "24baa6d8",
   "metadata": {},
   "outputs": [
    {
     "data": {
      "application/vnd.microsoft.datawrangler.viewer.v0+json": {
       "columns": [
        {
         "name": "index",
         "rawType": "int64",
         "type": "integer"
        },
        {
         "name": "prox_method",
         "rawType": "object",
         "type": "string"
        },
        {
         "name": "conformity_k",
         "rawType": "int64",
         "type": "integer"
        },
        {
         "name": "metric",
         "rawType": "object",
         "type": "string"
        },
        {
         "name": "mean",
         "rawType": "float64",
         "type": "float"
        },
        {
         "name": "std",
         "rawType": "float64",
         "type": "float"
        }
       ],
       "ref": "4a1c65c6-54f8-4d88-be39-a7c163e375fa",
       "rows": [
        [
         "0",
         "oob",
         "1",
         "conformity_auc",
         "0.9333666337697929",
         "0.09868638644529859"
        ],
        [
         "1",
         "oob",
         "1",
         "conformity_auc_test",
         "0.9350854176936039",
         "0.09559942396132391"
        ],
        [
         "2",
         "oob",
         "1",
         "diff_proba_auc",
         "0.9250664025383076",
         "0.13259886991886324"
        ],
        [
         "3",
         "oob",
         "1",
         "diff_proba_auc_test",
         "0.9286801591520366",
         "0.13120003914480718"
        ],
        [
         "4",
         "oob",
         "1",
         "ice_auc",
         "0.9292545438142347",
         "0.11023964758977914"
        ],
        [
         "5",
         "oob",
         "1",
         "ice_auc_test",
         "0.9236455537790861",
         "0.13037928516738562"
        ],
        [
         "6",
         "oob",
         "5",
         "conformity_auc",
         "0.9541886421489614",
         "0.08762984017090553"
        ],
        [
         "7",
         "oob",
         "5",
         "conformity_auc_test",
         "0.951042863866281",
         "0.09065811434321988"
        ],
        [
         "8",
         "oob",
         "5",
         "diff_proba_auc",
         "0.9250664025383076",
         "0.13259886991886327"
        ],
        [
         "9",
         "oob",
         "5",
         "diff_proba_auc_test",
         "0.9286801591520366",
         "0.1312000391448072"
        ],
        [
         "10",
         "oob",
         "5",
         "ice_auc",
         "0.9292545438142347",
         "0.1102396475897792"
        ],
        [
         "11",
         "oob",
         "5",
         "ice_auc_test",
         "0.9236455537790861",
         "0.13037928516738542"
        ],
        [
         "12",
         "oob",
         "10",
         "conformity_auc",
         "0.9611094435386005",
         "0.0854462288032334"
        ],
        [
         "13",
         "oob",
         "10",
         "conformity_auc_test",
         "0.9566927817522907",
         "0.08978235427954305"
        ],
        [
         "14",
         "oob",
         "10",
         "diff_proba_auc",
         "0.9250664025383076",
         "0.13259886991886324"
        ],
        [
         "15",
         "oob",
         "10",
         "diff_proba_auc_test",
         "0.9286801591520366",
         "0.13120003914480727"
        ],
        [
         "16",
         "oob",
         "10",
         "ice_auc",
         "0.9292545438142347",
         "0.11023964758977918"
        ],
        [
         "17",
         "oob",
         "10",
         "ice_auc_test",
         "0.9236455537790861",
         "0.13037928516738556"
        ],
        [
         "18",
         "oob",
         "20",
         "conformity_auc",
         "0.9651026442588947",
         "0.08459148684455127"
        ],
        [
         "19",
         "oob",
         "20",
         "conformity_auc_test",
         "0.960298158196847",
         "0.08922461216000714"
        ],
        [
         "20",
         "oob",
         "20",
         "diff_proba_auc",
         "0.9238431216796614",
         "0.13373607099630408"
        ],
        [
         "21",
         "oob",
         "20",
         "diff_proba_auc_test",
         "0.927478707394931",
         "0.13232906141631215"
        ],
        [
         "22",
         "oob",
         "20",
         "ice_auc",
         "0.9283622508064633",
         "0.1112366241631264"
        ],
        [
         "23",
         "oob",
         "20",
         "ice_auc_test",
         "0.922529807673737",
         "0.131534344947845"
        ],
        [
         "24",
         "oob",
         "50",
         "conformity_auc",
         "0.9661295135779652",
         "0.08641764838692496"
        ],
        [
         "25",
         "oob",
         "50",
         "conformity_auc_test",
         "0.963034023983399",
         "0.0880558914233114"
        ],
        [
         "26",
         "oob",
         "50",
         "diff_proba_auc",
         "0.9185641444262921",
         "0.14024850078629933"
        ],
        [
         "27",
         "oob",
         "50",
         "diff_proba_auc_test",
         "0.9222638874128938",
         "0.13891753867897905"
        ],
        [
         "28",
         "oob",
         "50",
         "ice_auc",
         "0.9250807871972516",
         "0.11681188126218445"
        ],
        [
         "29",
         "oob",
         "50",
         "ice_auc_test",
         "0.9187801084413388",
         "0.13818572192624645"
        ],
        [
         "30",
         "oob",
         "100",
         "conformity_auc",
         "0.9787367152855574",
         "0.035055269787214925"
        ],
        [
         "31",
         "oob",
         "100",
         "conformity_auc_test",
         "0.9760245970689975",
         "0.036262115863107326"
        ],
        [
         "32",
         "oob",
         "100",
         "diff_proba_auc",
         "0.9331537182250565",
         "0.0896204096977326"
        ],
        [
         "33",
         "oob",
         "100",
         "diff_proba_auc_test",
         "0.9368831572201538",
         "0.08535824477918451"
        ],
        [
         "34",
         "oob",
         "100",
         "ice_auc",
         "0.9381588010534357",
         "0.06967106731141033"
        ],
        [
         "35",
         "oob",
         "100",
         "ice_auc_test",
         "0.9341265998247104",
         "0.07944659034384359"
        ],
        [
         "36",
         "oob",
         "200",
         "conformity_auc",
         "0.978859969035299",
         "0.040759580113243744"
        ],
        [
         "37",
         "oob",
         "200",
         "conformity_auc_test",
         "0.9765590141282193",
         "0.04049923769723128"
        ],
        [
         "38",
         "oob",
         "200",
         "diff_proba_auc",
         "0.9315771063370665",
         "0.10659043325333639"
        ],
        [
         "39",
         "oob",
         "200",
         "diff_proba_auc_test",
         "0.9357076898580695",
         "0.09999102952583648"
        ],
        [
         "40",
         "oob",
         "200",
         "ice_auc",
         "0.935515040686659",
         "0.08307324240637308"
        ],
        [
         "41",
         "oob",
         "200",
         "ice_auc_test",
         "0.9318917845435633",
         "0.09385658551305065"
        ],
        [
         "42",
         "oob",
         "500",
         "conformity_auc",
         "0.9852139318185843",
         "0.024629664103789896"
        ],
        [
         "43",
         "oob",
         "500",
         "conformity_auc_test",
         "0.9832087223548083",
         "0.023652678307022876"
        ],
        [
         "44",
         "oob",
         "500",
         "diff_proba_auc",
         "0.9355733056957737",
         "0.09023234238453093"
        ],
        [
         "45",
         "oob",
         "500",
         "diff_proba_auc_test",
         "0.9410546207924735",
         "0.08209836531383347"
        ],
        [
         "46",
         "oob",
         "500",
         "ice_auc",
         "0.9317532964149149",
         "0.08259522880756519"
        ],
        [
         "47",
         "oob",
         "500",
         "ice_auc_test",
         "0.9358667185273901",
         "0.07505450401291824"
        ],
        [
         "48",
         "original",
         "1",
         "conformity_auc",
         "0.9328735639547003",
         "0.09967398366490686"
        ],
        [
         "49",
         "original",
         "1",
         "conformity_auc_test",
         "0.934675777777306",
         "0.09656854679121568"
        ]
       ],
       "shape": {
        "columns": 5,
        "rows": 144
       }
      },
      "text/html": [
       "<div>\n",
       "<style scoped>\n",
       "    .dataframe tbody tr th:only-of-type {\n",
       "        vertical-align: middle;\n",
       "    }\n",
       "\n",
       "    .dataframe tbody tr th {\n",
       "        vertical-align: top;\n",
       "    }\n",
       "\n",
       "    .dataframe thead th {\n",
       "        text-align: right;\n",
       "    }\n",
       "</style>\n",
       "<table border=\"1\" class=\"dataframe\">\n",
       "  <thead>\n",
       "    <tr style=\"text-align: right;\">\n",
       "      <th></th>\n",
       "      <th>prox_method</th>\n",
       "      <th>conformity_k</th>\n",
       "      <th>metric</th>\n",
       "      <th>mean</th>\n",
       "      <th>std</th>\n",
       "    </tr>\n",
       "  </thead>\n",
       "  <tbody>\n",
       "    <tr>\n",
       "      <th>0</th>\n",
       "      <td>oob</td>\n",
       "      <td>1</td>\n",
       "      <td>conformity_auc</td>\n",
       "      <td>0.933367</td>\n",
       "      <td>0.098686</td>\n",
       "    </tr>\n",
       "    <tr>\n",
       "      <th>1</th>\n",
       "      <td>oob</td>\n",
       "      <td>1</td>\n",
       "      <td>conformity_auc_test</td>\n",
       "      <td>0.935085</td>\n",
       "      <td>0.095599</td>\n",
       "    </tr>\n",
       "    <tr>\n",
       "      <th>2</th>\n",
       "      <td>oob</td>\n",
       "      <td>1</td>\n",
       "      <td>diff_proba_auc</td>\n",
       "      <td>0.925066</td>\n",
       "      <td>0.132599</td>\n",
       "    </tr>\n",
       "    <tr>\n",
       "      <th>3</th>\n",
       "      <td>oob</td>\n",
       "      <td>1</td>\n",
       "      <td>diff_proba_auc_test</td>\n",
       "      <td>0.928680</td>\n",
       "      <td>0.131200</td>\n",
       "    </tr>\n",
       "    <tr>\n",
       "      <th>4</th>\n",
       "      <td>oob</td>\n",
       "      <td>1</td>\n",
       "      <td>ice_auc</td>\n",
       "      <td>0.929255</td>\n",
       "      <td>0.110240</td>\n",
       "    </tr>\n",
       "    <tr>\n",
       "      <th>...</th>\n",
       "      <td>...</td>\n",
       "      <td>...</td>\n",
       "      <td>...</td>\n",
       "      <td>...</td>\n",
       "      <td>...</td>\n",
       "    </tr>\n",
       "    <tr>\n",
       "      <th>139</th>\n",
       "      <td>rfgap</td>\n",
       "      <td>500</td>\n",
       "      <td>conformity_auc_test</td>\n",
       "      <td>0.976824</td>\n",
       "      <td>0.030789</td>\n",
       "    </tr>\n",
       "    <tr>\n",
       "      <th>140</th>\n",
       "      <td>rfgap</td>\n",
       "      <td>500</td>\n",
       "      <td>diff_proba_auc</td>\n",
       "      <td>0.921422</td>\n",
       "      <td>0.097848</td>\n",
       "    </tr>\n",
       "    <tr>\n",
       "      <th>141</th>\n",
       "      <td>rfgap</td>\n",
       "      <td>500</td>\n",
       "      <td>diff_proba_auc_test</td>\n",
       "      <td>0.928455</td>\n",
       "      <td>0.088636</td>\n",
       "    </tr>\n",
       "    <tr>\n",
       "      <th>142</th>\n",
       "      <td>rfgap</td>\n",
       "      <td>500</td>\n",
       "      <td>ice_auc</td>\n",
       "      <td>0.918767</td>\n",
       "      <td>0.089627</td>\n",
       "    </tr>\n",
       "    <tr>\n",
       "      <th>143</th>\n",
       "      <td>rfgap</td>\n",
       "      <td>500</td>\n",
       "      <td>ice_auc_test</td>\n",
       "      <td>0.923586</td>\n",
       "      <td>0.082232</td>\n",
       "    </tr>\n",
       "  </tbody>\n",
       "</table>\n",
       "<p>144 rows × 5 columns</p>\n",
       "</div>"
      ],
      "text/plain": [
       "    prox_method  conformity_k               metric      mean       std\n",
       "0           oob             1       conformity_auc  0.933367  0.098686\n",
       "1           oob             1  conformity_auc_test  0.935085  0.095599\n",
       "2           oob             1       diff_proba_auc  0.925066  0.132599\n",
       "3           oob             1  diff_proba_auc_test  0.928680  0.131200\n",
       "4           oob             1              ice_auc  0.929255  0.110240\n",
       "..          ...           ...                  ...       ...       ...\n",
       "139       rfgap           500  conformity_auc_test  0.976824  0.030789\n",
       "140       rfgap           500       diff_proba_auc  0.921422  0.097848\n",
       "141       rfgap           500  diff_proba_auc_test  0.928455  0.088636\n",
       "142       rfgap           500              ice_auc  0.918767  0.089627\n",
       "143       rfgap           500         ice_auc_test  0.923586  0.082232\n",
       "\n",
       "[144 rows x 5 columns]"
      ]
     },
     "execution_count": 13,
     "metadata": {},
     "output_type": "execute_result"
    }
   ],
   "source": [
    "df_group"
   ]
  },
  {
   "cell_type": "code",
   "execution_count": 14,
   "id": "f8ca7098",
   "metadata": {},
   "outputs": [
    {
     "data": {
      "application/vnd.microsoft.datawrangler.viewer.v0+json": {
       "columns": [
        {
         "name": "index",
         "rawType": "int64",
         "type": "integer"
        },
        {
         "name": "prox_method",
         "rawType": "object",
         "type": "string"
        },
        {
         "name": "conformity_k",
         "rawType": "int64",
         "type": "integer"
        },
        {
         "name": "conformity_auc",
         "rawType": "float64",
         "type": "float"
        },
        {
         "name": "conformity_auc_test",
         "rawType": "float64",
         "type": "float"
        },
        {
         "name": "diff_proba_auc",
         "rawType": "float64",
         "type": "float"
        },
        {
         "name": "diff_proba_auc_test",
         "rawType": "float64",
         "type": "float"
        },
        {
         "name": "ice_auc",
         "rawType": "float64",
         "type": "float"
        },
        {
         "name": "ice_auc_test",
         "rawType": "float64",
         "type": "float"
        }
       ],
       "ref": "d0de9070-d19c-4a47-926d-cb5ce509066a",
       "rows": [
        [
         "0",
         "oob",
         "1",
         "0.9333666337697929",
         "0.9350854176936039",
         "0.9250664025383076",
         "0.9286801591520366",
         "0.9292545438142347",
         "0.9236455537790861"
        ],
        [
         "1",
         "oob",
         "5",
         "0.9541886421489614",
         "0.951042863866281",
         "0.9250664025383076",
         "0.9286801591520366",
         "0.9292545438142347",
         "0.9236455537790861"
        ],
        [
         "2",
         "oob",
         "10",
         "0.9611094435386005",
         "0.9566927817522907",
         "0.9250664025383076",
         "0.9286801591520366",
         "0.9292545438142347",
         "0.9236455537790861"
        ],
        [
         "3",
         "oob",
         "20",
         "0.9651026442588947",
         "0.960298158196847",
         "0.9238431216796614",
         "0.927478707394931",
         "0.9283622508064633",
         "0.922529807673737"
        ],
        [
         "4",
         "oob",
         "50",
         "0.9661295135779652",
         "0.963034023983399",
         "0.9185641444262921",
         "0.9222638874128938",
         "0.9250807871972516",
         "0.9187801084413388"
        ],
        [
         "5",
         "oob",
         "100",
         "0.9787367152855574",
         "0.9760245970689975",
         "0.9331537182250565",
         "0.9368831572201538",
         "0.9381588010534357",
         "0.9341265998247104"
        ],
        [
         "6",
         "oob",
         "200",
         "0.978859969035299",
         "0.9765590141282193",
         "0.9315771063370665",
         "0.9357076898580695",
         "0.935515040686659",
         "0.9318917845435633"
        ],
        [
         "7",
         "oob",
         "500",
         "0.9852139318185843",
         "0.9832087223548083",
         "0.9355733056957737",
         "0.9410546207924735",
         "0.9317532964149149",
         "0.9358667185273901"
        ],
        [
         "8",
         "original",
         "1",
         "0.9328735639547003",
         "0.934675777777306",
         "0.9238431216796614",
         "0.927478707394931",
         "0.9283622508064633",
         "0.922529807673737"
        ],
        [
         "9",
         "original",
         "5",
         "0.9536488866741452",
         "0.9505967770413863",
         "0.9238431216796614",
         "0.927478707394931",
         "0.9283622508064633",
         "0.922529807673737"
        ],
        [
         "10",
         "original",
         "10",
         "0.9605236266605716",
         "0.9562134738336657",
         "0.9238431216796614",
         "0.927478707394931",
         "0.9283622508064633",
         "0.922529807673737"
        ],
        [
         "11",
         "original",
         "20",
         "0.9651026442588947",
         "0.960298158196847",
         "0.9238431216796614",
         "0.927478707394931",
         "0.9283622508064633",
         "0.922529807673737"
        ],
        [
         "12",
         "original",
         "50",
         "0.9659245083476022",
         "0.9628148593253526",
         "0.9181304092296442",
         "0.9218180127443276",
         "0.9247043987784048",
         "0.9183690106713172"
        ],
        [
         "13",
         "original",
         "100",
         "0.9782804091760585",
         "0.9754947789839592",
         "0.9318808762755624",
         "0.9355930654852063",
         "0.937135064361975",
         "0.9329753078857149"
        ],
        [
         "14",
         "original",
         "200",
         "0.9780378779008542",
         "0.9756186994060028",
         "0.9292144395287784",
         "0.9333342354711496",
         "0.9335456356488738",
         "0.9297140992418906"
        ],
        [
         "15",
         "original",
         "500",
         "0.9852139318185843",
         "0.9832087223548083",
         "0.9355733056957737",
         "0.9410546207924735",
         "0.9317532964149149",
         "0.9358667185273901"
        ],
        [
         "16",
         "rfgap",
         "1",
         "0.9325451399054645",
         "0.934253472121523",
         "0.9262520769363246",
         "0.9301075911903858",
         "0.9300080217953616",
         "0.925139410820646"
        ],
        [
         "17",
         "rfgap",
         "5",
         "0.9531107392512561",
         "0.9502032791006142",
         "0.9262520769363246",
         "0.9301075911903858",
         "0.9300080217953616",
         "0.925139410820646"
        ],
        [
         "18",
         "rfgap",
         "10",
         "0.96048012695879",
         "0.9561515795620896",
         "0.9262520769363246",
         "0.9301075911903858",
         "0.9300080217953616",
         "0.925139410820646"
        ],
        [
         "19",
         "rfgap",
         "20",
         "0.965539118745657",
         "0.9608143974448307",
         "0.9262520769363246",
         "0.9301075911903858",
         "0.9300080217953616",
         "0.925139410820646"
        ],
        [
         "20",
         "rfgap",
         "50",
         "0.9664030589157547",
         "0.9632434085034064",
         "0.9196784118580903",
         "0.9237037674738103",
         "0.9253884697618618",
         "0.920042360066362"
        ],
        [
         "21",
         "rfgap",
         "100",
         "0.9777010781601704",
         "0.9749300984393783",
         "0.9316074950531978",
         "0.935773173074335",
         "0.9360755436849699",
         "0.9327913639141976"
        ],
        [
         "22",
         "rfgap",
         "200",
         "0.9755539348185034",
         "0.9735311962716162",
         "0.9242959602300788",
         "0.9293197140585528",
         "0.9285247683505108",
         "0.9256226687132061"
        ],
        [
         "23",
         "rfgap",
         "500",
         "0.9783721584808215",
         "0.9768237379961332",
         "0.9214219444524242",
         "0.9284551976075335",
         "0.9187666871984616",
         "0.9235862270800335"
        ]
       ],
       "shape": {
        "columns": 8,
        "rows": 24
       }
      },
      "text/html": [
       "<div>\n",
       "<style scoped>\n",
       "    .dataframe tbody tr th:only-of-type {\n",
       "        vertical-align: middle;\n",
       "    }\n",
       "\n",
       "    .dataframe tbody tr th {\n",
       "        vertical-align: top;\n",
       "    }\n",
       "\n",
       "    .dataframe thead th {\n",
       "        text-align: right;\n",
       "    }\n",
       "</style>\n",
       "<table border=\"1\" class=\"dataframe\">\n",
       "  <thead>\n",
       "    <tr style=\"text-align: right;\">\n",
       "      <th>metric</th>\n",
       "      <th>prox_method</th>\n",
       "      <th>conformity_k</th>\n",
       "      <th>conformity_auc</th>\n",
       "      <th>conformity_auc_test</th>\n",
       "      <th>diff_proba_auc</th>\n",
       "      <th>diff_proba_auc_test</th>\n",
       "      <th>ice_auc</th>\n",
       "      <th>ice_auc_test</th>\n",
       "    </tr>\n",
       "  </thead>\n",
       "  <tbody>\n",
       "    <tr>\n",
       "      <th>0</th>\n",
       "      <td>oob</td>\n",
       "      <td>1</td>\n",
       "      <td>0.933367</td>\n",
       "      <td>0.935085</td>\n",
       "      <td>0.925066</td>\n",
       "      <td>0.928680</td>\n",
       "      <td>0.929255</td>\n",
       "      <td>0.923646</td>\n",
       "    </tr>\n",
       "    <tr>\n",
       "      <th>1</th>\n",
       "      <td>oob</td>\n",
       "      <td>5</td>\n",
       "      <td>0.954189</td>\n",
       "      <td>0.951043</td>\n",
       "      <td>0.925066</td>\n",
       "      <td>0.928680</td>\n",
       "      <td>0.929255</td>\n",
       "      <td>0.923646</td>\n",
       "    </tr>\n",
       "    <tr>\n",
       "      <th>2</th>\n",
       "      <td>oob</td>\n",
       "      <td>10</td>\n",
       "      <td>0.961109</td>\n",
       "      <td>0.956693</td>\n",
       "      <td>0.925066</td>\n",
       "      <td>0.928680</td>\n",
       "      <td>0.929255</td>\n",
       "      <td>0.923646</td>\n",
       "    </tr>\n",
       "    <tr>\n",
       "      <th>3</th>\n",
       "      <td>oob</td>\n",
       "      <td>20</td>\n",
       "      <td>0.965103</td>\n",
       "      <td>0.960298</td>\n",
       "      <td>0.923843</td>\n",
       "      <td>0.927479</td>\n",
       "      <td>0.928362</td>\n",
       "      <td>0.922530</td>\n",
       "    </tr>\n",
       "    <tr>\n",
       "      <th>4</th>\n",
       "      <td>oob</td>\n",
       "      <td>50</td>\n",
       "      <td>0.966130</td>\n",
       "      <td>0.963034</td>\n",
       "      <td>0.918564</td>\n",
       "      <td>0.922264</td>\n",
       "      <td>0.925081</td>\n",
       "      <td>0.918780</td>\n",
       "    </tr>\n",
       "    <tr>\n",
       "      <th>5</th>\n",
       "      <td>oob</td>\n",
       "      <td>100</td>\n",
       "      <td>0.978737</td>\n",
       "      <td>0.976025</td>\n",
       "      <td>0.933154</td>\n",
       "      <td>0.936883</td>\n",
       "      <td>0.938159</td>\n",
       "      <td>0.934127</td>\n",
       "    </tr>\n",
       "    <tr>\n",
       "      <th>6</th>\n",
       "      <td>oob</td>\n",
       "      <td>200</td>\n",
       "      <td>0.978860</td>\n",
       "      <td>0.976559</td>\n",
       "      <td>0.931577</td>\n",
       "      <td>0.935708</td>\n",
       "      <td>0.935515</td>\n",
       "      <td>0.931892</td>\n",
       "    </tr>\n",
       "    <tr>\n",
       "      <th>7</th>\n",
       "      <td>oob</td>\n",
       "      <td>500</td>\n",
       "      <td>0.985214</td>\n",
       "      <td>0.983209</td>\n",
       "      <td>0.935573</td>\n",
       "      <td>0.941055</td>\n",
       "      <td>0.931753</td>\n",
       "      <td>0.935867</td>\n",
       "    </tr>\n",
       "    <tr>\n",
       "      <th>8</th>\n",
       "      <td>original</td>\n",
       "      <td>1</td>\n",
       "      <td>0.932874</td>\n",
       "      <td>0.934676</td>\n",
       "      <td>0.923843</td>\n",
       "      <td>0.927479</td>\n",
       "      <td>0.928362</td>\n",
       "      <td>0.922530</td>\n",
       "    </tr>\n",
       "    <tr>\n",
       "      <th>9</th>\n",
       "      <td>original</td>\n",
       "      <td>5</td>\n",
       "      <td>0.953649</td>\n",
       "      <td>0.950597</td>\n",
       "      <td>0.923843</td>\n",
       "      <td>0.927479</td>\n",
       "      <td>0.928362</td>\n",
       "      <td>0.922530</td>\n",
       "    </tr>\n",
       "    <tr>\n",
       "      <th>10</th>\n",
       "      <td>original</td>\n",
       "      <td>10</td>\n",
       "      <td>0.960524</td>\n",
       "      <td>0.956213</td>\n",
       "      <td>0.923843</td>\n",
       "      <td>0.927479</td>\n",
       "      <td>0.928362</td>\n",
       "      <td>0.922530</td>\n",
       "    </tr>\n",
       "    <tr>\n",
       "      <th>11</th>\n",
       "      <td>original</td>\n",
       "      <td>20</td>\n",
       "      <td>0.965103</td>\n",
       "      <td>0.960298</td>\n",
       "      <td>0.923843</td>\n",
       "      <td>0.927479</td>\n",
       "      <td>0.928362</td>\n",
       "      <td>0.922530</td>\n",
       "    </tr>\n",
       "    <tr>\n",
       "      <th>12</th>\n",
       "      <td>original</td>\n",
       "      <td>50</td>\n",
       "      <td>0.965925</td>\n",
       "      <td>0.962815</td>\n",
       "      <td>0.918130</td>\n",
       "      <td>0.921818</td>\n",
       "      <td>0.924704</td>\n",
       "      <td>0.918369</td>\n",
       "    </tr>\n",
       "    <tr>\n",
       "      <th>13</th>\n",
       "      <td>original</td>\n",
       "      <td>100</td>\n",
       "      <td>0.978280</td>\n",
       "      <td>0.975495</td>\n",
       "      <td>0.931881</td>\n",
       "      <td>0.935593</td>\n",
       "      <td>0.937135</td>\n",
       "      <td>0.932975</td>\n",
       "    </tr>\n",
       "    <tr>\n",
       "      <th>14</th>\n",
       "      <td>original</td>\n",
       "      <td>200</td>\n",
       "      <td>0.978038</td>\n",
       "      <td>0.975619</td>\n",
       "      <td>0.929214</td>\n",
       "      <td>0.933334</td>\n",
       "      <td>0.933546</td>\n",
       "      <td>0.929714</td>\n",
       "    </tr>\n",
       "    <tr>\n",
       "      <th>15</th>\n",
       "      <td>original</td>\n",
       "      <td>500</td>\n",
       "      <td>0.985214</td>\n",
       "      <td>0.983209</td>\n",
       "      <td>0.935573</td>\n",
       "      <td>0.941055</td>\n",
       "      <td>0.931753</td>\n",
       "      <td>0.935867</td>\n",
       "    </tr>\n",
       "    <tr>\n",
       "      <th>16</th>\n",
       "      <td>rfgap</td>\n",
       "      <td>1</td>\n",
       "      <td>0.932545</td>\n",
       "      <td>0.934253</td>\n",
       "      <td>0.926252</td>\n",
       "      <td>0.930108</td>\n",
       "      <td>0.930008</td>\n",
       "      <td>0.925139</td>\n",
       "    </tr>\n",
       "    <tr>\n",
       "      <th>17</th>\n",
       "      <td>rfgap</td>\n",
       "      <td>5</td>\n",
       "      <td>0.953111</td>\n",
       "      <td>0.950203</td>\n",
       "      <td>0.926252</td>\n",
       "      <td>0.930108</td>\n",
       "      <td>0.930008</td>\n",
       "      <td>0.925139</td>\n",
       "    </tr>\n",
       "    <tr>\n",
       "      <th>18</th>\n",
       "      <td>rfgap</td>\n",
       "      <td>10</td>\n",
       "      <td>0.960480</td>\n",
       "      <td>0.956152</td>\n",
       "      <td>0.926252</td>\n",
       "      <td>0.930108</td>\n",
       "      <td>0.930008</td>\n",
       "      <td>0.925139</td>\n",
       "    </tr>\n",
       "    <tr>\n",
       "      <th>19</th>\n",
       "      <td>rfgap</td>\n",
       "      <td>20</td>\n",
       "      <td>0.965539</td>\n",
       "      <td>0.960814</td>\n",
       "      <td>0.926252</td>\n",
       "      <td>0.930108</td>\n",
       "      <td>0.930008</td>\n",
       "      <td>0.925139</td>\n",
       "    </tr>\n",
       "    <tr>\n",
       "      <th>20</th>\n",
       "      <td>rfgap</td>\n",
       "      <td>50</td>\n",
       "      <td>0.966403</td>\n",
       "      <td>0.963243</td>\n",
       "      <td>0.919678</td>\n",
       "      <td>0.923704</td>\n",
       "      <td>0.925388</td>\n",
       "      <td>0.920042</td>\n",
       "    </tr>\n",
       "    <tr>\n",
       "      <th>21</th>\n",
       "      <td>rfgap</td>\n",
       "      <td>100</td>\n",
       "      <td>0.977701</td>\n",
       "      <td>0.974930</td>\n",
       "      <td>0.931607</td>\n",
       "      <td>0.935773</td>\n",
       "      <td>0.936076</td>\n",
       "      <td>0.932791</td>\n",
       "    </tr>\n",
       "    <tr>\n",
       "      <th>22</th>\n",
       "      <td>rfgap</td>\n",
       "      <td>200</td>\n",
       "      <td>0.975554</td>\n",
       "      <td>0.973531</td>\n",
       "      <td>0.924296</td>\n",
       "      <td>0.929320</td>\n",
       "      <td>0.928525</td>\n",
       "      <td>0.925623</td>\n",
       "    </tr>\n",
       "    <tr>\n",
       "      <th>23</th>\n",
       "      <td>rfgap</td>\n",
       "      <td>500</td>\n",
       "      <td>0.978372</td>\n",
       "      <td>0.976824</td>\n",
       "      <td>0.921422</td>\n",
       "      <td>0.928455</td>\n",
       "      <td>0.918767</td>\n",
       "      <td>0.923586</td>\n",
       "    </tr>\n",
       "  </tbody>\n",
       "</table>\n",
       "</div>"
      ],
      "text/plain": [
       "metric prox_method  conformity_k  conformity_auc  conformity_auc_test  \\\n",
       "0              oob             1        0.933367             0.935085   \n",
       "1              oob             5        0.954189             0.951043   \n",
       "2              oob            10        0.961109             0.956693   \n",
       "3              oob            20        0.965103             0.960298   \n",
       "4              oob            50        0.966130             0.963034   \n",
       "5              oob           100        0.978737             0.976025   \n",
       "6              oob           200        0.978860             0.976559   \n",
       "7              oob           500        0.985214             0.983209   \n",
       "8         original             1        0.932874             0.934676   \n",
       "9         original             5        0.953649             0.950597   \n",
       "10        original            10        0.960524             0.956213   \n",
       "11        original            20        0.965103             0.960298   \n",
       "12        original            50        0.965925             0.962815   \n",
       "13        original           100        0.978280             0.975495   \n",
       "14        original           200        0.978038             0.975619   \n",
       "15        original           500        0.985214             0.983209   \n",
       "16           rfgap             1        0.932545             0.934253   \n",
       "17           rfgap             5        0.953111             0.950203   \n",
       "18           rfgap            10        0.960480             0.956152   \n",
       "19           rfgap            20        0.965539             0.960814   \n",
       "20           rfgap            50        0.966403             0.963243   \n",
       "21           rfgap           100        0.977701             0.974930   \n",
       "22           rfgap           200        0.975554             0.973531   \n",
       "23           rfgap           500        0.978372             0.976824   \n",
       "\n",
       "metric  diff_proba_auc  diff_proba_auc_test   ice_auc  ice_auc_test  \n",
       "0             0.925066             0.928680  0.929255      0.923646  \n",
       "1             0.925066             0.928680  0.929255      0.923646  \n",
       "2             0.925066             0.928680  0.929255      0.923646  \n",
       "3             0.923843             0.927479  0.928362      0.922530  \n",
       "4             0.918564             0.922264  0.925081      0.918780  \n",
       "5             0.933154             0.936883  0.938159      0.934127  \n",
       "6             0.931577             0.935708  0.935515      0.931892  \n",
       "7             0.935573             0.941055  0.931753      0.935867  \n",
       "8             0.923843             0.927479  0.928362      0.922530  \n",
       "9             0.923843             0.927479  0.928362      0.922530  \n",
       "10            0.923843             0.927479  0.928362      0.922530  \n",
       "11            0.923843             0.927479  0.928362      0.922530  \n",
       "12            0.918130             0.921818  0.924704      0.918369  \n",
       "13            0.931881             0.935593  0.937135      0.932975  \n",
       "14            0.929214             0.933334  0.933546      0.929714  \n",
       "15            0.935573             0.941055  0.931753      0.935867  \n",
       "16            0.926252             0.930108  0.930008      0.925139  \n",
       "17            0.926252             0.930108  0.930008      0.925139  \n",
       "18            0.926252             0.930108  0.930008      0.925139  \n",
       "19            0.926252             0.930108  0.930008      0.925139  \n",
       "20            0.919678             0.923704  0.925388      0.920042  \n",
       "21            0.931607             0.935773  0.936076      0.932791  \n",
       "22            0.924296             0.929320  0.928525      0.925623  \n",
       "23            0.921422             0.928455  0.918767      0.923586  "
      ]
     },
     "execution_count": 14,
     "metadata": {},
     "output_type": "execute_result"
    }
   ],
   "source": [
    "df_group.pivot_table(index=['prox_method', 'conformity_k'], columns='metric', values='mean').reset_index()"
   ]
  },
  {
   "cell_type": "code",
   "execution_count": 15,
   "id": "96d3fd3f",
   "metadata": {},
   "outputs": [],
   "source": [
    "from rfgap import RFGAP\n",
    "rf = RFGAP(n_estimators=100, random_state=42, oob_score=True)\n",
    "\n",
    "X = np.random.rand(150, 10)  # Example feature matrix\n",
    "y = np.random.randint(0, 2, size=150)  # Example binary\n",
    "\n",
    "rf.fit(X, y)"
   ]
  },
  {
   "cell_type": "code",
   "execution_count": 16,
   "id": "19a27506",
   "metadata": {},
   "outputs": [],
   "source": [
    "rf.get_oob_conformity(X, y, X[:10], y[:10])"
   ]
  },
  {
   "cell_type": "code",
   "execution_count": 17,
   "id": "fa9dceac",
   "metadata": {},
   "outputs": [
    {
     "data": {
      "text/plain": [
       "array([0.74285714, 0.57894737, 0.43902439, 0.62162162, 0.675     ,\n",
       "       0.63414634, 0.5625    , 0.70588235, 0.53488372, 0.56756757,\n",
       "       0.55555556, 0.44444444, 0.26666667, 0.38235294, 0.38888889,\n",
       "       0.5862069 , 0.85365854, 0.41025641, 0.62162162, 0.45833333,\n",
       "       0.54054054, 0.60526316, 0.61764706, 0.61538462, 0.625     ,\n",
       "       0.25641026, 0.2       , 0.56097561, 0.33333333, 0.45238095,\n",
       "       0.52083333, 0.5       , 0.65853659, 0.4516129 , 0.64102564,\n",
       "       0.51351351, 0.61764706, 0.34210526, 0.55555556, 0.42424242,\n",
       "       0.6       , 0.79411765, 0.58064516, 0.4       , 0.43478261,\n",
       "       0.58823529, 0.74285714, 0.7       , 0.325     , 0.7       ,\n",
       "       0.69444444, 0.74193548, 0.26315789, 0.35714286, 0.625     ,\n",
       "       0.67567568, 0.71052632, 0.4375    , 0.26666667, 0.45454545,\n",
       "       0.63636364, 0.28947368, 0.5625    , 0.62222222, 0.44117647,\n",
       "       0.44736842, 0.6744186 , 0.72972973, 0.71875   , 0.38095238,\n",
       "       0.43902439, 0.21621622, 0.64102564, 0.23529412, 0.22857143,\n",
       "       0.28205128, 0.57142857, 0.58974359, 0.63888889, 0.40540541,\n",
       "       0.42105263, 0.48717949, 0.35      , 0.21621622, 0.33333333,\n",
       "       0.59459459, 0.61538462, 0.56410256, 0.5483871 , 0.4516129 ,\n",
       "       0.45454545, 0.36111111, 0.59459459, 0.66666667, 0.37837838,\n",
       "       0.5       , 0.6       , 0.5483871 , 0.43181818, 0.20512821,\n",
       "       0.53571429, 0.51612903, 0.30555556, 0.41666667, 0.4137931 ,\n",
       "       0.58823529, 0.68888889, 0.8       , 0.53571429, 0.575     ,\n",
       "       0.65789474, 0.5       , 0.59375   , 0.61538462, 0.39393939,\n",
       "       0.47368421, 0.26315789, 0.61111111, 0.83783784, 0.31034483,\n",
       "       0.61538462, 0.56097561, 0.61111111, 0.45945946, 0.53658537,\n",
       "       0.57142857, 0.31818182, 0.5       , 0.63414634, 0.10810811,\n",
       "       0.56666667, 0.52941176, 0.5625    , 0.83333333, 0.325     ,\n",
       "       0.58139535, 0.58823529, 0.54054054, 0.34285714, 0.59090909,\n",
       "       0.53846154, 0.58974359, 0.4047619 , 0.73529412, 0.6744186 ,\n",
       "       0.34375   , 0.61904762, 0.42105263, 0.44444444, 0.35      ])"
      ]
     },
     "execution_count": 17,
     "metadata": {},
     "output_type": "execute_result"
    }
   ],
   "source": [
    "rf.oob_conformity"
   ]
  },
  {
   "cell_type": "code",
   "execution_count": 18,
   "id": "7aa9d7bb",
   "metadata": {},
   "outputs": [
    {
     "data": {
      "text/plain": [
       "array([0.91, 0.84, 0.18, 0.86, 0.87, 0.85, 0.86, 0.9 , 0.8 , 0.21])"
      ]
     },
     "execution_count": 18,
     "metadata": {},
     "output_type": "execute_result"
    }
   ],
   "source": [
    "rf.oob_conformity_test"
   ]
  }
 ],
 "metadata": {
  "kernelspec": {
   "display_name": "rf-uncertainty",
   "language": "python",
   "name": "python3"
  },
  "language_info": {
   "codemirror_mode": {
    "name": "ipython",
    "version": 3
   },
   "file_extension": ".py",
   "mimetype": "text/x-python",
   "name": "python",
   "nbconvert_exporter": "python",
   "pygments_lexer": "ipython3",
   "version": "3.10.18"
  }
 },
 "nbformat": 4,
 "nbformat_minor": 5
}
