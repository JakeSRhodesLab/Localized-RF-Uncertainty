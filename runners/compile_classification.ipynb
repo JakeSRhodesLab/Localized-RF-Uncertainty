{
 "cells": [
  {
   "cell_type": "code",
   "execution_count": 1,
   "id": "20661f8f",
   "metadata": {},
   "outputs": [],
   "source": [
    "import os\n",
    "import pickle\n",
    "from concurrent.futures import ThreadPoolExecutor\n",
    "from concurrent.futures import ProcessPoolExecutor, as_completed\n",
    "from pathlib import Path\n",
    "import pandas as pd\n",
    "import matplotlib.pyplot as plt\n",
    "import numpy as np\n",
    "import seaborn as sns\n",
    "import matplotlib.pyplot as plt\n",
    "\n",
    "import sys\n",
    "sys.path.append(str(Path.cwd().parent))"
   ]
  },
  {
   "cell_type": "code",
   "execution_count": 2,
   "id": "0dd93fbe",
   "metadata": {},
   "outputs": [],
   "source": [
    "# Directory containing pickle files\n",
    "directory = Path(\"../results/classification/quantitative\")\n",
    "\n",
    "# Optionally filter for specific substrings\n",
    "pkl_files = [f for f in directory.iterdir() if f.suffix == \".pkl\"]\n",
    "\n",
    "# Efficient loader\n",
    "def load_file(file_path):\n",
    "    try:\n",
    "        with open(file_path, \"rb\") as f:\n",
    "            data = pickle.load(f)\n",
    "            if isinstance(data, dict):\n",
    "                return file_path.name, data\n",
    "    except (EOFError, pickle.UnpicklingError) as e:\n",
    "        print(f\"Warning: Failed to load {file_path.name}: {e}\")\n",
    "    except Exception as e:\n",
    "        print(f\"Unexpected error with {file_path.name}: {e}\")\n",
    "    return None\n",
    "\n",
    "# Load files using multithreading (I/O bound)\n",
    "all_data = {}\n",
    "with ThreadPoolExecutor() as executor:\n",
    "    futures = [executor.submit(load_file, f) for f in pkl_files]\n",
    "    for future in as_completed(futures):\n",
    "        result = future.result()\n",
    "        if result:\n",
    "            filename, data = result\n",
    "            all_data[filename] = data\n",
    "\n",
    "files = list(all_data.keys())\n"
   ]
  },
  {
   "cell_type": "code",
   "execution_count": 3,
   "id": "7131e3c1",
   "metadata": {},
   "outputs": [
    {
     "name": "stdout",
     "output_type": "stream",
     "text": [
      "(10011, 15)\n"
     ]
    }
   ],
   "source": [
    "records = []\n",
    "\n",
    "for file, dictionary in all_data.items():\n",
    "    records.append(dictionary)\n",
    "\n",
    "# Create the DataFrame\n",
    "df = pd.DataFrame(records)\n",
    "\n",
    "print(df.shape)\n",
    "\n"
   ]
  },
  {
   "cell_type": "code",
   "execution_count": 4,
   "id": "30b43dd0",
   "metadata": {},
   "outputs": [],
   "source": [
    "df_long = df.melt(\n",
    "        id_vars=['name', 'random_state', 'prox_method', 'conformity_k'],\n",
    "        value_vars=[\n",
    "                'ice_auc', 'diff_proba_auc', 'conformity_auc',\n",
    "                'ice_auc_test', 'diff_proba_auc_test', 'conformity_auc_test',\n",
    "                'tree_conformity_auc', 'tree_conformity_auc_test'\n",
    "        ],\n",
    "        var_name='metric',\n",
    "        value_name='auc'\n",
    ")"
   ]
  },
  {
   "cell_type": "code",
   "execution_count": 5,
   "id": "3eed2c9f",
   "metadata": {},
   "outputs": [],
   "source": [
    "df_long['Method'] = df_long['metric']\n",
    "\n",
    "df_long.loc[df_long['metric'] == 'ice_auc', 'Method'] = 'RF-ICE (EMR)'\n",
    "df_long.loc[(df_long['metric'] == 'conformity_auc') & (df_long['prox_method'] == 'original'), 'Method'] = 'Conformity'\n",
    "df_long.loc[(df_long['metric'] == 'conformity_auc') & (df_long['prox_method'] == 'rfgap'), 'Method'] = 'RF-ICE Conformity'\n",
    "df_long.loc[df_long['metric'] == 'diff_proba_auc', 'Method'] = 'Proba. Diff.'\n",
    "df_long.loc[df_long['metric'] == 'tree_conformity_auc', 'Method'] = 'Tree Conformity'\n",
    "\n",
    "\n",
    "methods = ['RF-ICE (EMR)', 'Conformity', 'RF-ICE Conformity', 'Proba. Diff.', 'Tree Conformity']\n",
    "df_long = df_long[df_long['Method'].isin(methods)]\n"
   ]
  },
  {
   "cell_type": "code",
   "execution_count": 6,
   "id": "048b833a",
   "metadata": {},
   "outputs": [],
   "source": [
    "df_long_rank = df_long.groupby(['Method', 'name'])['auc'].mean().reset_index()"
   ]
  },
  {
   "cell_type": "code",
   "execution_count": 7,
   "id": "315b02fb",
   "metadata": {},
   "outputs": [],
   "source": [
    "df_long_rank[\"auc_rank\"] = df_long_rank.groupby(\"name\")[\"auc\"].rank(ascending=False, method=\"min\")\n"
   ]
  },
  {
   "cell_type": "code",
   "execution_count": 8,
   "id": "e12ed0df",
   "metadata": {},
   "outputs": [
    {
     "data": {
      "application/vnd.microsoft.datawrangler.viewer.v0+json": {
       "columns": [
        {
         "name": "Method",
         "rawType": "object",
         "type": "string"
        },
        {
         "name": "mean",
         "rawType": "float64",
         "type": "float"
        },
        {
         "name": "std",
         "rawType": "float64",
         "type": "float"
        }
       ],
       "ref": "7774f08b-f9b6-46f9-8086-8b6d2a1073cc",
       "rows": [
        [
         "RF-ICE Conformity",
         "1.1481481481481481",
         "0.4917204071116948"
        ],
        [
         "Conformity",
         "1.1923076923076923",
         "0.5614568423503459"
        ],
        [
         "Proba. Diff.",
         "3.0925925925925926",
         "0.8527097433237111"
        ],
        [
         "RF-ICE (EMR)",
         "3.6481481481481484",
         "0.519702651102093"
        ],
        [
         "Tree Conformity",
         "4.87037037037037",
         "0.584268492696937"
        ]
       ],
       "shape": {
        "columns": 2,
        "rows": 5
       }
      },
      "text/html": [
       "<div>\n",
       "<style scoped>\n",
       "    .dataframe tbody tr th:only-of-type {\n",
       "        vertical-align: middle;\n",
       "    }\n",
       "\n",
       "    .dataframe tbody tr th {\n",
       "        vertical-align: top;\n",
       "    }\n",
       "\n",
       "    .dataframe thead th {\n",
       "        text-align: right;\n",
       "    }\n",
       "</style>\n",
       "<table border=\"1\" class=\"dataframe\">\n",
       "  <thead>\n",
       "    <tr style=\"text-align: right;\">\n",
       "      <th></th>\n",
       "      <th>mean</th>\n",
       "      <th>std</th>\n",
       "    </tr>\n",
       "    <tr>\n",
       "      <th>Method</th>\n",
       "      <th></th>\n",
       "      <th></th>\n",
       "    </tr>\n",
       "  </thead>\n",
       "  <tbody>\n",
       "    <tr>\n",
       "      <th>RF-ICE Conformity</th>\n",
       "      <td>1.148148</td>\n",
       "      <td>0.491720</td>\n",
       "    </tr>\n",
       "    <tr>\n",
       "      <th>Conformity</th>\n",
       "      <td>1.192308</td>\n",
       "      <td>0.561457</td>\n",
       "    </tr>\n",
       "    <tr>\n",
       "      <th>Proba. Diff.</th>\n",
       "      <td>3.092593</td>\n",
       "      <td>0.852710</td>\n",
       "    </tr>\n",
       "    <tr>\n",
       "      <th>RF-ICE (EMR)</th>\n",
       "      <td>3.648148</td>\n",
       "      <td>0.519703</td>\n",
       "    </tr>\n",
       "    <tr>\n",
       "      <th>Tree Conformity</th>\n",
       "      <td>4.870370</td>\n",
       "      <td>0.584268</td>\n",
       "    </tr>\n",
       "  </tbody>\n",
       "</table>\n",
       "</div>"
      ],
      "text/plain": [
       "                       mean       std\n",
       "Method                               \n",
       "RF-ICE Conformity  1.148148  0.491720\n",
       "Conformity         1.192308  0.561457\n",
       "Proba. Diff.       3.092593  0.852710\n",
       "RF-ICE (EMR)       3.648148  0.519703\n",
       "Tree Conformity    4.870370  0.584268"
      ]
     },
     "execution_count": 8,
     "metadata": {},
     "output_type": "execute_result"
    }
   ],
   "source": [
    "df_long_rank.groupby(['Method'])['auc_rank'].agg(['mean', 'std']).sort_values(by = 'mean', ascending = True)"
   ]
  },
  {
   "cell_type": "code",
   "execution_count": null,
   "id": "8b40d5f1",
   "metadata": {},
   "outputs": [],
   "source": []
  },
  {
   "cell_type": "code",
   "execution_count": null,
   "id": "c7787132",
   "metadata": {},
   "outputs": [],
   "source": []
  },
  {
   "cell_type": "code",
   "execution_count": null,
   "id": "ee917e38",
   "metadata": {},
   "outputs": [],
   "source": []
  },
  {
   "cell_type": "code",
   "execution_count": 9,
   "id": "5d42a54e",
   "metadata": {},
   "outputs": [],
   "source": [
    "df_group = df_long.groupby(['prox_method', 'conformity_k', 'metric'])['auc'].agg(['mean', 'std']).reset_index()\n",
    "\n",
    "df_group.loc[\n",
    "    df_group['metric'].isin([\n",
    "        'diff_proba_auc', 'diff_proba_auc_test',\n",
    "        'tree_conformity_auc', 'tree_conformity_auc_test'\n",
    "    ]),\n",
    "    'prox_method'\n",
    "] = 'NA'\n",
    "\n",
    "\n",
    "# Subset for the compared methods\n",
    "\n",
    "\n",
    "df_group['Method'] = df_group['metric']\n",
    "\n",
    "df_group.loc[df_group['metric'] == 'ice_auc', 'Method'] = 'RF-ICE (EMR)'\n",
    "df_group.loc[(df_group['metric'] == 'conformity_auc') & (df_group['prox_method'] == 'original'), 'Method'] = 'Conformity'\n",
    "df_group.loc[(df_group['metric'] == 'conformity_auc') & (df_group['prox_method'] == 'rfgap'), 'Method'] = 'RF-ICE Conformity'\n",
    "df_group.loc[df_group['metric'] == 'diff_proba_auc', 'Method'] = 'Proba. Diff.'\n",
    "df_group.loc[df_group['metric'] == 'tree_conformity_auc', 'Method'] = 'Tree Conformity'\n",
    "\n",
    "# Carefull with this one!\n",
    "methods = ['RF-ICE (EMR)', 'Conformity', 'RF-ICE Conformity', 'Proba. Diff.', 'Tree Conformity']\n",
    "df_group = df_group[df_group['Method'].isin(methods)]\n",
    "# df_group.drop(columns=['prox_method', 'conformity_k', 'metric'], inplace=True)\n",
    "\n",
    "df_group.reset_index(drop = True, inplace=True)"
   ]
  },
  {
   "cell_type": "code",
   "execution_count": 10,
   "id": "0ed35cf7",
   "metadata": {},
   "outputs": [
    {
     "data": {
      "application/vnd.microsoft.datawrangler.viewer.v0+json": {
       "columns": [
        {
         "name": "index",
         "rawType": "int64",
         "type": "integer"
        },
        {
         "name": "prox_method",
         "rawType": "object",
         "type": "string"
        },
        {
         "name": "conformity_k",
         "rawType": "int64",
         "type": "integer"
        },
        {
         "name": "metric",
         "rawType": "object",
         "type": "string"
        },
        {
         "name": "mean",
         "rawType": "float64",
         "type": "float"
        },
        {
         "name": "std",
         "rawType": "float64",
         "type": "float"
        },
        {
         "name": "Method",
         "rawType": "object",
         "type": "string"
        }
       ],
       "ref": "ae7d5f58-f2f5-4bd0-9c00-a7d3bb649cbd",
       "rows": [
        [
         "0",
         "NA",
         "1",
         "diff_proba_auc",
         "0.9262520769363246",
         "0.13027969427200248",
         "Proba. Diff."
        ],
        [
         "1",
         "oob",
         "1",
         "ice_auc",
         "0.9300080217953616",
         "0.1088779462636868",
         "RF-ICE (EMR)"
        ],
        [
         "2",
         "NA",
         "1",
         "tree_conformity_auc",
         "0.7126645390661202",
         "0.21487607791231017",
         "Tree Conformity"
        ],
        [
         "3",
         "NA",
         "5",
         "diff_proba_auc",
         "0.9262520769363246",
         "0.13027969427200264",
         "Proba. Diff."
        ],
        [
         "4",
         "oob",
         "5",
         "ice_auc",
         "0.9300080217953616",
         "0.10887794626368691",
         "RF-ICE (EMR)"
        ],
        [
         "5",
         "NA",
         "5",
         "tree_conformity_auc",
         "0.7126645390661202",
         "0.21487607791231028",
         "Tree Conformity"
        ],
        [
         "6",
         "NA",
         "10",
         "diff_proba_auc",
         "0.9262520769363246",
         "0.13027969427200256",
         "Proba. Diff."
        ],
        [
         "7",
         "oob",
         "10",
         "ice_auc",
         "0.9300080217953616",
         "0.10887794626368678",
         "RF-ICE (EMR)"
        ],
        [
         "8",
         "NA",
         "10",
         "tree_conformity_auc",
         "0.7126645390661202",
         "0.2148760779123102",
         "Tree Conformity"
        ],
        [
         "9",
         "NA",
         "20",
         "diff_proba_auc",
         "0.9262520769363246",
         "0.13027969427200253",
         "Proba. Diff."
        ],
        [
         "10",
         "oob",
         "20",
         "ice_auc",
         "0.9300080217953616",
         "0.10887794626368678",
         "RF-ICE (EMR)"
        ],
        [
         "11",
         "NA",
         "20",
         "tree_conformity_auc",
         "0.7126645390661202",
         "0.21487607791231028",
         "Tree Conformity"
        ],
        [
         "12",
         "NA",
         "50",
         "diff_proba_auc",
         "0.9217978450577063",
         "0.13599351262941956",
         "Proba. Diff."
        ],
        [
         "13",
         "oob",
         "50",
         "ice_auc",
         "0.9272553588277157",
         "0.11377541397495351",
         "RF-ICE (EMR)"
        ],
        [
         "14",
         "NA",
         "50",
         "tree_conformity_auc",
         "0.7045386067736555",
         "0.21793653736565693",
         "Tree Conformity"
        ],
        [
         "15",
         "NA",
         "100",
         "diff_proba_auc",
         "0.9350413127243253",
         "0.08964198533966894",
         "Proba. Diff."
        ],
        [
         "16",
         "oob",
         "100",
         "ice_auc",
         "0.9390364351106983",
         "0.07130191109153036",
         "RF-ICE (EMR)"
        ],
        [
         "17",
         "NA",
         "100",
         "tree_conformity_auc",
         "0.7211835003610707",
         "0.20133533108662885",
         "Tree Conformity"
        ],
        [
         "18",
         "NA",
         "200",
         "diff_proba_auc",
         "0.9330073173210763",
         "0.10518741390721169",
         "Proba. Diff."
        ],
        [
         "19",
         "oob",
         "200",
         "ice_auc",
         "0.9360828666918355",
         "0.08432786055521609",
         "RF-ICE (EMR)"
        ],
        [
         "20",
         "NA",
         "200",
         "tree_conformity_auc",
         "0.7689256655562424",
         "0.1625657629803646",
         "Tree Conformity"
        ],
        [
         "21",
         "NA",
         "500",
         "diff_proba_auc",
         "0.937295012368319",
         "0.09279789653877576",
         "Proba. Diff."
        ],
        [
         "22",
         "oob",
         "500",
         "ice_auc",
         "0.9343134582233249",
         "0.08555386430898855",
         "RF-ICE (EMR)"
        ],
        [
         "23",
         "NA",
         "500",
         "tree_conformity_auc",
         "0.7925250597498784",
         "0.12530724660896386",
         "Tree Conformity"
        ],
        [
         "24",
         "original",
         "1",
         "conformity_auc",
         "0.9325451399054645",
         "0.10063156164786963",
         "Conformity"
        ],
        [
         "25",
         "NA",
         "1",
         "diff_proba_auc",
         "0.9262520769363246",
         "0.13027969427200253",
         "Proba. Diff."
        ],
        [
         "26",
         "original",
         "1",
         "ice_auc",
         "0.9300080217953616",
         "0.10887794626368684",
         "RF-ICE (EMR)"
        ],
        [
         "27",
         "NA",
         "1",
         "tree_conformity_auc",
         "0.7126645390661202",
         "0.21487607791231023",
         "Tree Conformity"
        ],
        [
         "28",
         "original",
         "5",
         "conformity_auc",
         "0.9531107392512561",
         "0.08834581484175948",
         "Conformity"
        ],
        [
         "29",
         "NA",
         "5",
         "diff_proba_auc",
         "0.9262520769363246",
         "0.13027969427200253",
         "Proba. Diff."
        ],
        [
         "30",
         "original",
         "5",
         "ice_auc",
         "0.9300080217953616",
         "0.1088779462636868",
         "RF-ICE (EMR)"
        ],
        [
         "31",
         "NA",
         "5",
         "tree_conformity_auc",
         "0.7126645390661202",
         "0.21487607791231023",
         "Tree Conformity"
        ],
        [
         "32",
         "original",
         "10",
         "conformity_auc",
         "0.96048012695879",
         "0.08478085821206549",
         "Conformity"
        ],
        [
         "33",
         "NA",
         "10",
         "diff_proba_auc",
         "0.9262520769363246",
         "0.13027969427200253",
         "Proba. Diff."
        ],
        [
         "34",
         "original",
         "10",
         "ice_auc",
         "0.9300080217953616",
         "0.1088779462636868",
         "RF-ICE (EMR)"
        ],
        [
         "35",
         "NA",
         "10",
         "tree_conformity_auc",
         "0.7126645390661202",
         "0.2148760779123102",
         "Tree Conformity"
        ],
        [
         "36",
         "original",
         "20",
         "conformity_auc",
         "0.965539118745657",
         "0.08217355737668357",
         "Conformity"
        ],
        [
         "37",
         "NA",
         "20",
         "diff_proba_auc",
         "0.9262520769363246",
         "0.13027969427200267",
         "Proba. Diff."
        ],
        [
         "38",
         "original",
         "20",
         "ice_auc",
         "0.9300080217953616",
         "0.10887794626368684",
         "RF-ICE (EMR)"
        ],
        [
         "39",
         "NA",
         "20",
         "tree_conformity_auc",
         "0.7126645390661202",
         "0.21487607791231034",
         "Tree Conformity"
        ],
        [
         "40",
         "original",
         "50",
         "conformity_auc",
         "0.9673198268275148",
         "0.08288121689906987",
         "Conformity"
        ],
        [
         "41",
         "NA",
         "50",
         "diff_proba_auc",
         "0.9217978450577063",
         "0.1359935126294195",
         "Proba. Diff."
        ],
        [
         "42",
         "original",
         "50",
         "ice_auc",
         "0.9272553588277157",
         "0.11377541397495346",
         "RF-ICE (EMR)"
        ],
        [
         "43",
         "NA",
         "50",
         "tree_conformity_auc",
         "0.7045386067736555",
         "0.217936537365657",
         "Tree Conformity"
        ],
        [
         "44",
         "original",
         "100",
         "conformity_auc",
         "0.9787014688266535",
         "0.03549773230480884",
         "Conformity"
        ],
        [
         "45",
         "NA",
         "100",
         "diff_proba_auc",
         "0.9345830523077304",
         "0.08980419229169856",
         "Proba. Diff."
        ],
        [
         "46",
         "original",
         "100",
         "ice_auc",
         "0.9386582219869236",
         "0.0714208132096818",
         "RF-ICE (EMR)"
        ],
        [
         "47",
         "NA",
         "100",
         "tree_conformity_auc",
         "0.7197624673423547",
         "0.20136774952491787",
         "Tree Conformity"
        ],
        [
         "48",
         "original",
         "200",
         "conformity_auc",
         "0.9776473602614214",
         "0.04124688309368267",
         "Conformity"
        ],
        [
         "49",
         "NA",
         "200",
         "diff_proba_auc",
         "0.9305960546662205",
         "0.10639291445729054",
         "Proba. Diff."
        ]
       ],
       "shape": {
        "columns": 6,
        "rows": 88
       }
      },
      "text/html": [
       "<div>\n",
       "<style scoped>\n",
       "    .dataframe tbody tr th:only-of-type {\n",
       "        vertical-align: middle;\n",
       "    }\n",
       "\n",
       "    .dataframe tbody tr th {\n",
       "        vertical-align: top;\n",
       "    }\n",
       "\n",
       "    .dataframe thead th {\n",
       "        text-align: right;\n",
       "    }\n",
       "</style>\n",
       "<table border=\"1\" class=\"dataframe\">\n",
       "  <thead>\n",
       "    <tr style=\"text-align: right;\">\n",
       "      <th></th>\n",
       "      <th>prox_method</th>\n",
       "      <th>conformity_k</th>\n",
       "      <th>metric</th>\n",
       "      <th>mean</th>\n",
       "      <th>std</th>\n",
       "      <th>Method</th>\n",
       "    </tr>\n",
       "  </thead>\n",
       "  <tbody>\n",
       "    <tr>\n",
       "      <th>0</th>\n",
       "      <td>NA</td>\n",
       "      <td>1</td>\n",
       "      <td>diff_proba_auc</td>\n",
       "      <td>0.926252</td>\n",
       "      <td>0.130280</td>\n",
       "      <td>Proba. Diff.</td>\n",
       "    </tr>\n",
       "    <tr>\n",
       "      <th>1</th>\n",
       "      <td>oob</td>\n",
       "      <td>1</td>\n",
       "      <td>ice_auc</td>\n",
       "      <td>0.930008</td>\n",
       "      <td>0.108878</td>\n",
       "      <td>RF-ICE (EMR)</td>\n",
       "    </tr>\n",
       "    <tr>\n",
       "      <th>2</th>\n",
       "      <td>NA</td>\n",
       "      <td>1</td>\n",
       "      <td>tree_conformity_auc</td>\n",
       "      <td>0.712665</td>\n",
       "      <td>0.214876</td>\n",
       "      <td>Tree Conformity</td>\n",
       "    </tr>\n",
       "    <tr>\n",
       "      <th>3</th>\n",
       "      <td>NA</td>\n",
       "      <td>5</td>\n",
       "      <td>diff_proba_auc</td>\n",
       "      <td>0.926252</td>\n",
       "      <td>0.130280</td>\n",
       "      <td>Proba. Diff.</td>\n",
       "    </tr>\n",
       "    <tr>\n",
       "      <th>4</th>\n",
       "      <td>oob</td>\n",
       "      <td>5</td>\n",
       "      <td>ice_auc</td>\n",
       "      <td>0.930008</td>\n",
       "      <td>0.108878</td>\n",
       "      <td>RF-ICE (EMR)</td>\n",
       "    </tr>\n",
       "    <tr>\n",
       "      <th>...</th>\n",
       "      <td>...</td>\n",
       "      <td>...</td>\n",
       "      <td>...</td>\n",
       "      <td>...</td>\n",
       "      <td>...</td>\n",
       "      <td>...</td>\n",
       "    </tr>\n",
       "    <tr>\n",
       "      <th>83</th>\n",
       "      <td>NA</td>\n",
       "      <td>200</td>\n",
       "      <td>tree_conformity_auc</td>\n",
       "      <td>0.768926</td>\n",
       "      <td>0.162566</td>\n",
       "      <td>Tree Conformity</td>\n",
       "    </tr>\n",
       "    <tr>\n",
       "      <th>84</th>\n",
       "      <td>rfgap</td>\n",
       "      <td>500</td>\n",
       "      <td>conformity_auc</td>\n",
       "      <td>0.982098</td>\n",
       "      <td>0.031363</td>\n",
       "      <td>RF-ICE Conformity</td>\n",
       "    </tr>\n",
       "    <tr>\n",
       "      <th>85</th>\n",
       "      <td>NA</td>\n",
       "      <td>500</td>\n",
       "      <td>diff_proba_auc</td>\n",
       "      <td>0.937295</td>\n",
       "      <td>0.092798</td>\n",
       "      <td>Proba. Diff.</td>\n",
       "    </tr>\n",
       "    <tr>\n",
       "      <th>86</th>\n",
       "      <td>rfgap</td>\n",
       "      <td>500</td>\n",
       "      <td>ice_auc</td>\n",
       "      <td>0.934313</td>\n",
       "      <td>0.085554</td>\n",
       "      <td>RF-ICE (EMR)</td>\n",
       "    </tr>\n",
       "    <tr>\n",
       "      <th>87</th>\n",
       "      <td>NA</td>\n",
       "      <td>500</td>\n",
       "      <td>tree_conformity_auc</td>\n",
       "      <td>0.792525</td>\n",
       "      <td>0.125307</td>\n",
       "      <td>Tree Conformity</td>\n",
       "    </tr>\n",
       "  </tbody>\n",
       "</table>\n",
       "<p>88 rows × 6 columns</p>\n",
       "</div>"
      ],
      "text/plain": [
       "   prox_method  conformity_k               metric      mean       std  \\\n",
       "0           NA             1       diff_proba_auc  0.926252  0.130280   \n",
       "1          oob             1              ice_auc  0.930008  0.108878   \n",
       "2           NA             1  tree_conformity_auc  0.712665  0.214876   \n",
       "3           NA             5       diff_proba_auc  0.926252  0.130280   \n",
       "4          oob             5              ice_auc  0.930008  0.108878   \n",
       "..         ...           ...                  ...       ...       ...   \n",
       "83          NA           200  tree_conformity_auc  0.768926  0.162566   \n",
       "84       rfgap           500       conformity_auc  0.982098  0.031363   \n",
       "85          NA           500       diff_proba_auc  0.937295  0.092798   \n",
       "86       rfgap           500              ice_auc  0.934313  0.085554   \n",
       "87          NA           500  tree_conformity_auc  0.792525  0.125307   \n",
       "\n",
       "               Method  \n",
       "0        Proba. Diff.  \n",
       "1        RF-ICE (EMR)  \n",
       "2     Tree Conformity  \n",
       "3        Proba. Diff.  \n",
       "4        RF-ICE (EMR)  \n",
       "..                ...  \n",
       "83    Tree Conformity  \n",
       "84  RF-ICE Conformity  \n",
       "85       Proba. Diff.  \n",
       "86       RF-ICE (EMR)  \n",
       "87    Tree Conformity  \n",
       "\n",
       "[88 rows x 6 columns]"
      ]
     },
     "execution_count": 10,
     "metadata": {},
     "output_type": "execute_result"
    }
   ],
   "source": [
    "df_group"
   ]
  },
  {
   "cell_type": "code",
   "execution_count": 11,
   "id": "a066f33d",
   "metadata": {},
   "outputs": [
    {
     "data": {
      "application/vnd.microsoft.datawrangler.viewer.v0+json": {
       "columns": [
        {
         "name": "Method",
         "rawType": "object",
         "type": "string"
        },
        {
         "name": "mean",
         "rawType": "float64",
         "type": "float"
        }
       ],
       "ref": "d4334d2e-7323-49c2-8225-79af3f698e59",
       "rows": [
        [
         "Conformity",
         "0.9664294727865859"
        ],
        [
         "Proba. Diff.",
         "0.926847389001232"
        ],
        [
         "RF-ICE (EMR)",
         "0.9305677081098661"
        ],
        [
         "RF-ICE Conformity",
         "0.9669335873343179"
        ],
        [
         "Tree Conformity",
         "0.7171342484451815"
        ]
       ],
       "shape": {
        "columns": 1,
        "rows": 5
       }
      },
      "text/plain": [
       "Method\n",
       "Conformity           0.966429\n",
       "Proba. Diff.         0.926847\n",
       "RF-ICE (EMR)         0.930568\n",
       "RF-ICE Conformity    0.966934\n",
       "Tree Conformity      0.717134\n",
       "Name: mean, dtype: float64"
      ]
     },
     "execution_count": 11,
     "metadata": {},
     "output_type": "execute_result"
    }
   ],
   "source": [
    "df_group.groupby(['Method'])['mean'].median()"
   ]
  },
  {
   "cell_type": "code",
   "execution_count": 12,
   "id": "f0db0914",
   "metadata": {},
   "outputs": [],
   "source": [
    "# df_group = df_group[df_group['conformity_k'] > 10]"
   ]
  },
  {
   "cell_type": "code",
   "execution_count": 13,
   "id": "8599857d",
   "metadata": {},
   "outputs": [
    {
     "data": {
      "application/vnd.microsoft.datawrangler.viewer.v0+json": {
       "columns": [
        {
         "name": "Method",
         "rawType": "object",
         "type": "string"
        },
        {
         "name": "mean",
         "rawType": "float64",
         "type": "float"
        },
        {
         "name": "std",
         "rawType": "float64",
         "type": "float"
        }
       ],
       "ref": "5ce23ec5-ebf0-4ecd-8de6-c6b72c28f52b",
       "rows": [
        [
         "RF-ICE Conformity",
         "0.9653992523561694",
         "0.06783497539283437"
        ],
        [
         "Conformity",
         "0.9642156823867991",
         "0.0686197459617339"
        ],
        [
         "RF-ICE (EMR)",
         "0.931740262500357",
         "0.09884403454046409"
        ],
        [
         "Proba. Diff.",
         "0.928659557534965",
         "0.11813138037490789"
        ],
        [
         "Tree Conformity",
         "0.730254686305914",
         "0.19598458849111433"
        ]
       ],
       "shape": {
        "columns": 2,
        "rows": 5
       }
      },
      "text/html": [
       "<div>\n",
       "<style scoped>\n",
       "    .dataframe tbody tr th:only-of-type {\n",
       "        vertical-align: middle;\n",
       "    }\n",
       "\n",
       "    .dataframe tbody tr th {\n",
       "        vertical-align: top;\n",
       "    }\n",
       "\n",
       "    .dataframe thead th {\n",
       "        text-align: right;\n",
       "    }\n",
       "</style>\n",
       "<table border=\"1\" class=\"dataframe\">\n",
       "  <thead>\n",
       "    <tr style=\"text-align: right;\">\n",
       "      <th></th>\n",
       "      <th>mean</th>\n",
       "      <th>std</th>\n",
       "    </tr>\n",
       "    <tr>\n",
       "      <th>Method</th>\n",
       "      <th></th>\n",
       "      <th></th>\n",
       "    </tr>\n",
       "  </thead>\n",
       "  <tbody>\n",
       "    <tr>\n",
       "      <th>RF-ICE Conformity</th>\n",
       "      <td>0.965399</td>\n",
       "      <td>0.067835</td>\n",
       "    </tr>\n",
       "    <tr>\n",
       "      <th>Conformity</th>\n",
       "      <td>0.964216</td>\n",
       "      <td>0.068620</td>\n",
       "    </tr>\n",
       "    <tr>\n",
       "      <th>RF-ICE (EMR)</th>\n",
       "      <td>0.931740</td>\n",
       "      <td>0.098844</td>\n",
       "    </tr>\n",
       "    <tr>\n",
       "      <th>Proba. Diff.</th>\n",
       "      <td>0.928660</td>\n",
       "      <td>0.118131</td>\n",
       "    </tr>\n",
       "    <tr>\n",
       "      <th>Tree Conformity</th>\n",
       "      <td>0.730255</td>\n",
       "      <td>0.195985</td>\n",
       "    </tr>\n",
       "  </tbody>\n",
       "</table>\n",
       "</div>"
      ],
      "text/plain": [
       "                       mean       std\n",
       "Method                               \n",
       "RF-ICE Conformity  0.965399  0.067835\n",
       "Conformity         0.964216  0.068620\n",
       "RF-ICE (EMR)       0.931740  0.098844\n",
       "Proba. Diff.       0.928660  0.118131\n",
       "Tree Conformity    0.730255  0.195985"
      ]
     },
     "execution_count": 13,
     "metadata": {},
     "output_type": "execute_result"
    }
   ],
   "source": [
    "df_group.groupby('Method')[['mean', 'std']].mean().sort_values('mean', ascending=False)"
   ]
  },
  {
   "cell_type": "code",
   "execution_count": 14,
   "id": "890cf703",
   "metadata": {},
   "outputs": [
    {
     "name": "stdout",
     "output_type": "stream",
     "text": [
      "\\begin{tabular}{ll}\n",
      "\\toprule\n",
      "Method & AUC \\\\\n",
      "\\midrule\n",
      "RF-ICE Conformity & 0.965 ± 0.068 \\\\\n",
      "Conformity & 0.964 ± 0.069 \\\\\n",
      "RF-ICE (EMR) & 0.932 ± 0.099 \\\\\n",
      "Proba. Diff. & 0.929 ± 0.118 \\\\\n",
      "Tree Conformity & 0.730 ± 0.196 \\\\\n",
      "\\bottomrule\n",
      "\\end{tabular}\n",
      "\n"
     ]
    }
   ],
   "source": [
    "df_latex = df_group.groupby('Method')[['mean', 'std']].mean().sort_values('mean', ascending=False).reset_index()\n",
    "df_latex['AUC'] = df_latex.apply(lambda row: f\"{row['mean']:.3f} ± {row['std']:.3f}\", axis=1)\n",
    "latex_table = df_latex[['Method', 'AUC']].to_latex(index=False)\n",
    "print(latex_table)\n"
   ]
  },
  {
   "cell_type": "code",
   "execution_count": 15,
   "id": "ff6b4c90",
   "metadata": {},
   "outputs": [
    {
     "name": "stderr",
     "output_type": "stream",
     "text": [
      "/yunity/rhodes8/.local/lib/python3.10/site-packages/seaborn/_base.py:948: FutureWarning: When grouping with a length-1 list-like, you will need to pass a length-1 tuple to get_group in a future version of pandas. Pass `(name,)` instead of `name` to silence this warning.\n",
      "  data_subset = grouped_data.get_group(pd_key)\n",
      "/yunity/rhodes8/.local/lib/python3.10/site-packages/seaborn/categorical.py:632: FutureWarning: SeriesGroupBy.grouper is deprecated and will be removed in a future version of pandas.\n",
      "  positions = grouped.grouper.result_index.to_numpy(dtype=float)\n",
      "/yunity/rhodes8/.local/lib/python3.10/site-packages/seaborn/_base.py:948: FutureWarning: When grouping with a length-1 list-like, you will need to pass a length-1 tuple to get_group in a future version of pandas. Pass `(name,)` instead of `name` to silence this warning.\n",
      "  data_subset = grouped_data.get_group(pd_key)\n",
      "/yunity/rhodes8/.local/lib/python3.10/site-packages/seaborn/categorical.py:632: FutureWarning: SeriesGroupBy.grouper is deprecated and will be removed in a future version of pandas.\n",
      "  positions = grouped.grouper.result_index.to_numpy(dtype=float)\n",
      "/yunity/rhodes8/.local/lib/python3.10/site-packages/seaborn/_base.py:948: FutureWarning: When grouping with a length-1 list-like, you will need to pass a length-1 tuple to get_group in a future version of pandas. Pass `(name,)` instead of `name` to silence this warning.\n",
      "  data_subset = grouped_data.get_group(pd_key)\n",
      "/yunity/rhodes8/.local/lib/python3.10/site-packages/seaborn/categorical.py:632: FutureWarning: SeriesGroupBy.grouper is deprecated and will be removed in a future version of pandas.\n",
      "  positions = grouped.grouper.result_index.to_numpy(dtype=float)\n",
      "/yunity/rhodes8/.local/lib/python3.10/site-packages/seaborn/_base.py:948: FutureWarning: When grouping with a length-1 list-like, you will need to pass a length-1 tuple to get_group in a future version of pandas. Pass `(name,)` instead of `name` to silence this warning.\n",
      "  data_subset = grouped_data.get_group(pd_key)\n",
      "/yunity/rhodes8/.local/lib/python3.10/site-packages/seaborn/categorical.py:632: FutureWarning: SeriesGroupBy.grouper is deprecated and will be removed in a future version of pandas.\n",
      "  positions = grouped.grouper.result_index.to_numpy(dtype=float)\n"
     ]
    },
    {
     "data": {
      "image/png": "[encoded data removed]",
      "text/plain": [
       "<Figure size 640x480 with 1 Axes>"
      ]
     },
     "metadata": {},
     "output_type": "display_data"
    }
   ],
   "source": [
    "sns.boxplot(\n",
    "    # data=df_group[df_group['prox_method'] != 'oob'],\n",
    "    data = df_group,\n",
    "    # data = df_group[df_group['conformity_k'] == 20],\n",
    "    x='metric', y='mean', hue='prox_method'\n",
    ")\n",
    "plt.xticks(rotation=45)\n",
    "plt.legend(title='prox_method', bbox_to_anchor=(1.05, 1), loc='upper left')\n",
    "plt.tight_layout()"
   ]
  },
  {
   "cell_type": "code",
   "execution_count": 16,
   "id": "cc00996d",
   "metadata": {},
   "outputs": [],
   "source": [
    "## Acc. Rej. Curve Example\n",
    "\n",
    "file_path = \"../results/classification/qualitative/analcatdata_authorship_oob_k20_rs54887.pkl\"\n",
    "\n",
    "with open(file_path, \"rb\") as f:\n",
    "    data = pickle.load(f)\n"
   ]
  },
  {
   "cell_type": "code",
   "execution_count": 17,
   "id": "5340ca05",
   "metadata": {},
   "outputs": [
    {
     "data": {
      "text/plain": [
       "<Axes: >"
      ]
     },
     "execution_count": 17,
     "metadata": {},
     "output_type": "execute_result"
    },
    {
     "data": {
      "image/png": "[encoded data removed]",
      "text/plain": [
       "<Figure size 640x480 with 1 Axes>"
      ]
     },
     "metadata": {},
     "output_type": "display_data"
    }
   ],
   "source": [
    "sns.lineplot(\n",
    "             x = data['diff_proba_n_drop'],\n",
    "             y = data['diff_proba_accuarcy_drop']\n",
    ")\n",
    "\n",
    "sns.lineplot(\n",
    "             x = data['conformity_n_drop'],\n",
    "             y = data['conformity_accuracy_drop']\n",
    ")\n",
    "\n",
    "sns.lineplot(\n",
    "             x = data['ice_n_drop'],\n",
    "             y = data['ice_accuracy_drop']\n",
    ")\n",
    "\n",
    "sns.lineplot(\n",
    "             x = data['tree_conformity_n_drop'],\n",
    "             y = data['tree_conformity_accuracy_drop']\n",
    ")\n"
   ]
  },
  {
   "cell_type": "code",
   "execution_count": 18,
   "id": "a101f02b",
   "metadata": {},
   "outputs": [
    {
     "data": {
      "text/plain": [
       "dict_keys(['prox_method', 'conformity_k', 'random_state', 'oob_score_', 'diff_proba_auc', 'diff_proba_auc_test', 'conformity_auc', 'conformity_auc_test', 'diff_proba_accuarcy_drop', 'diff_proba_n_drop', 'diff_proba_accuracy_drop_test', 'diff_proba_n_drop_test', 'conformity_accuracy_drop', 'conformity_n_drop', 'conformity_accuracy_drop_test', 'conformity_n_drop_test', 'ice_auc', 'ice_auc_test', 'ice_accuracy_drop', 'ice_n_drop', 'ice_accuracy_drop_test', 'ice_n_drop_test', 'tree_conformity', 'tree_conformity_test', 'tree_conformity_accuracy_drop', 'tree_conformity_accuracy_drop_test', 'tree_conformity_n_drop', 'tree_conformity_n_drop_test', 'tree_conformity_auc', 'tree_conformity_auc_test', 'name', 'n_features', 'n_samples'])"
      ]
     },
     "execution_count": 18,
     "metadata": {},
     "output_type": "execute_result"
    }
   ],
   "source": [
    "data.keys()"
   ]
  }
 ],
 "metadata": {
  "kernelspec": {
   "display_name": "rf-uncertainty",
   "language": "python",
   "name": "python3"
  },
  "language_info": {
   "codemirror_mode": {
    "name": "ipython",
    "version": 3
   },
   "file_extension": ".py",
   "mimetype": "text/x-python",
   "name": "python",
   "nbconvert_exporter": "python",
   "pygments_lexer": "ipython3",
   "version": "3.10.18"
  }
 },
 "nbformat": 4,
 "nbformat_minor": 5
}
