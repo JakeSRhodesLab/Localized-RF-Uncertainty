{
 "cells": [
  {
   "cell_type": "code",
   "execution_count": 37,
   "id": "20661f8f",
   "metadata": {},
   "outputs": [],
   "source": [
    "import os\n",
    "import pickle\n",
    "from concurrent.futures import ThreadPoolExecutor\n",
    "from concurrent.futures import ProcessPoolExecutor, as_completed\n",
    "from pathlib import Path\n",
    "import pandas as pd\n",
    "import matplotlib.pyplot as plt\n",
    "import numpy as np\n",
    "import seaborn as sns\n",
    "import matplotlib.pyplot as plt\n",
    "\n",
    "import sys\n",
    "sys.path.append(str(Path.cwd().parent))"
   ]
  },
  {
   "cell_type": "code",
   "execution_count": 38,
   "id": "0dd93fbe",
   "metadata": {},
   "outputs": [],
   "source": [
    "# Directory containing pickle files\n",
    "directory = Path(\"../results/classification/quantitative\")\n",
    "\n",
    "# Optionally filter for specific substrings\n",
    "pkl_files = [f for f in directory.iterdir() if f.suffix == \".pkl\"]\n",
    "\n",
    "# Efficient loader\n",
    "def load_file(file_path):\n",
    "    try:\n",
    "        with open(file_path, \"rb\") as f:\n",
    "            data = pickle.load(f)\n",
    "            if isinstance(data, dict):\n",
    "                return file_path.name, data\n",
    "    except (EOFError, pickle.UnpicklingError) as e:\n",
    "        print(f\"Warning: Failed to load {file_path.name}: {e}\")\n",
    "    except Exception as e:\n",
    "        print(f\"Unexpected error with {file_path.name}: {e}\")\n",
    "    return None\n",
    "\n",
    "# Load files using multithreading (I/O bound)\n",
    "all_data = {}\n",
    "with ThreadPoolExecutor() as executor:\n",
    "    futures = [executor.submit(load_file, f) for f in pkl_files]\n",
    "    for future in as_completed(futures):\n",
    "        result = future.result()\n",
    "        if result:\n",
    "            filename, data = result\n",
    "            all_data[filename] = data\n",
    "\n",
    "files = list(all_data.keys())\n"
   ]
  },
  {
   "cell_type": "code",
   "execution_count": 39,
   "id": "7131e3c1",
   "metadata": {},
   "outputs": [
    {
     "name": "stdout",
     "output_type": "stream",
     "text": [
      "(8923, 15)\n"
     ]
    }
   ],
   "source": [
    "records = []\n",
    "\n",
    "for file, dictionary in all_data.items():\n",
    "    records.append(dictionary)\n",
    "\n",
    "# Create the DataFrame\n",
    "df = pd.DataFrame(records)\n",
    "\n",
    "\n",
    "# df = df.dropna(\n",
    "#     subset=[col for col in df.columns if col not in ['file', 'dataset_name', 'method_name', 'missing_type', 'pct', 'random_state']],\n",
    "#     how='all'\n",
    "# )\n",
    "\n",
    "\n",
    "# df.drop(columns=['file'], inplace=True)\n",
    "print(df.shape)\n",
    "\n"
   ]
  },
  {
   "cell_type": "code",
   "execution_count": 40,
   "id": "115c8071",
   "metadata": {},
   "outputs": [
    {
     "data": {
      "text/plain": [
       "'dna_rfgap_k200_rs671156.pkl'"
      ]
     },
     "execution_count": 40,
     "metadata": {},
     "output_type": "execute_result"
    }
   ],
   "source": [
    "file"
   ]
  },
  {
   "cell_type": "code",
   "execution_count": 41,
   "id": "d8e5055b",
   "metadata": {},
   "outputs": [],
   "source": [
    "# Main methods: RF-ICE, Conformity (based on three proximity types), difference in probabilities (independent of proximities)"
   ]
  },
  {
   "cell_type": "code",
   "execution_count": 42,
   "id": "58a9560e",
   "metadata": {},
   "outputs": [
    {
     "data": {
      "text/plain": [
       "Index(['prox_method', 'conformity_k', 'random_state', 'oob_score_',\n",
       "       'diff_proba_auc', 'diff_proba_auc_test', 'conformity_auc',\n",
       "       'conformity_auc_test', 'ice_auc', 'ice_auc_test', 'tree_conformity_auc',\n",
       "       'tree_conformity_auc_test', 'name', 'n_features', 'n_samples'],\n",
       "      dtype='object')"
      ]
     },
     "execution_count": 42,
     "metadata": {},
     "output_type": "execute_result"
    }
   ],
   "source": [
    "df.columns"
   ]
  },
  {
   "cell_type": "code",
   "execution_count": 43,
   "id": "30b43dd0",
   "metadata": {},
   "outputs": [],
   "source": [
    "df_long = df.melt(\n",
    "        id_vars=['name', 'random_state', 'prox_method', 'conformity_k'],\n",
    "        value_vars=[\n",
    "                'ice_auc', 'diff_proba_auc', 'conformity_auc',\n",
    "                'ice_auc_test', 'diff_proba_auc_test', 'conformity_auc_test',\n",
    "                'tree_conformity_auc', 'tree_conformity_auc_test'\n",
    "        ],\n",
    "        var_name='metric',\n",
    "        value_name='auc'\n",
    ")"
   ]
  },
  {
   "cell_type": "code",
   "execution_count": 44,
   "id": "e7b5575d",
   "metadata": {},
   "outputs": [
    {
     "data": {
      "application/vnd.microsoft.datawrangler.viewer.v0+json": {
       "columns": [
        {
         "name": "index",
         "rawType": "int64",
         "type": "integer"
        },
        {
         "name": "name",
         "rawType": "object",
         "type": "string"
        },
        {
         "name": "random_state",
         "rawType": "int64",
         "type": "integer"
        },
        {
         "name": "prox_method",
         "rawType": "object",
         "type": "string"
        },
        {
         "name": "conformity_k",
         "rawType": "int64",
         "type": "integer"
        },
        {
         "name": "metric",
         "rawType": "object",
         "type": "string"
        },
        {
         "name": "auc",
         "rawType": "float64",
         "type": "float"
        }
       ],
       "ref": "7cf82b18-7f3c-445d-9e0c-87a717225c66",
       "rows": [
        [
         "0",
         "mfeat-zernike",
         "137338",
         "rfgap",
         "20",
         "ice_auc",
         "0.9296304585806086"
        ],
        [
         "1",
         "qsar-biodeg",
         "137338",
         "oob",
         "10",
         "ice_auc",
         "0.923954490020922"
        ],
        [
         "2",
         "mfeat-fourier",
         "110269",
         "oob",
         "50",
         "ice_auc",
         "0.9434742395389856"
        ],
        [
         "3",
         "pc4",
         "54887",
         "original",
         "100",
         "ice_auc",
         "0.9850105973344552"
        ],
        [
         "4",
         "mfeat-zernike",
         "110269",
         "oob",
         "5",
         "ice_auc",
         "0.9283146464935887"
        ],
        [
         "5",
         "optdigits",
         "121959",
         "rfgap",
         "50",
         "ice_auc",
         "0.9916877177462479"
        ],
        [
         "6",
         "texture",
         "137338",
         "rfgap",
         "200",
         "ice_auc",
         "0.9944697958899829"
        ],
        [
         "7",
         "mfeat-morphological",
         "110269",
         "rfgap",
         "5",
         "ice_auc",
         "0.9069409974578786"
        ],
        [
         "8",
         "ilpd",
         "121959",
         "original",
         "100",
         "ice_auc",
         "0.8529643134507036"
        ],
        [
         "9",
         "first-order-theorem-proving",
         "671156",
         "original",
         "50",
         "ice_auc",
         "0.8177045642023042"
        ],
        [
         "10",
         "wdbc",
         "732181",
         "oob",
         "100",
         "ice_auc",
         "0.9723633543323503"
        ],
        [
         "11",
         "churn",
         "644168",
         "oob",
         "100",
         "ice_auc",
         "0.9613758619132415"
        ],
        [
         "12",
         "qsar-biodeg",
         "732181",
         "rfgap",
         "1",
         "ice_auc",
         "0.939885318652173"
        ],
        [
         "13",
         "splice",
         "110269",
         "oob",
         "200",
         "ice_auc",
         "0.9791549685746226"
        ],
        [
         "14",
         "wdbc",
         "732181",
         "original",
         "100",
         "ice_auc",
         "0.9723633543323503"
        ],
        [
         "15",
         "splice",
         "259179",
         "original",
         "100",
         "ice_auc",
         "0.975321976321071"
        ],
        [
         "16",
         "wdbc",
         "732181",
         "original",
         "10",
         "ice_auc",
         "0.9723633543323503"
        ],
        [
         "17",
         "pc3",
         "54887",
         "original",
         "50",
         "ice_auc",
         "0.9669639405661087"
        ],
        [
         "18",
         "car",
         "110269",
         "original",
         "20",
         "ice_auc",
         "0.9933365721931517"
        ],
        [
         "19",
         "splice",
         "110269",
         "original",
         "20",
         "ice_auc",
         "0.9791549685746226"
        ],
        [
         "20",
         "splice",
         "259179",
         "rfgap",
         "200",
         "ice_auc",
         "0.975321976321071"
        ],
        [
         "21",
         "banknote-authentication",
         "121959",
         "original",
         "100",
         "ice_auc",
         "0.9913322541308645"
        ],
        [
         "22",
         "optdigits",
         "259179",
         "rfgap",
         "100",
         "ice_auc",
         "0.9892860960498174"
        ],
        [
         "23",
         "optdigits",
         "54887",
         "oob",
         "5",
         "ice_auc",
         "0.992710470728743"
        ],
        [
         "24",
         "splice",
         "259179",
         "oob",
         "1",
         "ice_auc",
         "0.975321976321071"
        ],
        [
         "25",
         "Bioresponse",
         "259179",
         "original",
         "20",
         "ice_auc",
         "0.8774946984249777"
        ],
        [
         "26",
         "pc4",
         "644168",
         "oob",
         "100",
         "ice_auc",
         "0.9827264725785901"
        ],
        [
         "27",
         "tic-tac-toe",
         "54887",
         "oob",
         "50",
         "ice_auc",
         "0.9893044979036374"
        ],
        [
         "28",
         "phoneme",
         "365839",
         "rfgap",
         "1",
         "ice_auc",
         "0.9624948322596549"
        ],
        [
         "29",
         "isolet",
         "131933",
         "rfgap",
         "20",
         "ice_auc",
         "0.9710443163790676"
        ],
        [
         "30",
         "wall-robot-navigation",
         "121959",
         "rfgap",
         "50",
         "ice_auc",
         "0.996383781737006"
        ],
        [
         "31",
         "credit-g",
         "732181",
         "original",
         "5",
         "ice_auc",
         "0.8525525468100251"
        ],
        [
         "32",
         "churn",
         "110269",
         "oob",
         "5",
         "ice_auc",
         "0.9644637049848531"
        ],
        [
         "33",
         "optdigits",
         "365839",
         "oob",
         "100",
         "ice_auc",
         "0.9881135422771883"
        ],
        [
         "34",
         "analcatdata_dmft",
         "137338",
         "oob",
         "50",
         "ice_auc",
         "0.30037318065552493"
        ],
        [
         "35",
         "pc4",
         "671156",
         "original",
         "50",
         "ice_auc",
         "0.9785382266931059"
        ],
        [
         "36",
         "ozone-level-8hr",
         "365839",
         "oob",
         "20",
         "ice_auc",
         "0.9848268986555438"
        ],
        [
         "37",
         "wall-robot-navigation",
         "259179",
         "oob",
         "5",
         "ice_auc",
         "0.9961109041530437"
        ],
        [
         "38",
         "banknote-authentication",
         "644168",
         "rfgap",
         "5",
         "ice_auc",
         "0.9907501600647226"
        ],
        [
         "39",
         "credit-g",
         "121959",
         "original",
         "5",
         "ice_auc",
         "0.842975038305535"
        ],
        [
         "40",
         "GesturePhaseSegmentationProcessed",
         "365839",
         "rfgap",
         "50",
         "ice_auc",
         "0.7725868529476198"
        ],
        [
         "41",
         "wdbc",
         "131933",
         "original",
         "5",
         "ice_auc",
         "0.982017540106271"
        ],
        [
         "42",
         "blood-transfusion-service-center",
         "54887",
         "rfgap",
         "50",
         "ice_auc",
         "0.858816110225097"
        ],
        [
         "43",
         "qsar-biodeg",
         "259179",
         "oob",
         "100",
         "ice_auc",
         "0.9401036961613706"
        ],
        [
         "44",
         "wilt",
         "121959",
         "original",
         "100",
         "ice_auc",
         "0.9937418275417679"
        ],
        [
         "45",
         "credit-g",
         "732181",
         "rfgap",
         "100",
         "ice_auc",
         "0.8525525468100251"
        ],
        [
         "46",
         "vowel",
         "259179",
         "rfgap",
         "1",
         "ice_auc",
         "0.9650659495271908"
        ],
        [
         "47",
         "mfeat-morphological",
         "365839",
         "rfgap",
         "50",
         "ice_auc",
         "0.9011686158503178"
        ],
        [
         "48",
         "cnae-9",
         "259179",
         "original",
         "20",
         "ice_auc",
         "0.9708077954341761"
        ],
        [
         "49",
         "wilt",
         "732181",
         "original",
         "50",
         "ice_auc",
         "0.9948352632923576"
        ]
       ],
       "shape": {
        "columns": 6,
        "rows": 71384
       }
      },
      "text/html": [
       "<div>\n",
       "<style scoped>\n",
       "    .dataframe tbody tr th:only-of-type {\n",
       "        vertical-align: middle;\n",
       "    }\n",
       "\n",
       "    .dataframe tbody tr th {\n",
       "        vertical-align: top;\n",
       "    }\n",
       "\n",
       "    .dataframe thead th {\n",
       "        text-align: right;\n",
       "    }\n",
       "</style>\n",
       "<table border=\"1\" class=\"dataframe\">\n",
       "  <thead>\n",
       "    <tr style=\"text-align: right;\">\n",
       "      <th></th>\n",
       "      <th>name</th>\n",
       "      <th>random_state</th>\n",
       "      <th>prox_method</th>\n",
       "      <th>conformity_k</th>\n",
       "      <th>metric</th>\n",
       "      <th>auc</th>\n",
       "    </tr>\n",
       "  </thead>\n",
       "  <tbody>\n",
       "    <tr>\n",
       "      <th>0</th>\n",
       "      <td>mfeat-zernike</td>\n",
       "      <td>137338</td>\n",
       "      <td>rfgap</td>\n",
       "      <td>20</td>\n",
       "      <td>ice_auc</td>\n",
       "      <td>0.929630</td>\n",
       "    </tr>\n",
       "    <tr>\n",
       "      <th>1</th>\n",
       "      <td>qsar-biodeg</td>\n",
       "      <td>137338</td>\n",
       "      <td>oob</td>\n",
       "      <td>10</td>\n",
       "      <td>ice_auc</td>\n",
       "      <td>0.923954</td>\n",
       "    </tr>\n",
       "    <tr>\n",
       "      <th>2</th>\n",
       "      <td>mfeat-fourier</td>\n",
       "      <td>110269</td>\n",
       "      <td>oob</td>\n",
       "      <td>50</td>\n",
       "      <td>ice_auc</td>\n",
       "      <td>0.943474</td>\n",
       "    </tr>\n",
       "    <tr>\n",
       "      <th>3</th>\n",
       "      <td>pc4</td>\n",
       "      <td>54887</td>\n",
       "      <td>original</td>\n",
       "      <td>100</td>\n",
       "      <td>ice_auc</td>\n",
       "      <td>0.985011</td>\n",
       "    </tr>\n",
       "    <tr>\n",
       "      <th>4</th>\n",
       "      <td>mfeat-zernike</td>\n",
       "      <td>110269</td>\n",
       "      <td>oob</td>\n",
       "      <td>5</td>\n",
       "      <td>ice_auc</td>\n",
       "      <td>0.928315</td>\n",
       "    </tr>\n",
       "    <tr>\n",
       "      <th>...</th>\n",
       "      <td>...</td>\n",
       "      <td>...</td>\n",
       "      <td>...</td>\n",
       "      <td>...</td>\n",
       "      <td>...</td>\n",
       "      <td>...</td>\n",
       "    </tr>\n",
       "    <tr>\n",
       "      <th>71379</th>\n",
       "      <td>churn</td>\n",
       "      <td>131933</td>\n",
       "      <td>original</td>\n",
       "      <td>200</td>\n",
       "      <td>tree_conformity_auc_test</td>\n",
       "      <td>0.848689</td>\n",
       "    </tr>\n",
       "    <tr>\n",
       "      <th>71380</th>\n",
       "      <td>kr-vs-kp</td>\n",
       "      <td>54887</td>\n",
       "      <td>original</td>\n",
       "      <td>50</td>\n",
       "      <td>tree_conformity_auc_test</td>\n",
       "      <td>0.836209</td>\n",
       "    </tr>\n",
       "    <tr>\n",
       "      <th>71381</th>\n",
       "      <td>first-order-theorem-proving</td>\n",
       "      <td>137338</td>\n",
       "      <td>original</td>\n",
       "      <td>5</td>\n",
       "      <td>tree_conformity_auc_test</td>\n",
       "      <td>0.771495</td>\n",
       "    </tr>\n",
       "    <tr>\n",
       "      <th>71382</th>\n",
       "      <td>pc1</td>\n",
       "      <td>671156</td>\n",
       "      <td>original</td>\n",
       "      <td>20</td>\n",
       "      <td>tree_conformity_auc_test</td>\n",
       "      <td>0.466124</td>\n",
       "    </tr>\n",
       "    <tr>\n",
       "      <th>71383</th>\n",
       "      <td>dna</td>\n",
       "      <td>671156</td>\n",
       "      <td>rfgap</td>\n",
       "      <td>200</td>\n",
       "      <td>tree_conformity_auc_test</td>\n",
       "      <td>0.972903</td>\n",
       "    </tr>\n",
       "  </tbody>\n",
       "</table>\n",
       "<p>71384 rows × 6 columns</p>\n",
       "</div>"
      ],
      "text/plain": [
       "                              name  random_state prox_method  conformity_k  \\\n",
       "0                    mfeat-zernike        137338       rfgap            20   \n",
       "1                      qsar-biodeg        137338         oob            10   \n",
       "2                    mfeat-fourier        110269         oob            50   \n",
       "3                              pc4         54887    original           100   \n",
       "4                    mfeat-zernike        110269         oob             5   \n",
       "...                            ...           ...         ...           ...   \n",
       "71379                        churn        131933    original           200   \n",
       "71380                     kr-vs-kp         54887    original            50   \n",
       "71381  first-order-theorem-proving        137338    original             5   \n",
       "71382                          pc1        671156    original            20   \n",
       "71383                          dna        671156       rfgap           200   \n",
       "\n",
       "                         metric       auc  \n",
       "0                       ice_auc  0.929630  \n",
       "1                       ice_auc  0.923954  \n",
       "2                       ice_auc  0.943474  \n",
       "3                       ice_auc  0.985011  \n",
       "4                       ice_auc  0.928315  \n",
       "...                         ...       ...  \n",
       "71379  tree_conformity_auc_test  0.848689  \n",
       "71380  tree_conformity_auc_test  0.836209  \n",
       "71381  tree_conformity_auc_test  0.771495  \n",
       "71382  tree_conformity_auc_test  0.466124  \n",
       "71383  tree_conformity_auc_test  0.972903  \n",
       "\n",
       "[71384 rows x 6 columns]"
      ]
     },
     "execution_count": 44,
     "metadata": {},
     "output_type": "execute_result"
    }
   ],
   "source": [
    "df_long"
   ]
  },
  {
   "cell_type": "code",
   "execution_count": 45,
   "id": "a92efa3c",
   "metadata": {},
   "outputs": [],
   "source": [
    "df_group = df_long.groupby(['prox_method', 'conformity_k', 'metric'])['auc'].agg(['mean', 'std']).reset_index()\n"
   ]
  },
  {
   "cell_type": "code",
   "execution_count": 46,
   "id": "ea973afa",
   "metadata": {},
   "outputs": [
    {
     "data": {
      "application/vnd.microsoft.datawrangler.viewer.v0+json": {
       "columns": [
        {
         "name": "index",
         "rawType": "int64",
         "type": "integer"
        },
        {
         "name": "prox_method",
         "rawType": "object",
         "type": "string"
        },
        {
         "name": "conformity_k",
         "rawType": "int64",
         "type": "integer"
        },
        {
         "name": "metric",
         "rawType": "object",
         "type": "string"
        },
        {
         "name": "mean",
         "rawType": "float64",
         "type": "float"
        },
        {
         "name": "std",
         "rawType": "float64",
         "type": "float"
        }
       ],
       "ref": "429d50b9-22fd-40c3-ad59-dc791941b5e7",
       "rows": [
        [
         "0",
         "oob",
         "1",
         "conformity_auc",
         "0.9330195007274061",
         "0.09937357333621602"
        ],
        [
         "1",
         "oob",
         "1",
         "conformity_auc_test",
         "0.9348032341878517",
         "0.09627465110752795"
        ],
        [
         "2",
         "oob",
         "1",
         "diff_proba_auc",
         "0.9242120665674088",
         "0.1333905732348265"
        ],
        [
         "3",
         "oob",
         "1",
         "diff_proba_auc_test",
         "0.9278515755208067",
         "0.13199059946704503"
        ],
        [
         "4",
         "oob",
         "1",
         "ice_auc",
         "0.928631451502294",
         "0.11093387210758904"
        ],
        [
         "5",
         "oob",
         "1",
         "ice_auc_test",
         "0.922870852907868",
         "0.13118536582498982"
        ],
        [
         "6",
         "oob",
         "1",
         "tree_conformity_auc",
         "0.7014116990126863",
         "0.21867439332138316"
        ],
        [
         "7",
         "oob",
         "1",
         "tree_conformity_auc_test",
         "0.7423054254376855",
         "0.2013302133995621"
        ],
        [
         "8",
         "oob",
         "5",
         "conformity_auc",
         "0.9536488866741452",
         "0.08847968394311714"
        ],
        [
         "9",
         "oob",
         "5",
         "conformity_auc_test",
         "0.9505967770413863",
         "0.0915662803210995"
        ],
        [
         "10",
         "oob",
         "5",
         "diff_proba_auc",
         "0.9238431216796614",
         "0.13373607099630413"
        ],
        [
         "11",
         "oob",
         "5",
         "diff_proba_auc_test",
         "0.927478707394931",
         "0.13232906141631218"
        ],
        [
         "12",
         "oob",
         "5",
         "ice_auc",
         "0.9283622508064633",
         "0.11123662416312646"
        ],
        [
         "13",
         "oob",
         "5",
         "ice_auc_test",
         "0.922529807673737",
         "0.131534344947845"
        ],
        [
         "14",
         "oob",
         "5",
         "tree_conformity_auc",
         "0.6998553142812147",
         "0.21849856569037676"
        ],
        [
         "15",
         "oob",
         "5",
         "tree_conformity_auc_test",
         "0.7409583825536686",
         "0.201261690414665"
        ],
        [
         "16",
         "oob",
         "10",
         "conformity_auc",
         "0.9605236266605716",
         "0.08625661171882718"
        ],
        [
         "17",
         "oob",
         "10",
         "conformity_auc_test",
         "0.9562134738336657",
         "0.0906731942954618"
        ],
        [
         "18",
         "oob",
         "10",
         "diff_proba_auc",
         "0.9238431216796614",
         "0.13373607099630408"
        ],
        [
         "19",
         "oob",
         "10",
         "diff_proba_auc_test",
         "0.927478707394931",
         "0.13232906141631223"
        ],
        [
         "20",
         "oob",
         "10",
         "ice_auc",
         "0.9283622508064633",
         "0.11123662416312652"
        ],
        [
         "21",
         "oob",
         "10",
         "ice_auc_test",
         "0.922529807673737",
         "0.13153434494784497"
        ],
        [
         "22",
         "oob",
         "10",
         "tree_conformity_auc",
         "0.6998553142812147",
         "0.2184985656903767"
        ],
        [
         "23",
         "oob",
         "10",
         "tree_conformity_auc_test",
         "0.7409583825536686",
         "0.20126169041466518"
        ],
        [
         "24",
         "oob",
         "20",
         "conformity_auc",
         "0.9651026442588947",
         "0.08459148684455133"
        ],
        [
         "25",
         "oob",
         "20",
         "conformity_auc_test",
         "0.960298158196847",
         "0.08922461216000711"
        ],
        [
         "26",
         "oob",
         "20",
         "diff_proba_auc",
         "0.9238431216796614",
         "0.13373607099630408"
        ],
        [
         "27",
         "oob",
         "20",
         "diff_proba_auc_test",
         "0.927478707394931",
         "0.13232906141631212"
        ],
        [
         "28",
         "oob",
         "20",
         "ice_auc",
         "0.9283622508064633",
         "0.11123662416312648"
        ],
        [
         "29",
         "oob",
         "20",
         "ice_auc_test",
         "0.922529807673737",
         "0.13153434494784494"
        ],
        [
         "30",
         "oob",
         "20",
         "tree_conformity_auc",
         "0.6998553142812147",
         "0.2184985656903767"
        ],
        [
         "31",
         "oob",
         "20",
         "tree_conformity_auc_test",
         "0.7409583825536686",
         "0.20126169041466496"
        ],
        [
         "32",
         "oob",
         "50",
         "conformity_auc",
         "0.9661295135779652",
         "0.08641764838692507"
        ],
        [
         "33",
         "oob",
         "50",
         "conformity_auc_test",
         "0.963034023983399",
         "0.08805589142331136"
        ],
        [
         "34",
         "oob",
         "50",
         "diff_proba_auc",
         "0.9185641444262921",
         "0.1402485007862993"
        ],
        [
         "35",
         "oob",
         "50",
         "diff_proba_auc_test",
         "0.9222638874128938",
         "0.1389175386789791"
        ],
        [
         "36",
         "oob",
         "50",
         "ice_auc",
         "0.9250807871972516",
         "0.11681188126218442"
        ],
        [
         "37",
         "oob",
         "50",
         "ice_auc_test",
         "0.9187801084413388",
         "0.1381857219262464"
        ],
        [
         "38",
         "oob",
         "50",
         "tree_conformity_auc",
         "0.6892005822783602",
         "0.22163690315609016"
        ],
        [
         "39",
         "oob",
         "50",
         "tree_conformity_auc_test",
         "0.7296921133008439",
         "0.20556368483413884"
        ],
        [
         "40",
         "oob",
         "100",
         "conformity_auc",
         "0.9787367152855574",
         "0.035055269787214925"
        ],
        [
         "41",
         "oob",
         "100",
         "conformity_auc_test",
         "0.9760245970689975",
         "0.036262115863107305"
        ],
        [
         "42",
         "oob",
         "100",
         "diff_proba_auc",
         "0.9331537182250565",
         "0.08962040969773265"
        ],
        [
         "43",
         "oob",
         "100",
         "diff_proba_auc_test",
         "0.9368831572201538",
         "0.08535824477918454"
        ],
        [
         "44",
         "oob",
         "100",
         "ice_auc",
         "0.9381588010534357",
         "0.06967106731141039"
        ],
        [
         "45",
         "oob",
         "100",
         "ice_auc_test",
         "0.9341265998247104",
         "0.07944659034384356"
        ],
        [
         "46",
         "oob",
         "100",
         "tree_conformity_auc",
         "0.7059399374614577",
         "0.20500178384241974"
        ],
        [
         "47",
         "oob",
         "100",
         "tree_conformity_auc_test",
         "0.7473801168285745",
         "0.18537270613932322"
        ],
        [
         "48",
         "oob",
         "200",
         "conformity_auc",
         "0.978859969035299",
         "0.040759580113243765"
        ],
        [
         "49",
         "oob",
         "200",
         "conformity_auc_test",
         "0.9765590141282193",
         "0.04049923769723127"
        ]
       ],
       "shape": {
        "columns": 5,
        "rows": 192
       }
      },
      "text/html": [
       "<div>\n",
       "<style scoped>\n",
       "    .dataframe tbody tr th:only-of-type {\n",
       "        vertical-align: middle;\n",
       "    }\n",
       "\n",
       "    .dataframe tbody tr th {\n",
       "        vertical-align: top;\n",
       "    }\n",
       "\n",
       "    .dataframe thead th {\n",
       "        text-align: right;\n",
       "    }\n",
       "</style>\n",
       "<table border=\"1\" class=\"dataframe\">\n",
       "  <thead>\n",
       "    <tr style=\"text-align: right;\">\n",
       "      <th></th>\n",
       "      <th>prox_method</th>\n",
       "      <th>conformity_k</th>\n",
       "      <th>metric</th>\n",
       "      <th>mean</th>\n",
       "      <th>std</th>\n",
       "    </tr>\n",
       "  </thead>\n",
       "  <tbody>\n",
       "    <tr>\n",
       "      <th>0</th>\n",
       "      <td>oob</td>\n",
       "      <td>1</td>\n",
       "      <td>conformity_auc</td>\n",
       "      <td>0.933020</td>\n",
       "      <td>0.099374</td>\n",
       "    </tr>\n",
       "    <tr>\n",
       "      <th>1</th>\n",
       "      <td>oob</td>\n",
       "      <td>1</td>\n",
       "      <td>conformity_auc_test</td>\n",
       "      <td>0.934803</td>\n",
       "      <td>0.096275</td>\n",
       "    </tr>\n",
       "    <tr>\n",
       "      <th>2</th>\n",
       "      <td>oob</td>\n",
       "      <td>1</td>\n",
       "      <td>diff_proba_auc</td>\n",
       "      <td>0.924212</td>\n",
       "      <td>0.133391</td>\n",
       "    </tr>\n",
       "    <tr>\n",
       "      <th>3</th>\n",
       "      <td>oob</td>\n",
       "      <td>1</td>\n",
       "      <td>diff_proba_auc_test</td>\n",
       "      <td>0.927852</td>\n",
       "      <td>0.131991</td>\n",
       "    </tr>\n",
       "    <tr>\n",
       "      <th>4</th>\n",
       "      <td>oob</td>\n",
       "      <td>1</td>\n",
       "      <td>ice_auc</td>\n",
       "      <td>0.928631</td>\n",
       "      <td>0.110934</td>\n",
       "    </tr>\n",
       "    <tr>\n",
       "      <th>...</th>\n",
       "      <td>...</td>\n",
       "      <td>...</td>\n",
       "      <td>...</td>\n",
       "      <td>...</td>\n",
       "      <td>...</td>\n",
       "    </tr>\n",
       "    <tr>\n",
       "      <th>187</th>\n",
       "      <td>rfgap</td>\n",
       "      <td>500</td>\n",
       "      <td>diff_proba_auc_test</td>\n",
       "      <td>0.941055</td>\n",
       "      <td>0.082098</td>\n",
       "    </tr>\n",
       "    <tr>\n",
       "      <th>188</th>\n",
       "      <td>rfgap</td>\n",
       "      <td>500</td>\n",
       "      <td>ice_auc</td>\n",
       "      <td>0.931753</td>\n",
       "      <td>0.082595</td>\n",
       "    </tr>\n",
       "    <tr>\n",
       "      <th>189</th>\n",
       "      <td>rfgap</td>\n",
       "      <td>500</td>\n",
       "      <td>ice_auc_test</td>\n",
       "      <td>0.935867</td>\n",
       "      <td>0.075055</td>\n",
       "    </tr>\n",
       "    <tr>\n",
       "      <th>190</th>\n",
       "      <td>rfgap</td>\n",
       "      <td>500</td>\n",
       "      <td>tree_conformity_auc</td>\n",
       "      <td>0.785979</td>\n",
       "      <td>0.125879</td>\n",
       "    </tr>\n",
       "    <tr>\n",
       "      <th>191</th>\n",
       "      <td>rfgap</td>\n",
       "      <td>500</td>\n",
       "      <td>tree_conformity_auc_test</td>\n",
       "      <td>0.830756</td>\n",
       "      <td>0.107619</td>\n",
       "    </tr>\n",
       "  </tbody>\n",
       "</table>\n",
       "<p>192 rows × 5 columns</p>\n",
       "</div>"
      ],
      "text/plain": [
       "    prox_method  conformity_k                    metric      mean       std\n",
       "0           oob             1            conformity_auc  0.933020  0.099374\n",
       "1           oob             1       conformity_auc_test  0.934803  0.096275\n",
       "2           oob             1            diff_proba_auc  0.924212  0.133391\n",
       "3           oob             1       diff_proba_auc_test  0.927852  0.131991\n",
       "4           oob             1                   ice_auc  0.928631  0.110934\n",
       "..          ...           ...                       ...       ...       ...\n",
       "187       rfgap           500       diff_proba_auc_test  0.941055  0.082098\n",
       "188       rfgap           500                   ice_auc  0.931753  0.082595\n",
       "189       rfgap           500              ice_auc_test  0.935867  0.075055\n",
       "190       rfgap           500       tree_conformity_auc  0.785979  0.125879\n",
       "191       rfgap           500  tree_conformity_auc_test  0.830756  0.107619\n",
       "\n",
       "[192 rows x 5 columns]"
      ]
     },
     "execution_count": 46,
     "metadata": {},
     "output_type": "execute_result"
    }
   ],
   "source": [
    "df_group"
   ]
  },
  {
   "cell_type": "code",
   "execution_count": 47,
   "id": "342c7d29",
   "metadata": {},
   "outputs": [
    {
     "data": {
      "text/plain": [
       "array(['conformity_auc', 'conformity_auc_test', 'diff_proba_auc',\n",
       "       'diff_proba_auc_test', 'ice_auc', 'ice_auc_test',\n",
       "       'tree_conformity_auc', 'tree_conformity_auc_test'], dtype=object)"
      ]
     },
     "execution_count": 47,
     "metadata": {},
     "output_type": "execute_result"
    }
   ],
   "source": [
    "df_group.metric.unique()"
   ]
  },
  {
   "cell_type": "code",
   "execution_count": 48,
   "id": "24baa6d8",
   "metadata": {},
   "outputs": [],
   "source": [
    "df_group.loc[\n",
    "    df_group['metric'].isin([\n",
    "        'diff_proba_auc', 'diff_proba_auc_test',\n",
    "        'tree_conformity_auc', 'tree_conformity_auc_test'\n",
    "    ]),\n",
    "    'prox_method'\n",
    "] = 'NA'"
   ]
  },
  {
   "cell_type": "code",
   "execution_count": 49,
   "id": "1e071e65",
   "metadata": {},
   "outputs": [
    {
     "data": {
      "application/vnd.microsoft.datawrangler.viewer.v0+json": {
       "columns": [
        {
         "name": "index",
         "rawType": "int64",
         "type": "integer"
        },
        {
         "name": "prox_method",
         "rawType": "object",
         "type": "string"
        },
        {
         "name": "conformity_k",
         "rawType": "int64",
         "type": "integer"
        },
        {
         "name": "metric",
         "rawType": "object",
         "type": "string"
        },
        {
         "name": "mean",
         "rawType": "float64",
         "type": "float"
        },
        {
         "name": "std",
         "rawType": "float64",
         "type": "float"
        }
       ],
       "ref": "42093317-8336-4f61-9705-7f832709a189",
       "rows": [
        [
         "0",
         "oob",
         "1",
         "conformity_auc",
         "0.9330195007274061",
         "0.09937357333621602"
        ],
        [
         "1",
         "oob",
         "1",
         "conformity_auc_test",
         "0.9348032341878517",
         "0.09627465110752795"
        ],
        [
         "2",
         "NA",
         "1",
         "diff_proba_auc",
         "0.9242120665674088",
         "0.1333905732348265"
        ],
        [
         "3",
         "NA",
         "1",
         "diff_proba_auc_test",
         "0.9278515755208067",
         "0.13199059946704503"
        ],
        [
         "4",
         "oob",
         "1",
         "ice_auc",
         "0.928631451502294",
         "0.11093387210758904"
        ],
        [
         "5",
         "oob",
         "1",
         "ice_auc_test",
         "0.922870852907868",
         "0.13118536582498982"
        ],
        [
         "6",
         "NA",
         "1",
         "tree_conformity_auc",
         "0.7014116990126863",
         "0.21867439332138316"
        ],
        [
         "7",
         "NA",
         "1",
         "tree_conformity_auc_test",
         "0.7423054254376855",
         "0.2013302133995621"
        ],
        [
         "8",
         "oob",
         "5",
         "conformity_auc",
         "0.9536488866741452",
         "0.08847968394311714"
        ],
        [
         "9",
         "oob",
         "5",
         "conformity_auc_test",
         "0.9505967770413863",
         "0.0915662803210995"
        ],
        [
         "10",
         "NA",
         "5",
         "diff_proba_auc",
         "0.9238431216796614",
         "0.13373607099630413"
        ],
        [
         "11",
         "NA",
         "5",
         "diff_proba_auc_test",
         "0.927478707394931",
         "0.13232906141631218"
        ],
        [
         "12",
         "oob",
         "5",
         "ice_auc",
         "0.9283622508064633",
         "0.11123662416312646"
        ],
        [
         "13",
         "oob",
         "5",
         "ice_auc_test",
         "0.922529807673737",
         "0.131534344947845"
        ],
        [
         "14",
         "NA",
         "5",
         "tree_conformity_auc",
         "0.6998553142812147",
         "0.21849856569037676"
        ],
        [
         "15",
         "NA",
         "5",
         "tree_conformity_auc_test",
         "0.7409583825536686",
         "0.201261690414665"
        ],
        [
         "16",
         "oob",
         "10",
         "conformity_auc",
         "0.9605236266605716",
         "0.08625661171882718"
        ],
        [
         "17",
         "oob",
         "10",
         "conformity_auc_test",
         "0.9562134738336657",
         "0.0906731942954618"
        ],
        [
         "18",
         "NA",
         "10",
         "diff_proba_auc",
         "0.9238431216796614",
         "0.13373607099630408"
        ],
        [
         "19",
         "NA",
         "10",
         "diff_proba_auc_test",
         "0.927478707394931",
         "0.13232906141631223"
        ],
        [
         "20",
         "oob",
         "10",
         "ice_auc",
         "0.9283622508064633",
         "0.11123662416312652"
        ],
        [
         "21",
         "oob",
         "10",
         "ice_auc_test",
         "0.922529807673737",
         "0.13153434494784497"
        ],
        [
         "22",
         "NA",
         "10",
         "tree_conformity_auc",
         "0.6998553142812147",
         "0.2184985656903767"
        ],
        [
         "23",
         "NA",
         "10",
         "tree_conformity_auc_test",
         "0.7409583825536686",
         "0.20126169041466518"
        ],
        [
         "24",
         "oob",
         "20",
         "conformity_auc",
         "0.9651026442588947",
         "0.08459148684455133"
        ],
        [
         "25",
         "oob",
         "20",
         "conformity_auc_test",
         "0.960298158196847",
         "0.08922461216000711"
        ],
        [
         "26",
         "NA",
         "20",
         "diff_proba_auc",
         "0.9238431216796614",
         "0.13373607099630408"
        ],
        [
         "27",
         "NA",
         "20",
         "diff_proba_auc_test",
         "0.927478707394931",
         "0.13232906141631212"
        ],
        [
         "28",
         "oob",
         "20",
         "ice_auc",
         "0.9283622508064633",
         "0.11123662416312648"
        ],
        [
         "29",
         "oob",
         "20",
         "ice_auc_test",
         "0.922529807673737",
         "0.13153434494784494"
        ],
        [
         "30",
         "NA",
         "20",
         "tree_conformity_auc",
         "0.6998553142812147",
         "0.2184985656903767"
        ],
        [
         "31",
         "NA",
         "20",
         "tree_conformity_auc_test",
         "0.7409583825536686",
         "0.20126169041466496"
        ],
        [
         "32",
         "oob",
         "50",
         "conformity_auc",
         "0.9661295135779652",
         "0.08641764838692507"
        ],
        [
         "33",
         "oob",
         "50",
         "conformity_auc_test",
         "0.963034023983399",
         "0.08805589142331136"
        ],
        [
         "34",
         "NA",
         "50",
         "diff_proba_auc",
         "0.9185641444262921",
         "0.1402485007862993"
        ],
        [
         "35",
         "NA",
         "50",
         "diff_proba_auc_test",
         "0.9222638874128938",
         "0.1389175386789791"
        ],
        [
         "36",
         "oob",
         "50",
         "ice_auc",
         "0.9250807871972516",
         "0.11681188126218442"
        ],
        [
         "37",
         "oob",
         "50",
         "ice_auc_test",
         "0.9187801084413388",
         "0.1381857219262464"
        ],
        [
         "38",
         "NA",
         "50",
         "tree_conformity_auc",
         "0.6892005822783602",
         "0.22163690315609016"
        ],
        [
         "39",
         "NA",
         "50",
         "tree_conformity_auc_test",
         "0.7296921133008439",
         "0.20556368483413884"
        ],
        [
         "40",
         "oob",
         "100",
         "conformity_auc",
         "0.9787367152855574",
         "0.035055269787214925"
        ],
        [
         "41",
         "oob",
         "100",
         "conformity_auc_test",
         "0.9760245970689975",
         "0.036262115863107305"
        ],
        [
         "42",
         "NA",
         "100",
         "diff_proba_auc",
         "0.9331537182250565",
         "0.08962040969773265"
        ],
        [
         "43",
         "NA",
         "100",
         "diff_proba_auc_test",
         "0.9368831572201538",
         "0.08535824477918454"
        ],
        [
         "44",
         "oob",
         "100",
         "ice_auc",
         "0.9381588010534357",
         "0.06967106731141039"
        ],
        [
         "45",
         "oob",
         "100",
         "ice_auc_test",
         "0.9341265998247104",
         "0.07944659034384356"
        ],
        [
         "46",
         "NA",
         "100",
         "tree_conformity_auc",
         "0.7059399374614577",
         "0.20500178384241974"
        ],
        [
         "47",
         "NA",
         "100",
         "tree_conformity_auc_test",
         "0.7473801168285745",
         "0.18537270613932322"
        ],
        [
         "48",
         "oob",
         "200",
         "conformity_auc",
         "0.978859969035299",
         "0.040759580113243765"
        ],
        [
         "49",
         "oob",
         "200",
         "conformity_auc_test",
         "0.9765590141282193",
         "0.04049923769723127"
        ]
       ],
       "shape": {
        "columns": 5,
        "rows": 192
       }
      },
      "text/html": [
       "<div>\n",
       "<style scoped>\n",
       "    .dataframe tbody tr th:only-of-type {\n",
       "        vertical-align: middle;\n",
       "    }\n",
       "\n",
       "    .dataframe tbody tr th {\n",
       "        vertical-align: top;\n",
       "    }\n",
       "\n",
       "    .dataframe thead th {\n",
       "        text-align: right;\n",
       "    }\n",
       "</style>\n",
       "<table border=\"1\" class=\"dataframe\">\n",
       "  <thead>\n",
       "    <tr style=\"text-align: right;\">\n",
       "      <th></th>\n",
       "      <th>prox_method</th>\n",
       "      <th>conformity_k</th>\n",
       "      <th>metric</th>\n",
       "      <th>mean</th>\n",
       "      <th>std</th>\n",
       "    </tr>\n",
       "  </thead>\n",
       "  <tbody>\n",
       "    <tr>\n",
       "      <th>0</th>\n",
       "      <td>oob</td>\n",
       "      <td>1</td>\n",
       "      <td>conformity_auc</td>\n",
       "      <td>0.933020</td>\n",
       "      <td>0.099374</td>\n",
       "    </tr>\n",
       "    <tr>\n",
       "      <th>1</th>\n",
       "      <td>oob</td>\n",
       "      <td>1</td>\n",
       "      <td>conformity_auc_test</td>\n",
       "      <td>0.934803</td>\n",
       "      <td>0.096275</td>\n",
       "    </tr>\n",
       "    <tr>\n",
       "      <th>2</th>\n",
       "      <td>NA</td>\n",
       "      <td>1</td>\n",
       "      <td>diff_proba_auc</td>\n",
       "      <td>0.924212</td>\n",
       "      <td>0.133391</td>\n",
       "    </tr>\n",
       "    <tr>\n",
       "      <th>3</th>\n",
       "      <td>NA</td>\n",
       "      <td>1</td>\n",
       "      <td>diff_proba_auc_test</td>\n",
       "      <td>0.927852</td>\n",
       "      <td>0.131991</td>\n",
       "    </tr>\n",
       "    <tr>\n",
       "      <th>4</th>\n",
       "      <td>oob</td>\n",
       "      <td>1</td>\n",
       "      <td>ice_auc</td>\n",
       "      <td>0.928631</td>\n",
       "      <td>0.110934</td>\n",
       "    </tr>\n",
       "    <tr>\n",
       "      <th>...</th>\n",
       "      <td>...</td>\n",
       "      <td>...</td>\n",
       "      <td>...</td>\n",
       "      <td>...</td>\n",
       "      <td>...</td>\n",
       "    </tr>\n",
       "    <tr>\n",
       "      <th>187</th>\n",
       "      <td>NA</td>\n",
       "      <td>500</td>\n",
       "      <td>diff_proba_auc_test</td>\n",
       "      <td>0.941055</td>\n",
       "      <td>0.082098</td>\n",
       "    </tr>\n",
       "    <tr>\n",
       "      <th>188</th>\n",
       "      <td>rfgap</td>\n",
       "      <td>500</td>\n",
       "      <td>ice_auc</td>\n",
       "      <td>0.931753</td>\n",
       "      <td>0.082595</td>\n",
       "    </tr>\n",
       "    <tr>\n",
       "      <th>189</th>\n",
       "      <td>rfgap</td>\n",
       "      <td>500</td>\n",
       "      <td>ice_auc_test</td>\n",
       "      <td>0.935867</td>\n",
       "      <td>0.075055</td>\n",
       "    </tr>\n",
       "    <tr>\n",
       "      <th>190</th>\n",
       "      <td>NA</td>\n",
       "      <td>500</td>\n",
       "      <td>tree_conformity_auc</td>\n",
       "      <td>0.785979</td>\n",
       "      <td>0.125879</td>\n",
       "    </tr>\n",
       "    <tr>\n",
       "      <th>191</th>\n",
       "      <td>NA</td>\n",
       "      <td>500</td>\n",
       "      <td>tree_conformity_auc_test</td>\n",
       "      <td>0.830756</td>\n",
       "      <td>0.107619</td>\n",
       "    </tr>\n",
       "  </tbody>\n",
       "</table>\n",
       "<p>192 rows × 5 columns</p>\n",
       "</div>"
      ],
      "text/plain": [
       "    prox_method  conformity_k                    metric      mean       std\n",
       "0           oob             1            conformity_auc  0.933020  0.099374\n",
       "1           oob             1       conformity_auc_test  0.934803  0.096275\n",
       "2            NA             1            diff_proba_auc  0.924212  0.133391\n",
       "3            NA             1       diff_proba_auc_test  0.927852  0.131991\n",
       "4           oob             1                   ice_auc  0.928631  0.110934\n",
       "..          ...           ...                       ...       ...       ...\n",
       "187          NA           500       diff_proba_auc_test  0.941055  0.082098\n",
       "188       rfgap           500                   ice_auc  0.931753  0.082595\n",
       "189       rfgap           500              ice_auc_test  0.935867  0.075055\n",
       "190          NA           500       tree_conformity_auc  0.785979  0.125879\n",
       "191          NA           500  tree_conformity_auc_test  0.830756  0.107619\n",
       "\n",
       "[192 rows x 5 columns]"
      ]
     },
     "execution_count": 49,
     "metadata": {},
     "output_type": "execute_result"
    }
   ],
   "source": [
    "df_group"
   ]
  },
  {
   "cell_type": "code",
   "execution_count": 50,
   "id": "16136e09",
   "metadata": {},
   "outputs": [
    {
     "data": {
      "text/plain": [
       "([0, 1, 2, 3, 4, 5, 6, 7],\n",
       " [Text(0, 0, 'conformity_auc'),\n",
       "  Text(1, 0, 'conformity_auc_test'),\n",
       "  Text(2, 0, 'diff_proba_auc'),\n",
       "  Text(3, 0, 'diff_proba_auc_test'),\n",
       "  Text(4, 0, 'ice_auc'),\n",
       "  Text(5, 0, 'ice_auc_test'),\n",
       "  Text(6, 0, 'tree_conformity_auc'),\n",
       "  Text(7, 0, 'tree_conformity_auc_test')])"
      ]
     },
     "execution_count": 50,
     "metadata": {},
     "output_type": "execute_result"
    },
    {
     "data": {
      "image/png": "[encoded data removed]",
      "text/plain": [
       "<Figure size 640x480 with 1 Axes>"
      ]
     },
     "metadata": {},
     "output_type": "display_data"
    }
   ],
   "source": [
    "sns.scatterplot(data = df_group[df_group['prox_method'] != 'original'],\n",
    "                x = 'metric', y = 'mean', hue = 'prox_method',\n",
    "                alpha = 0.5)\n",
    "plt.xticks(rotation=45)"
   ]
  },
  {
   "cell_type": "code",
   "execution_count": 51,
   "id": "ff6b4c90",
   "metadata": {},
   "outputs": [
    {
     "name": "stderr",
     "output_type": "stream",
     "text": [
      "/yunity/rhodes8/.local/lib/python3.10/site-packages/seaborn/_base.py:948: FutureWarning: When grouping with a length-1 list-like, you will need to pass a length-1 tuple to get_group in a future version of pandas. Pass `(name,)` instead of `name` to silence this warning.\n",
      "  data_subset = grouped_data.get_group(pd_key)\n",
      "/yunity/rhodes8/.local/lib/python3.10/site-packages/seaborn/categorical.py:632: FutureWarning: SeriesGroupBy.grouper is deprecated and will be removed in a future version of pandas.\n",
      "  positions = grouped.grouper.result_index.to_numpy(dtype=float)\n",
      "/yunity/rhodes8/.local/lib/python3.10/site-packages/seaborn/_base.py:948: FutureWarning: When grouping with a length-1 list-like, you will need to pass a length-1 tuple to get_group in a future version of pandas. Pass `(name,)` instead of `name` to silence this warning.\n",
      "  data_subset = grouped_data.get_group(pd_key)\n",
      "/yunity/rhodes8/.local/lib/python3.10/site-packages/seaborn/categorical.py:632: FutureWarning: SeriesGroupBy.grouper is deprecated and will be removed in a future version of pandas.\n",
      "  positions = grouped.grouper.result_index.to_numpy(dtype=float)\n",
      "/yunity/rhodes8/.local/lib/python3.10/site-packages/seaborn/_base.py:948: FutureWarning: When grouping with a length-1 list-like, you will need to pass a length-1 tuple to get_group in a future version of pandas. Pass `(name,)` instead of `name` to silence this warning.\n",
      "  data_subset = grouped_data.get_group(pd_key)\n",
      "/yunity/rhodes8/.local/lib/python3.10/site-packages/seaborn/categorical.py:632: FutureWarning: SeriesGroupBy.grouper is deprecated and will be removed in a future version of pandas.\n",
      "  positions = grouped.grouper.result_index.to_numpy(dtype=float)\n"
     ]
    },
    {
     "data": {
      "image/png": "[encoded data removed]",
      "text/plain": [
       "<Figure size 640x480 with 1 Axes>"
      ]
     },
     "metadata": {},
     "output_type": "display_data"
    }
   ],
   "source": [
    "sns.boxplot(\n",
    "    data=df_group[df_group['prox_method'] != 'original'],\n",
    "    x='metric', y='mean', hue='prox_method'\n",
    ")\n",
    "plt.xticks(rotation=45)\n",
    "plt.legend(title='prox_method', bbox_to_anchor=(1.05, 1), loc='upper left')\n",
    "plt.tight_layout()"
   ]
  }
 ],
 "metadata": {
  "kernelspec": {
   "display_name": "rf-uncertainty",
   "language": "python",
   "name": "python3"
  },
  "language_info": {
   "codemirror_mode": {
    "name": "ipython",
    "version": 3
   },
   "file_extension": ".py",
   "mimetype": "text/x-python",
   "name": "python",
   "nbconvert_exporter": "python",
   "pygments_lexer": "ipython3",
   "version": "3.10.18"
  }
 },
 "nbformat": 4,
 "nbformat_minor": 5
}
