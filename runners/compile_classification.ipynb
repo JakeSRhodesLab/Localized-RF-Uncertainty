{
 "cells": [
  {
   "cell_type": "code",
   "execution_count": 1,
   "id": "20661f8f",
   "metadata": {},
   "outputs": [],
   "source": [
    "import os\n",
    "import pickle\n",
    "from concurrent.futures import ThreadPoolExecutor\n",
    "from concurrent.futures import ProcessPoolExecutor, as_completed\n",
    "from pathlib import Path\n",
    "import pandas as pd\n",
    "import matplotlib.pyplot as plt\n",
    "import numpy as np\n",
    "import seaborn as sns\n",
    "import matplotlib.pyplot as plt\n",
    "\n",
    "import sys\n",
    "sys.path.append(str(Path.cwd().parent))"
   ]
  },
  {
   "cell_type": "code",
   "execution_count": 2,
   "id": "0dd93fbe",
   "metadata": {},
   "outputs": [],
   "source": [
    "# Directory containing pickle files\n",
    "directory = Path(\"../results/classification/quantitative\")\n",
    "\n",
    "# Optionally filter for specific substrings\n",
    "pkl_files = [f for f in directory.iterdir() if f.suffix == \".pkl\"]\n",
    "\n",
    "# Efficient loader\n",
    "def load_file(file_path):\n",
    "    try:\n",
    "        with open(file_path, \"rb\") as f:\n",
    "            data = pickle.load(f)\n",
    "            if isinstance(data, dict):\n",
    "                return file_path.name, data\n",
    "    except (EOFError, pickle.UnpicklingError) as e:\n",
    "        print(f\"Warning: Failed to load {file_path.name}: {e}\")\n",
    "    except Exception as e:\n",
    "        print(f\"Unexpected error with {file_path.name}: {e}\")\n",
    "    return None\n",
    "\n",
    "# Load files using multithreading (I/O bound)\n",
    "all_data = {}\n",
    "with ThreadPoolExecutor() as executor:\n",
    "    futures = [executor.submit(load_file, f) for f in pkl_files]\n",
    "    for future in as_completed(futures):\n",
    "        result = future.result()\n",
    "        if result:\n",
    "            filename, data = result\n",
    "            all_data[filename] = data\n",
    "\n",
    "files = list(all_data.keys())\n"
   ]
  },
  {
   "cell_type": "code",
   "execution_count": 3,
   "id": "7131e3c1",
   "metadata": {},
   "outputs": [
    {
     "name": "stdout",
     "output_type": "stream",
     "text": [
      "(10011, 15)\n"
     ]
    }
   ],
   "source": [
    "records = []\n",
    "\n",
    "for file, dictionary in all_data.items():\n",
    "    records.append(dictionary)\n",
    "\n",
    "# Create the DataFrame\n",
    "df = pd.DataFrame(records)\n",
    "\n",
    "print(df.shape)\n",
    "\n"
   ]
  },
  {
   "cell_type": "code",
   "execution_count": 4,
   "id": "58a9560e",
   "metadata": {},
   "outputs": [
    {
     "data": {
      "text/plain": [
       "Index(['prox_method', 'conformity_k', 'random_state', 'oob_score_',\n",
       "       'diff_proba_auc', 'diff_proba_auc_test', 'conformity_auc',\n",
       "       'conformity_auc_test', 'ice_auc', 'ice_auc_test', 'tree_conformity_auc',\n",
       "       'tree_conformity_auc_test', 'name', 'n_features', 'n_samples'],\n",
       "      dtype='object')"
      ]
     },
     "execution_count": 4,
     "metadata": {},
     "output_type": "execute_result"
    }
   ],
   "source": [
    "df.columns"
   ]
  },
  {
   "cell_type": "code",
   "execution_count": 5,
   "id": "30b43dd0",
   "metadata": {},
   "outputs": [],
   "source": [
    "df_long = df.melt(\n",
    "        id_vars=['name', 'random_state', 'prox_method', 'conformity_k'],\n",
    "        value_vars=[\n",
    "                'ice_auc', 'diff_proba_auc', 'conformity_auc',\n",
    "                'ice_auc_test', 'diff_proba_auc_test', 'conformity_auc_test',\n",
    "                'tree_conformity_auc', 'tree_conformity_auc_test'\n",
    "        ],\n",
    "        var_name='metric',\n",
    "        value_name='auc'\n",
    ")"
   ]
  },
  {
   "cell_type": "code",
   "execution_count": 6,
   "id": "e7b5575d",
   "metadata": {},
   "outputs": [
    {
     "data": {
      "application/vnd.microsoft.datawrangler.viewer.v0+json": {
       "columns": [
        {
         "name": "index",
         "rawType": "int64",
         "type": "integer"
        },
        {
         "name": "name",
         "rawType": "object",
         "type": "string"
        },
        {
         "name": "random_state",
         "rawType": "int64",
         "type": "integer"
        },
        {
         "name": "prox_method",
         "rawType": "object",
         "type": "string"
        },
        {
         "name": "conformity_k",
         "rawType": "int64",
         "type": "integer"
        },
        {
         "name": "metric",
         "rawType": "object",
         "type": "string"
        },
        {
         "name": "auc",
         "rawType": "float64",
         "type": "float"
        }
       ],
       "ref": "ac90e510-aeec-40e8-90d7-4348ec238a59",
       "rows": [
        [
         "0",
         "optdigits",
         "110269",
         "oob",
         "50",
         "ice_auc",
         "0.9916088949756612"
        ],
        [
         "1",
         "optdigits",
         "259179",
         "oob",
         "10",
         "ice_auc",
         "0.9892860960498174"
        ],
        [
         "2",
         "cmc",
         "54887",
         "original",
         "1",
         "ice_auc",
         "0.7383137047718819"
        ],
        [
         "3",
         "dna",
         "131933",
         "original",
         "1",
         "ice_auc",
         "0.9804060445118987"
        ],
        [
         "4",
         "wall-robot-navigation",
         "644168",
         "rfgap",
         "5",
         "ice_auc",
         "0.9950674714713302"
        ],
        [
         "5",
         "mfeat-factors",
         "644168",
         "original",
         "100",
         "ice_auc",
         "0.9750835965766174"
        ],
        [
         "6",
         "dna",
         "732181",
         "oob",
         "100",
         "ice_auc",
         "0.9800191539031683"
        ],
        [
         "7",
         "blood-transfusion-service-center",
         "131933",
         "oob",
         "5",
         "ice_auc",
         "0.8709155772087308"
        ],
        [
         "8",
         "har",
         "365839",
         "original",
         "500",
         "ice_auc",
         "0.9861254091420528"
        ],
        [
         "9",
         "cnae-9",
         "137338",
         "oob",
         "1",
         "ice_auc",
         "0.9768897517670118"
        ],
        [
         "10",
         "Bioresponse",
         "644168",
         "rfgap",
         "200",
         "ice_auc",
         "0.8831457532411788"
        ],
        [
         "11",
         "har",
         "131933",
         "oob",
         "20",
         "ice_auc",
         "0.9859235599329237"
        ],
        [
         "12",
         "cnae-9",
         "110269",
         "rfgap",
         "5",
         "ice_auc",
         "0.9748391570688384"
        ],
        [
         "13",
         "satimage",
         "732181",
         "rfgap",
         "1",
         "ice_auc",
         "0.9788848592502348"
        ],
        [
         "14",
         "mfeat-factors",
         "137338",
         "rfgap",
         "100",
         "ice_auc",
         "0.9791233892557215"
        ],
        [
         "15",
         "mfeat-karhunen",
         "365839",
         "oob",
         "100",
         "ice_auc",
         "0.9739007404774414"
        ],
        [
         "16",
         "pendigits",
         "644168",
         "original",
         "10",
         "ice_auc",
         "0.9909803080013124"
        ],
        [
         "17",
         "churn",
         "121959",
         "original",
         "10",
         "ice_auc",
         "0.963717759191536"
        ],
        [
         "18",
         "wall-robot-navigation",
         "121959",
         "rfgap",
         "100",
         "ice_auc",
         "0.996383781737006"
        ],
        [
         "19",
         "mfeat-zernike",
         "365839",
         "rfgap",
         "50",
         "ice_auc",
         "0.929621480557532"
        ],
        [
         "20",
         "PhishingWebsites",
         "671156",
         "original",
         "1",
         "ice_auc",
         "0.9932213937975289"
        ],
        [
         "21",
         "first-order-theorem-proving",
         "259179",
         "oob",
         "5",
         "ice_auc",
         "0.8212060344701964"
        ],
        [
         "22",
         "splice",
         "137338",
         "oob",
         "1",
         "ice_auc",
         "0.973119992096459"
        ],
        [
         "23",
         "dna",
         "671156",
         "oob",
         "500",
         "ice_auc",
         "0.9704569945893506"
        ],
        [
         "24",
         "isolet",
         "644168",
         "rfgap",
         "10",
         "ice_auc",
         "0.9705972286540892"
        ],
        [
         "25",
         "qsar-biodeg",
         "365839",
         "oob",
         "10",
         "ice_auc",
         "0.936090975855971"
        ],
        [
         "26",
         "diabetes",
         "732181",
         "oob",
         "100",
         "ice_auc",
         "0.8726312026207702"
        ],
        [
         "27",
         "ilpd",
         "121959",
         "oob",
         "20",
         "ice_auc",
         "0.8529643134507036"
        ],
        [
         "28",
         "analcatdata_dmft",
         "137338",
         "oob",
         "10",
         "ice_auc",
         "0.30037318065552493"
        ],
        [
         "29",
         "phoneme",
         "110269",
         "original",
         "5",
         "ice_auc",
         "0.9638478294586881"
        ],
        [
         "30",
         "ozone-level-8hr",
         "644168",
         "oob",
         "100",
         "ice_auc",
         "0.98478858223509"
        ],
        [
         "31",
         "segment",
         "110269",
         "original",
         "50",
         "ice_auc",
         "0.9852847821186309"
        ],
        [
         "32",
         "segment",
         "110269",
         "rfgap",
         "10",
         "ice_auc",
         "0.9852847821186309"
        ],
        [
         "33",
         "madelon",
         "732181",
         "rfgap",
         "50",
         "ice_auc",
         "0.7448559175221419"
        ],
        [
         "34",
         "Internet-Advertisements",
         "732181",
         "original",
         "5",
         "ice_auc",
         "0.985901692951682"
        ],
        [
         "35",
         "cmc",
         "131933",
         "original",
         "5",
         "ice_auc",
         "0.6901978549907772"
        ],
        [
         "36",
         "spambase",
         "54887",
         "rfgap",
         "500",
         "ice_auc",
         "0.9769648303313013"
        ],
        [
         "37",
         "kc1",
         "365839",
         "oob",
         "5",
         "ice_auc",
         "0.9460838834723089"
        ],
        [
         "38",
         "wilt",
         "671156",
         "original",
         "50",
         "ice_auc",
         "0.9906853739388018"
        ],
        [
         "39",
         "tic-tac-toe",
         "671156",
         "rfgap",
         "5",
         "ice_auc",
         "0.9875638030088557"
        ],
        [
         "40",
         "wilt",
         "110269",
         "rfgap",
         "20",
         "ice_auc",
         "0.9952073023125568"
        ],
        [
         "41",
         "mfeat-morphological",
         "732181",
         "rfgap",
         "10",
         "ice_auc",
         "0.9019984596681737"
        ],
        [
         "42",
         "PhishingWebsites",
         "732181",
         "rfgap",
         "5",
         "ice_auc",
         "0.9944523612875238"
        ],
        [
         "43",
         "mfeat-morphological",
         "110269",
         "oob",
         "1",
         "ice_auc",
         "0.9069409974578786"
        ],
        [
         "44",
         "Internet-Advertisements",
         "121959",
         "rfgap",
         "10",
         "ice_auc",
         "0.9893339957455176"
        ],
        [
         "45",
         "mfeat-fourier",
         "54887",
         "rfgap",
         "5",
         "ice_auc",
         "0.9454805529800284"
        ],
        [
         "46",
         "steel-plates-fault",
         "732181",
         "oob",
         "1",
         "ice_auc",
         "0.904289587872182"
        ],
        [
         "47",
         "pc3",
         "671156",
         "original",
         "100",
         "ice_auc",
         "0.9654706863032224"
        ],
        [
         "48",
         "pc3",
         "121959",
         "oob",
         "50",
         "ice_auc",
         "0.9585898740639995"
        ],
        [
         "49",
         "mfeat-fourier",
         "131933",
         "oob",
         "5",
         "ice_auc",
         "0.9358468056876192"
        ]
       ],
       "shape": {
        "columns": 6,
        "rows": 80088
       }
      },
      "text/html": [
       "<div>\n",
       "<style scoped>\n",
       "    .dataframe tbody tr th:only-of-type {\n",
       "        vertical-align: middle;\n",
       "    }\n",
       "\n",
       "    .dataframe tbody tr th {\n",
       "        vertical-align: top;\n",
       "    }\n",
       "\n",
       "    .dataframe thead th {\n",
       "        text-align: right;\n",
       "    }\n",
       "</style>\n",
       "<table border=\"1\" class=\"dataframe\">\n",
       "  <thead>\n",
       "    <tr style=\"text-align: right;\">\n",
       "      <th></th>\n",
       "      <th>name</th>\n",
       "      <th>random_state</th>\n",
       "      <th>prox_method</th>\n",
       "      <th>conformity_k</th>\n",
       "      <th>metric</th>\n",
       "      <th>auc</th>\n",
       "    </tr>\n",
       "  </thead>\n",
       "  <tbody>\n",
       "    <tr>\n",
       "      <th>0</th>\n",
       "      <td>optdigits</td>\n",
       "      <td>110269</td>\n",
       "      <td>oob</td>\n",
       "      <td>50</td>\n",
       "      <td>ice_auc</td>\n",
       "      <td>0.991609</td>\n",
       "    </tr>\n",
       "    <tr>\n",
       "      <th>1</th>\n",
       "      <td>optdigits</td>\n",
       "      <td>259179</td>\n",
       "      <td>oob</td>\n",
       "      <td>10</td>\n",
       "      <td>ice_auc</td>\n",
       "      <td>0.989286</td>\n",
       "    </tr>\n",
       "    <tr>\n",
       "      <th>2</th>\n",
       "      <td>cmc</td>\n",
       "      <td>54887</td>\n",
       "      <td>original</td>\n",
       "      <td>1</td>\n",
       "      <td>ice_auc</td>\n",
       "      <td>0.738314</td>\n",
       "    </tr>\n",
       "    <tr>\n",
       "      <th>3</th>\n",
       "      <td>dna</td>\n",
       "      <td>131933</td>\n",
       "      <td>original</td>\n",
       "      <td>1</td>\n",
       "      <td>ice_auc</td>\n",
       "      <td>0.980406</td>\n",
       "    </tr>\n",
       "    <tr>\n",
       "      <th>4</th>\n",
       "      <td>wall-robot-navigation</td>\n",
       "      <td>644168</td>\n",
       "      <td>rfgap</td>\n",
       "      <td>5</td>\n",
       "      <td>ice_auc</td>\n",
       "      <td>0.995067</td>\n",
       "    </tr>\n",
       "    <tr>\n",
       "      <th>...</th>\n",
       "      <td>...</td>\n",
       "      <td>...</td>\n",
       "      <td>...</td>\n",
       "      <td>...</td>\n",
       "      <td>...</td>\n",
       "      <td>...</td>\n",
       "    </tr>\n",
       "    <tr>\n",
       "      <th>80083</th>\n",
       "      <td>kc1</td>\n",
       "      <td>259179</td>\n",
       "      <td>rfgap</td>\n",
       "      <td>100</td>\n",
       "      <td>tree_conformity_auc_test</td>\n",
       "      <td>0.394115</td>\n",
       "    </tr>\n",
       "    <tr>\n",
       "      <th>80084</th>\n",
       "      <td>spambase</td>\n",
       "      <td>259179</td>\n",
       "      <td>original</td>\n",
       "      <td>20</td>\n",
       "      <td>tree_conformity_auc_test</td>\n",
       "      <td>0.828114</td>\n",
       "    </tr>\n",
       "    <tr>\n",
       "      <th>80085</th>\n",
       "      <td>churn</td>\n",
       "      <td>131933</td>\n",
       "      <td>original</td>\n",
       "      <td>200</td>\n",
       "      <td>tree_conformity_auc_test</td>\n",
       "      <td>0.848689</td>\n",
       "    </tr>\n",
       "    <tr>\n",
       "      <th>80086</th>\n",
       "      <td>car</td>\n",
       "      <td>365839</td>\n",
       "      <td>oob</td>\n",
       "      <td>1</td>\n",
       "      <td>tree_conformity_auc_test</td>\n",
       "      <td>0.694403</td>\n",
       "    </tr>\n",
       "    <tr>\n",
       "      <th>80087</th>\n",
       "      <td>spambase</td>\n",
       "      <td>137338</td>\n",
       "      <td>rfgap</td>\n",
       "      <td>5</td>\n",
       "      <td>tree_conformity_auc_test</td>\n",
       "      <td>0.842986</td>\n",
       "    </tr>\n",
       "  </tbody>\n",
       "</table>\n",
       "<p>80088 rows × 6 columns</p>\n",
       "</div>"
      ],
      "text/plain": [
       "                        name  random_state prox_method  conformity_k  \\\n",
       "0                  optdigits        110269         oob            50   \n",
       "1                  optdigits        259179         oob            10   \n",
       "2                        cmc         54887    original             1   \n",
       "3                        dna        131933    original             1   \n",
       "4      wall-robot-navigation        644168       rfgap             5   \n",
       "...                      ...           ...         ...           ...   \n",
       "80083                    kc1        259179       rfgap           100   \n",
       "80084               spambase        259179    original            20   \n",
       "80085                  churn        131933    original           200   \n",
       "80086                    car        365839         oob             1   \n",
       "80087               spambase        137338       rfgap             5   \n",
       "\n",
       "                         metric       auc  \n",
       "0                       ice_auc  0.991609  \n",
       "1                       ice_auc  0.989286  \n",
       "2                       ice_auc  0.738314  \n",
       "3                       ice_auc  0.980406  \n",
       "4                       ice_auc  0.995067  \n",
       "...                         ...       ...  \n",
       "80083  tree_conformity_auc_test  0.394115  \n",
       "80084  tree_conformity_auc_test  0.828114  \n",
       "80085  tree_conformity_auc_test  0.848689  \n",
       "80086  tree_conformity_auc_test  0.694403  \n",
       "80087  tree_conformity_auc_test  0.842986  \n",
       "\n",
       "[80088 rows x 6 columns]"
      ]
     },
     "execution_count": 6,
     "metadata": {},
     "output_type": "execute_result"
    }
   ],
   "source": [
    "df_long"
   ]
  },
  {
   "cell_type": "code",
   "execution_count": 7,
   "id": "a92efa3c",
   "metadata": {},
   "outputs": [],
   "source": [
    "df_group = df_long.groupby(['prox_method', 'conformity_k', 'metric'])['auc'].agg(['mean', 'std']).reset_index()\n"
   ]
  },
  {
   "cell_type": "code",
   "execution_count": 8,
   "id": "ea973afa",
   "metadata": {},
   "outputs": [
    {
     "data": {
      "application/vnd.microsoft.datawrangler.viewer.v0+json": {
       "columns": [
        {
         "name": "index",
         "rawType": "int64",
         "type": "integer"
        },
        {
         "name": "prox_method",
         "rawType": "object",
         "type": "string"
        },
        {
         "name": "conformity_k",
         "rawType": "int64",
         "type": "integer"
        },
        {
         "name": "metric",
         "rawType": "object",
         "type": "string"
        },
        {
         "name": "mean",
         "rawType": "float64",
         "type": "float"
        },
        {
         "name": "std",
         "rawType": "float64",
         "type": "float"
        }
       ],
       "ref": "4916274c-758e-4dc2-97f3-7be98042c785",
       "rows": [
        [
         "0",
         "oob",
         "1",
         "conformity_auc",
         "0.9325451399054645",
         "0.1006315616478697"
        ],
        [
         "1",
         "oob",
         "1",
         "conformity_auc_test",
         "0.934253472121523",
         "0.0973163813024836"
        ],
        [
         "2",
         "oob",
         "1",
         "diff_proba_auc",
         "0.9262520769363246",
         "0.13027969427200262"
        ],
        [
         "3",
         "oob",
         "1",
         "diff_proba_auc_test",
         "0.9301075911903858",
         "0.12845995134936328"
        ],
        [
         "4",
         "oob",
         "1",
         "ice_auc",
         "0.9300080217953616",
         "0.10887794626368678"
        ],
        [
         "5",
         "oob",
         "1",
         "ice_auc_test",
         "0.925139410820646",
         "0.1276089845740244"
        ],
        [
         "6",
         "oob",
         "1",
         "tree_conformity_auc",
         "0.7126645390661202",
         "0.21487607791231012"
        ],
        [
         "7",
         "oob",
         "1",
         "tree_conformity_auc_test",
         "0.751839603468682",
         "0.19763184967816103"
        ],
        [
         "8",
         "oob",
         "5",
         "conformity_auc",
         "0.9531107392512561",
         "0.08834581484175948"
        ],
        [
         "9",
         "oob",
         "5",
         "conformity_auc_test",
         "0.9502032791006142",
         "0.0908843957641717"
        ],
        [
         "10",
         "oob",
         "5",
         "diff_proba_auc",
         "0.9262520769363246",
         "0.13027969427200253"
        ],
        [
         "11",
         "oob",
         "5",
         "diff_proba_auc_test",
         "0.9301075911903858",
         "0.12845995134936314"
        ],
        [
         "12",
         "oob",
         "5",
         "ice_auc",
         "0.9300080217953616",
         "0.10887794626368687"
        ],
        [
         "13",
         "oob",
         "5",
         "ice_auc_test",
         "0.925139410820646",
         "0.12760898457402436"
        ],
        [
         "14",
         "oob",
         "5",
         "tree_conformity_auc",
         "0.7126645390661202",
         "0.21487607791231034"
        ],
        [
         "15",
         "oob",
         "5",
         "tree_conformity_auc_test",
         "0.751839603468682",
         "0.19763184967816108"
        ],
        [
         "16",
         "oob",
         "10",
         "conformity_auc",
         "0.96048012695879",
         "0.08478085821206548"
        ],
        [
         "17",
         "oob",
         "10",
         "conformity_auc_test",
         "0.9561515795620896",
         "0.08908469259814343"
        ],
        [
         "18",
         "oob",
         "10",
         "diff_proba_auc",
         "0.9262520769363246",
         "0.13027969427200256"
        ],
        [
         "19",
         "oob",
         "10",
         "diff_proba_auc_test",
         "0.9301075911903858",
         "0.1284599513493633"
        ],
        [
         "20",
         "oob",
         "10",
         "ice_auc",
         "0.9300080217953616",
         "0.10887794626368684"
        ],
        [
         "21",
         "oob",
         "10",
         "ice_auc_test",
         "0.925139410820646",
         "0.12760898457402445"
        ],
        [
         "22",
         "oob",
         "10",
         "tree_conformity_auc",
         "0.7126645390661202",
         "0.21487607791231012"
        ],
        [
         "23",
         "oob",
         "10",
         "tree_conformity_auc_test",
         "0.751839603468682",
         "0.1976318496781612"
        ],
        [
         "24",
         "oob",
         "20",
         "conformity_auc",
         "0.965539118745657",
         "0.08217355737668358"
        ],
        [
         "25",
         "oob",
         "20",
         "conformity_auc_test",
         "0.9608143974448307",
         "0.08667131898195204"
        ],
        [
         "26",
         "oob",
         "20",
         "diff_proba_auc",
         "0.9262520769363246",
         "0.1302796942720025"
        ],
        [
         "27",
         "oob",
         "20",
         "diff_proba_auc_test",
         "0.9301075911903858",
         "0.1284599513493633"
        ],
        [
         "28",
         "oob",
         "20",
         "ice_auc",
         "0.9300080217953616",
         "0.10887794626368681"
        ],
        [
         "29",
         "oob",
         "20",
         "ice_auc_test",
         "0.925139410820646",
         "0.1276089845740244"
        ],
        [
         "30",
         "oob",
         "20",
         "tree_conformity_auc",
         "0.7126645390661202",
         "0.2148760779123103"
        ],
        [
         "31",
         "oob",
         "20",
         "tree_conformity_auc_test",
         "0.751839603468682",
         "0.19763184967816114"
        ],
        [
         "32",
         "oob",
         "50",
         "conformity_auc",
         "0.9673198268275148",
         "0.0828812168990699"
        ],
        [
         "33",
         "oob",
         "50",
         "conformity_auc_test",
         "0.9642411150525662",
         "0.084462283671052"
        ],
        [
         "34",
         "oob",
         "50",
         "diff_proba_auc",
         "0.9217978450577063",
         "0.13599351262941944"
        ],
        [
         "35",
         "oob",
         "50",
         "diff_proba_auc_test",
         "0.9257345922588178",
         "0.13422798349121604"
        ],
        [
         "36",
         "oob",
         "50",
         "ice_auc",
         "0.9272553588277157",
         "0.11377541397495355"
        ],
        [
         "37",
         "oob",
         "50",
         "ice_auc_test",
         "0.9220732397803847",
         "0.133399733512376"
        ],
        [
         "38",
         "oob",
         "50",
         "tree_conformity_auc",
         "0.7045386067736555",
         "0.21793653736565702"
        ],
        [
         "39",
         "oob",
         "50",
         "tree_conformity_auc_test",
         "0.7429576747900724",
         "0.20175462714471662"
        ],
        [
         "40",
         "oob",
         "100",
         "conformity_auc",
         "0.9788530911384951",
         "0.03541443168789017"
        ],
        [
         "41",
         "oob",
         "100",
         "conformity_auc_test",
         "0.976218044208821",
         "0.036376510769045675"
        ],
        [
         "42",
         "oob",
         "100",
         "diff_proba_auc",
         "0.9350413127243253",
         "0.08964198533966895"
        ],
        [
         "43",
         "oob",
         "100",
         "diff_proba_auc_test",
         "0.9390337497438357",
         "0.08490561818370744"
        ],
        [
         "44",
         "oob",
         "100",
         "ice_auc",
         "0.9390364351106983",
         "0.07130191109153039"
        ],
        [
         "45",
         "oob",
         "100",
         "ice_auc_test",
         "0.935990278550955",
         "0.07942959711488441"
        ],
        [
         "46",
         "oob",
         "100",
         "tree_conformity_auc",
         "0.7211835003610707",
         "0.20133533108662882"
        ],
        [
         "47",
         "oob",
         "100",
         "tree_conformity_auc_test",
         "0.7601790332843578",
         "0.18195892511757597"
        ],
        [
         "48",
         "oob",
         "200",
         "conformity_auc",
         "0.9784428670354601",
         "0.04070023699752991"
        ],
        [
         "49",
         "oob",
         "200",
         "conformity_auc_test",
         "0.9766421821045183",
         "0.040201904450688435"
        ]
       ],
       "shape": {
        "columns": 5,
        "rows": 192
       }
      },
      "text/html": [
       "<div>\n",
       "<style scoped>\n",
       "    .dataframe tbody tr th:only-of-type {\n",
       "        vertical-align: middle;\n",
       "    }\n",
       "\n",
       "    .dataframe tbody tr th {\n",
       "        vertical-align: top;\n",
       "    }\n",
       "\n",
       "    .dataframe thead th {\n",
       "        text-align: right;\n",
       "    }\n",
       "</style>\n",
       "<table border=\"1\" class=\"dataframe\">\n",
       "  <thead>\n",
       "    <tr style=\"text-align: right;\">\n",
       "      <th></th>\n",
       "      <th>prox_method</th>\n",
       "      <th>conformity_k</th>\n",
       "      <th>metric</th>\n",
       "      <th>mean</th>\n",
       "      <th>std</th>\n",
       "    </tr>\n",
       "  </thead>\n",
       "  <tbody>\n",
       "    <tr>\n",
       "      <th>0</th>\n",
       "      <td>oob</td>\n",
       "      <td>1</td>\n",
       "      <td>conformity_auc</td>\n",
       "      <td>0.932545</td>\n",
       "      <td>0.100632</td>\n",
       "    </tr>\n",
       "    <tr>\n",
       "      <th>1</th>\n",
       "      <td>oob</td>\n",
       "      <td>1</td>\n",
       "      <td>conformity_auc_test</td>\n",
       "      <td>0.934253</td>\n",
       "      <td>0.097316</td>\n",
       "    </tr>\n",
       "    <tr>\n",
       "      <th>2</th>\n",
       "      <td>oob</td>\n",
       "      <td>1</td>\n",
       "      <td>diff_proba_auc</td>\n",
       "      <td>0.926252</td>\n",
       "      <td>0.130280</td>\n",
       "    </tr>\n",
       "    <tr>\n",
       "      <th>3</th>\n",
       "      <td>oob</td>\n",
       "      <td>1</td>\n",
       "      <td>diff_proba_auc_test</td>\n",
       "      <td>0.930108</td>\n",
       "      <td>0.128460</td>\n",
       "    </tr>\n",
       "    <tr>\n",
       "      <th>4</th>\n",
       "      <td>oob</td>\n",
       "      <td>1</td>\n",
       "      <td>ice_auc</td>\n",
       "      <td>0.930008</td>\n",
       "      <td>0.108878</td>\n",
       "    </tr>\n",
       "    <tr>\n",
       "      <th>...</th>\n",
       "      <td>...</td>\n",
       "      <td>...</td>\n",
       "      <td>...</td>\n",
       "      <td>...</td>\n",
       "      <td>...</td>\n",
       "    </tr>\n",
       "    <tr>\n",
       "      <th>187</th>\n",
       "      <td>rfgap</td>\n",
       "      <td>500</td>\n",
       "      <td>diff_proba_auc_test</td>\n",
       "      <td>0.943224</td>\n",
       "      <td>0.084119</td>\n",
       "    </tr>\n",
       "    <tr>\n",
       "      <th>188</th>\n",
       "      <td>rfgap</td>\n",
       "      <td>500</td>\n",
       "      <td>ice_auc</td>\n",
       "      <td>0.934313</td>\n",
       "      <td>0.085554</td>\n",
       "    </tr>\n",
       "    <tr>\n",
       "      <th>189</th>\n",
       "      <td>rfgap</td>\n",
       "      <td>500</td>\n",
       "      <td>ice_auc_test</td>\n",
       "      <td>0.938393</td>\n",
       "      <td>0.079136</td>\n",
       "    </tr>\n",
       "    <tr>\n",
       "      <th>190</th>\n",
       "      <td>rfgap</td>\n",
       "      <td>500</td>\n",
       "      <td>tree_conformity_auc</td>\n",
       "      <td>0.792525</td>\n",
       "      <td>0.125307</td>\n",
       "    </tr>\n",
       "    <tr>\n",
       "      <th>191</th>\n",
       "      <td>rfgap</td>\n",
       "      <td>500</td>\n",
       "      <td>tree_conformity_auc_test</td>\n",
       "      <td>0.830384</td>\n",
       "      <td>0.112146</td>\n",
       "    </tr>\n",
       "  </tbody>\n",
       "</table>\n",
       "<p>192 rows × 5 columns</p>\n",
       "</div>"
      ],
      "text/plain": [
       "    prox_method  conformity_k                    metric      mean       std\n",
       "0           oob             1            conformity_auc  0.932545  0.100632\n",
       "1           oob             1       conformity_auc_test  0.934253  0.097316\n",
       "2           oob             1            diff_proba_auc  0.926252  0.130280\n",
       "3           oob             1       diff_proba_auc_test  0.930108  0.128460\n",
       "4           oob             1                   ice_auc  0.930008  0.108878\n",
       "..          ...           ...                       ...       ...       ...\n",
       "187       rfgap           500       diff_proba_auc_test  0.943224  0.084119\n",
       "188       rfgap           500                   ice_auc  0.934313  0.085554\n",
       "189       rfgap           500              ice_auc_test  0.938393  0.079136\n",
       "190       rfgap           500       tree_conformity_auc  0.792525  0.125307\n",
       "191       rfgap           500  tree_conformity_auc_test  0.830384  0.112146\n",
       "\n",
       "[192 rows x 5 columns]"
      ]
     },
     "execution_count": 8,
     "metadata": {},
     "output_type": "execute_result"
    }
   ],
   "source": [
    "df_group"
   ]
  },
  {
   "cell_type": "code",
   "execution_count": 9,
   "id": "342c7d29",
   "metadata": {},
   "outputs": [
    {
     "data": {
      "text/plain": [
       "array(['conformity_auc', 'conformity_auc_test', 'diff_proba_auc',\n",
       "       'diff_proba_auc_test', 'ice_auc', 'ice_auc_test',\n",
       "       'tree_conformity_auc', 'tree_conformity_auc_test'], dtype=object)"
      ]
     },
     "execution_count": 9,
     "metadata": {},
     "output_type": "execute_result"
    }
   ],
   "source": [
    "df_group.metric.unique()"
   ]
  },
  {
   "cell_type": "code",
   "execution_count": 10,
   "id": "24baa6d8",
   "metadata": {},
   "outputs": [],
   "source": [
    "df_group.loc[\n",
    "    df_group['metric'].isin([\n",
    "        'diff_proba_auc', 'diff_proba_auc_test',\n",
    "        'tree_conformity_auc', 'tree_conformity_auc_test'\n",
    "    ]),\n",
    "    'prox_method'\n",
    "] = 'NA'"
   ]
  },
  {
   "cell_type": "code",
   "execution_count": 11,
   "id": "1e071e65",
   "metadata": {},
   "outputs": [
    {
     "data": {
      "application/vnd.microsoft.datawrangler.viewer.v0+json": {
       "columns": [
        {
         "name": "index",
         "rawType": "int64",
         "type": "integer"
        },
        {
         "name": "prox_method",
         "rawType": "object",
         "type": "string"
        },
        {
         "name": "conformity_k",
         "rawType": "int64",
         "type": "integer"
        },
        {
         "name": "metric",
         "rawType": "object",
         "type": "string"
        },
        {
         "name": "mean",
         "rawType": "float64",
         "type": "float"
        },
        {
         "name": "std",
         "rawType": "float64",
         "type": "float"
        }
       ],
       "ref": "a64cdc39-2f2d-4552-89a0-8415456844b5",
       "rows": [
        [
         "0",
         "oob",
         "1",
         "conformity_auc",
         "0.9325451399054645",
         "0.1006315616478697"
        ],
        [
         "1",
         "oob",
         "1",
         "conformity_auc_test",
         "0.934253472121523",
         "0.0973163813024836"
        ],
        [
         "2",
         "NA",
         "1",
         "diff_proba_auc",
         "0.9262520769363246",
         "0.13027969427200262"
        ],
        [
         "3",
         "NA",
         "1",
         "diff_proba_auc_test",
         "0.9301075911903858",
         "0.12845995134936328"
        ],
        [
         "4",
         "oob",
         "1",
         "ice_auc",
         "0.9300080217953616",
         "0.10887794626368678"
        ],
        [
         "5",
         "oob",
         "1",
         "ice_auc_test",
         "0.925139410820646",
         "0.1276089845740244"
        ],
        [
         "6",
         "NA",
         "1",
         "tree_conformity_auc",
         "0.7126645390661202",
         "0.21487607791231012"
        ],
        [
         "7",
         "NA",
         "1",
         "tree_conformity_auc_test",
         "0.751839603468682",
         "0.19763184967816103"
        ],
        [
         "8",
         "oob",
         "5",
         "conformity_auc",
         "0.9531107392512561",
         "0.08834581484175948"
        ],
        [
         "9",
         "oob",
         "5",
         "conformity_auc_test",
         "0.9502032791006142",
         "0.0908843957641717"
        ],
        [
         "10",
         "NA",
         "5",
         "diff_proba_auc",
         "0.9262520769363246",
         "0.13027969427200253"
        ],
        [
         "11",
         "NA",
         "5",
         "diff_proba_auc_test",
         "0.9301075911903858",
         "0.12845995134936314"
        ],
        [
         "12",
         "oob",
         "5",
         "ice_auc",
         "0.9300080217953616",
         "0.10887794626368687"
        ],
        [
         "13",
         "oob",
         "5",
         "ice_auc_test",
         "0.925139410820646",
         "0.12760898457402436"
        ],
        [
         "14",
         "NA",
         "5",
         "tree_conformity_auc",
         "0.7126645390661202",
         "0.21487607791231034"
        ],
        [
         "15",
         "NA",
         "5",
         "tree_conformity_auc_test",
         "0.751839603468682",
         "0.19763184967816108"
        ],
        [
         "16",
         "oob",
         "10",
         "conformity_auc",
         "0.96048012695879",
         "0.08478085821206548"
        ],
        [
         "17",
         "oob",
         "10",
         "conformity_auc_test",
         "0.9561515795620896",
         "0.08908469259814343"
        ],
        [
         "18",
         "NA",
         "10",
         "diff_proba_auc",
         "0.9262520769363246",
         "0.13027969427200256"
        ],
        [
         "19",
         "NA",
         "10",
         "diff_proba_auc_test",
         "0.9301075911903858",
         "0.1284599513493633"
        ],
        [
         "20",
         "oob",
         "10",
         "ice_auc",
         "0.9300080217953616",
         "0.10887794626368684"
        ],
        [
         "21",
         "oob",
         "10",
         "ice_auc_test",
         "0.925139410820646",
         "0.12760898457402445"
        ],
        [
         "22",
         "NA",
         "10",
         "tree_conformity_auc",
         "0.7126645390661202",
         "0.21487607791231012"
        ],
        [
         "23",
         "NA",
         "10",
         "tree_conformity_auc_test",
         "0.751839603468682",
         "0.1976318496781612"
        ],
        [
         "24",
         "oob",
         "20",
         "conformity_auc",
         "0.965539118745657",
         "0.08217355737668358"
        ],
        [
         "25",
         "oob",
         "20",
         "conformity_auc_test",
         "0.9608143974448307",
         "0.08667131898195204"
        ],
        [
         "26",
         "NA",
         "20",
         "diff_proba_auc",
         "0.9262520769363246",
         "0.1302796942720025"
        ],
        [
         "27",
         "NA",
         "20",
         "diff_proba_auc_test",
         "0.9301075911903858",
         "0.1284599513493633"
        ],
        [
         "28",
         "oob",
         "20",
         "ice_auc",
         "0.9300080217953616",
         "0.10887794626368681"
        ],
        [
         "29",
         "oob",
         "20",
         "ice_auc_test",
         "0.925139410820646",
         "0.1276089845740244"
        ],
        [
         "30",
         "NA",
         "20",
         "tree_conformity_auc",
         "0.7126645390661202",
         "0.2148760779123103"
        ],
        [
         "31",
         "NA",
         "20",
         "tree_conformity_auc_test",
         "0.751839603468682",
         "0.19763184967816114"
        ],
        [
         "32",
         "oob",
         "50",
         "conformity_auc",
         "0.9673198268275148",
         "0.0828812168990699"
        ],
        [
         "33",
         "oob",
         "50",
         "conformity_auc_test",
         "0.9642411150525662",
         "0.084462283671052"
        ],
        [
         "34",
         "NA",
         "50",
         "diff_proba_auc",
         "0.9217978450577063",
         "0.13599351262941944"
        ],
        [
         "35",
         "NA",
         "50",
         "diff_proba_auc_test",
         "0.9257345922588178",
         "0.13422798349121604"
        ],
        [
         "36",
         "oob",
         "50",
         "ice_auc",
         "0.9272553588277157",
         "0.11377541397495355"
        ],
        [
         "37",
         "oob",
         "50",
         "ice_auc_test",
         "0.9220732397803847",
         "0.133399733512376"
        ],
        [
         "38",
         "NA",
         "50",
         "tree_conformity_auc",
         "0.7045386067736555",
         "0.21793653736565702"
        ],
        [
         "39",
         "NA",
         "50",
         "tree_conformity_auc_test",
         "0.7429576747900724",
         "0.20175462714471662"
        ],
        [
         "40",
         "oob",
         "100",
         "conformity_auc",
         "0.9788530911384951",
         "0.03541443168789017"
        ],
        [
         "41",
         "oob",
         "100",
         "conformity_auc_test",
         "0.976218044208821",
         "0.036376510769045675"
        ],
        [
         "42",
         "NA",
         "100",
         "diff_proba_auc",
         "0.9350413127243253",
         "0.08964198533966895"
        ],
        [
         "43",
         "NA",
         "100",
         "diff_proba_auc_test",
         "0.9390337497438357",
         "0.08490561818370744"
        ],
        [
         "44",
         "oob",
         "100",
         "ice_auc",
         "0.9390364351106983",
         "0.07130191109153039"
        ],
        [
         "45",
         "oob",
         "100",
         "ice_auc_test",
         "0.935990278550955",
         "0.07942959711488441"
        ],
        [
         "46",
         "NA",
         "100",
         "tree_conformity_auc",
         "0.7211835003610707",
         "0.20133533108662882"
        ],
        [
         "47",
         "NA",
         "100",
         "tree_conformity_auc_test",
         "0.7601790332843578",
         "0.18195892511757597"
        ],
        [
         "48",
         "oob",
         "200",
         "conformity_auc",
         "0.9784428670354601",
         "0.04070023699752991"
        ],
        [
         "49",
         "oob",
         "200",
         "conformity_auc_test",
         "0.9766421821045183",
         "0.040201904450688435"
        ]
       ],
       "shape": {
        "columns": 5,
        "rows": 192
       }
      },
      "text/html": [
       "<div>\n",
       "<style scoped>\n",
       "    .dataframe tbody tr th:only-of-type {\n",
       "        vertical-align: middle;\n",
       "    }\n",
       "\n",
       "    .dataframe tbody tr th {\n",
       "        vertical-align: top;\n",
       "    }\n",
       "\n",
       "    .dataframe thead th {\n",
       "        text-align: right;\n",
       "    }\n",
       "</style>\n",
       "<table border=\"1\" class=\"dataframe\">\n",
       "  <thead>\n",
       "    <tr style=\"text-align: right;\">\n",
       "      <th></th>\n",
       "      <th>prox_method</th>\n",
       "      <th>conformity_k</th>\n",
       "      <th>metric</th>\n",
       "      <th>mean</th>\n",
       "      <th>std</th>\n",
       "    </tr>\n",
       "  </thead>\n",
       "  <tbody>\n",
       "    <tr>\n",
       "      <th>0</th>\n",
       "      <td>oob</td>\n",
       "      <td>1</td>\n",
       "      <td>conformity_auc</td>\n",
       "      <td>0.932545</td>\n",
       "      <td>0.100632</td>\n",
       "    </tr>\n",
       "    <tr>\n",
       "      <th>1</th>\n",
       "      <td>oob</td>\n",
       "      <td>1</td>\n",
       "      <td>conformity_auc_test</td>\n",
       "      <td>0.934253</td>\n",
       "      <td>0.097316</td>\n",
       "    </tr>\n",
       "    <tr>\n",
       "      <th>2</th>\n",
       "      <td>NA</td>\n",
       "      <td>1</td>\n",
       "      <td>diff_proba_auc</td>\n",
       "      <td>0.926252</td>\n",
       "      <td>0.130280</td>\n",
       "    </tr>\n",
       "    <tr>\n",
       "      <th>3</th>\n",
       "      <td>NA</td>\n",
       "      <td>1</td>\n",
       "      <td>diff_proba_auc_test</td>\n",
       "      <td>0.930108</td>\n",
       "      <td>0.128460</td>\n",
       "    </tr>\n",
       "    <tr>\n",
       "      <th>4</th>\n",
       "      <td>oob</td>\n",
       "      <td>1</td>\n",
       "      <td>ice_auc</td>\n",
       "      <td>0.930008</td>\n",
       "      <td>0.108878</td>\n",
       "    </tr>\n",
       "    <tr>\n",
       "      <th>...</th>\n",
       "      <td>...</td>\n",
       "      <td>...</td>\n",
       "      <td>...</td>\n",
       "      <td>...</td>\n",
       "      <td>...</td>\n",
       "    </tr>\n",
       "    <tr>\n",
       "      <th>187</th>\n",
       "      <td>NA</td>\n",
       "      <td>500</td>\n",
       "      <td>diff_proba_auc_test</td>\n",
       "      <td>0.943224</td>\n",
       "      <td>0.084119</td>\n",
       "    </tr>\n",
       "    <tr>\n",
       "      <th>188</th>\n",
       "      <td>rfgap</td>\n",
       "      <td>500</td>\n",
       "      <td>ice_auc</td>\n",
       "      <td>0.934313</td>\n",
       "      <td>0.085554</td>\n",
       "    </tr>\n",
       "    <tr>\n",
       "      <th>189</th>\n",
       "      <td>rfgap</td>\n",
       "      <td>500</td>\n",
       "      <td>ice_auc_test</td>\n",
       "      <td>0.938393</td>\n",
       "      <td>0.079136</td>\n",
       "    </tr>\n",
       "    <tr>\n",
       "      <th>190</th>\n",
       "      <td>NA</td>\n",
       "      <td>500</td>\n",
       "      <td>tree_conformity_auc</td>\n",
       "      <td>0.792525</td>\n",
       "      <td>0.125307</td>\n",
       "    </tr>\n",
       "    <tr>\n",
       "      <th>191</th>\n",
       "      <td>NA</td>\n",
       "      <td>500</td>\n",
       "      <td>tree_conformity_auc_test</td>\n",
       "      <td>0.830384</td>\n",
       "      <td>0.112146</td>\n",
       "    </tr>\n",
       "  </tbody>\n",
       "</table>\n",
       "<p>192 rows × 5 columns</p>\n",
       "</div>"
      ],
      "text/plain": [
       "    prox_method  conformity_k                    metric      mean       std\n",
       "0           oob             1            conformity_auc  0.932545  0.100632\n",
       "1           oob             1       conformity_auc_test  0.934253  0.097316\n",
       "2            NA             1            diff_proba_auc  0.926252  0.130280\n",
       "3            NA             1       diff_proba_auc_test  0.930108  0.128460\n",
       "4           oob             1                   ice_auc  0.930008  0.108878\n",
       "..          ...           ...                       ...       ...       ...\n",
       "187          NA           500       diff_proba_auc_test  0.943224  0.084119\n",
       "188       rfgap           500                   ice_auc  0.934313  0.085554\n",
       "189       rfgap           500              ice_auc_test  0.938393  0.079136\n",
       "190          NA           500       tree_conformity_auc  0.792525  0.125307\n",
       "191          NA           500  tree_conformity_auc_test  0.830384  0.112146\n",
       "\n",
       "[192 rows x 5 columns]"
      ]
     },
     "execution_count": 11,
     "metadata": {},
     "output_type": "execute_result"
    }
   ],
   "source": [
    "df_group"
   ]
  },
  {
   "cell_type": "code",
   "execution_count": 12,
   "id": "16136e09",
   "metadata": {},
   "outputs": [
    {
     "data": {
      "text/plain": [
       "([0, 1, 2, 3, 4, 5, 6, 7],\n",
       " [Text(0, 0, 'conformity_auc'),\n",
       "  Text(1, 0, 'conformity_auc_test'),\n",
       "  Text(2, 0, 'diff_proba_auc'),\n",
       "  Text(3, 0, 'diff_proba_auc_test'),\n",
       "  Text(4, 0, 'ice_auc'),\n",
       "  Text(5, 0, 'ice_auc_test'),\n",
       "  Text(6, 0, 'tree_conformity_auc'),\n",
       "  Text(7, 0, 'tree_conformity_auc_test')])"
      ]
     },
     "execution_count": 12,
     "metadata": {},
     "output_type": "execute_result"
    },
    {
     "data": {
      "image/png": "[encoded data removed]",
      "text/plain": [
       "<Figure size 640x480 with 1 Axes>"
      ]
     },
     "metadata": {},
     "output_type": "display_data"
    }
   ],
   "source": [
    "sns.scatterplot(data = df_group[df_group['prox_method'] != 'original'],\n",
    "                x = 'metric', y = 'mean', hue = 'prox_method',\n",
    "                alpha = 0.5)\n",
    "plt.xticks(rotation=45)"
   ]
  },
  {
   "cell_type": "code",
   "execution_count": 13,
   "id": "ff6b4c90",
   "metadata": {},
   "outputs": [
    {
     "name": "stderr",
     "output_type": "stream",
     "text": [
      "/yunity/rhodes8/.local/lib/python3.10/site-packages/seaborn/_base.py:948: FutureWarning: When grouping with a length-1 list-like, you will need to pass a length-1 tuple to get_group in a future version of pandas. Pass `(name,)` instead of `name` to silence this warning.\n",
      "  data_subset = grouped_data.get_group(pd_key)\n",
      "/yunity/rhodes8/.local/lib/python3.10/site-packages/seaborn/categorical.py:632: FutureWarning: SeriesGroupBy.grouper is deprecated and will be removed in a future version of pandas.\n",
      "  positions = grouped.grouper.result_index.to_numpy(dtype=float)\n",
      "/yunity/rhodes8/.local/lib/python3.10/site-packages/seaborn/_base.py:948: FutureWarning: When grouping with a length-1 list-like, you will need to pass a length-1 tuple to get_group in a future version of pandas. Pass `(name,)` instead of `name` to silence this warning.\n",
      "  data_subset = grouped_data.get_group(pd_key)\n",
      "/yunity/rhodes8/.local/lib/python3.10/site-packages/seaborn/categorical.py:632: FutureWarning: SeriesGroupBy.grouper is deprecated and will be removed in a future version of pandas.\n",
      "  positions = grouped.grouper.result_index.to_numpy(dtype=float)\n",
      "/yunity/rhodes8/.local/lib/python3.10/site-packages/seaborn/_base.py:948: FutureWarning: When grouping with a length-1 list-like, you will need to pass a length-1 tuple to get_group in a future version of pandas. Pass `(name,)` instead of `name` to silence this warning.\n",
      "  data_subset = grouped_data.get_group(pd_key)\n",
      "/yunity/rhodes8/.local/lib/python3.10/site-packages/seaborn/categorical.py:632: FutureWarning: SeriesGroupBy.grouper is deprecated and will be removed in a future version of pandas.\n",
      "  positions = grouped.grouper.result_index.to_numpy(dtype=float)\n",
      "/yunity/rhodes8/.local/lib/python3.10/site-packages/seaborn/_base.py:948: FutureWarning: When grouping with a length-1 list-like, you will need to pass a length-1 tuple to get_group in a future version of pandas. Pass `(name,)` instead of `name` to silence this warning.\n",
      "  data_subset = grouped_data.get_group(pd_key)\n",
      "/yunity/rhodes8/.local/lib/python3.10/site-packages/seaborn/categorical.py:632: FutureWarning: SeriesGroupBy.grouper is deprecated and will be removed in a future version of pandas.\n",
      "  positions = grouped.grouper.result_index.to_numpy(dtype=float)\n"
     ]
    },
    {
     "data": {
      "image/png": "[encoded data removed]",
      "text/plain": [
       "<Figure size 640x480 with 1 Axes>"
      ]
     },
     "metadata": {},
     "output_type": "display_data"
    }
   ],
   "source": [
    "sns.boxplot(\n",
    "    # data=df_group[df_group['prox_method'] != 'oob'],\n",
    "    data = df_group,\n",
    "    x='metric', y='mean', hue='prox_method'\n",
    ")\n",
    "plt.xticks(rotation=45)\n",
    "plt.legend(title='prox_method', bbox_to_anchor=(1.05, 1), loc='upper left')\n",
    "plt.tight_layout()"
   ]
  },
  {
   "cell_type": "code",
   "execution_count": 14,
   "id": "57f8312e",
   "metadata": {},
   "outputs": [
    {
     "data": {
      "application/vnd.microsoft.datawrangler.viewer.v0+json": {
       "columns": [
        {
         "name": "index",
         "rawType": "int64",
         "type": "integer"
        },
        {
         "name": "prox_method",
         "rawType": "object",
         "type": "string"
        },
        {
         "name": "conformity_k",
         "rawType": "int64",
         "type": "integer"
        },
        {
         "name": "metric",
         "rawType": "object",
         "type": "string"
        },
        {
         "name": "mean",
         "rawType": "float64",
         "type": "float"
        },
        {
         "name": "std",
         "rawType": "float64",
         "type": "float"
        }
       ],
       "ref": "ca32fe26-29e4-4ec7-a2a8-16c203bc2a86",
       "rows": [
        [
         "0",
         "oob",
         "1",
         "conformity_auc",
         "0.9325451399054645",
         "0.1006315616478697"
        ],
        [
         "1",
         "oob",
         "1",
         "conformity_auc_test",
         "0.934253472121523",
         "0.0973163813024836"
        ],
        [
         "2",
         "NA",
         "1",
         "diff_proba_auc",
         "0.9262520769363246",
         "0.13027969427200262"
        ],
        [
         "3",
         "NA",
         "1",
         "diff_proba_auc_test",
         "0.9301075911903858",
         "0.12845995134936328"
        ],
        [
         "4",
         "oob",
         "1",
         "ice_auc",
         "0.9300080217953616",
         "0.10887794626368678"
        ],
        [
         "5",
         "oob",
         "1",
         "ice_auc_test",
         "0.925139410820646",
         "0.1276089845740244"
        ],
        [
         "6",
         "NA",
         "1",
         "tree_conformity_auc",
         "0.7126645390661202",
         "0.21487607791231012"
        ],
        [
         "7",
         "NA",
         "1",
         "tree_conformity_auc_test",
         "0.751839603468682",
         "0.19763184967816103"
        ],
        [
         "8",
         "oob",
         "5",
         "conformity_auc",
         "0.9531107392512561",
         "0.08834581484175948"
        ],
        [
         "9",
         "oob",
         "5",
         "conformity_auc_test",
         "0.9502032791006142",
         "0.0908843957641717"
        ],
        [
         "10",
         "NA",
         "5",
         "diff_proba_auc",
         "0.9262520769363246",
         "0.13027969427200253"
        ],
        [
         "11",
         "NA",
         "5",
         "diff_proba_auc_test",
         "0.9301075911903858",
         "0.12845995134936314"
        ],
        [
         "12",
         "oob",
         "5",
         "ice_auc",
         "0.9300080217953616",
         "0.10887794626368687"
        ],
        [
         "13",
         "oob",
         "5",
         "ice_auc_test",
         "0.925139410820646",
         "0.12760898457402436"
        ],
        [
         "14",
         "NA",
         "5",
         "tree_conformity_auc",
         "0.7126645390661202",
         "0.21487607791231034"
        ],
        [
         "15",
         "NA",
         "5",
         "tree_conformity_auc_test",
         "0.751839603468682",
         "0.19763184967816108"
        ],
        [
         "16",
         "oob",
         "10",
         "conformity_auc",
         "0.96048012695879",
         "0.08478085821206548"
        ],
        [
         "17",
         "oob",
         "10",
         "conformity_auc_test",
         "0.9561515795620896",
         "0.08908469259814343"
        ],
        [
         "18",
         "NA",
         "10",
         "diff_proba_auc",
         "0.9262520769363246",
         "0.13027969427200256"
        ],
        [
         "19",
         "NA",
         "10",
         "diff_proba_auc_test",
         "0.9301075911903858",
         "0.1284599513493633"
        ],
        [
         "20",
         "oob",
         "10",
         "ice_auc",
         "0.9300080217953616",
         "0.10887794626368684"
        ],
        [
         "21",
         "oob",
         "10",
         "ice_auc_test",
         "0.925139410820646",
         "0.12760898457402445"
        ],
        [
         "22",
         "NA",
         "10",
         "tree_conformity_auc",
         "0.7126645390661202",
         "0.21487607791231012"
        ],
        [
         "23",
         "NA",
         "10",
         "tree_conformity_auc_test",
         "0.751839603468682",
         "0.1976318496781612"
        ],
        [
         "24",
         "oob",
         "20",
         "conformity_auc",
         "0.965539118745657",
         "0.08217355737668358"
        ],
        [
         "25",
         "oob",
         "20",
         "conformity_auc_test",
         "0.9608143974448307",
         "0.08667131898195204"
        ],
        [
         "26",
         "NA",
         "20",
         "diff_proba_auc",
         "0.9262520769363246",
         "0.1302796942720025"
        ],
        [
         "27",
         "NA",
         "20",
         "diff_proba_auc_test",
         "0.9301075911903858",
         "0.1284599513493633"
        ],
        [
         "28",
         "oob",
         "20",
         "ice_auc",
         "0.9300080217953616",
         "0.10887794626368681"
        ],
        [
         "29",
         "oob",
         "20",
         "ice_auc_test",
         "0.925139410820646",
         "0.1276089845740244"
        ],
        [
         "30",
         "NA",
         "20",
         "tree_conformity_auc",
         "0.7126645390661202",
         "0.2148760779123103"
        ],
        [
         "31",
         "NA",
         "20",
         "tree_conformity_auc_test",
         "0.751839603468682",
         "0.19763184967816114"
        ],
        [
         "32",
         "oob",
         "50",
         "conformity_auc",
         "0.9673198268275148",
         "0.0828812168990699"
        ],
        [
         "33",
         "oob",
         "50",
         "conformity_auc_test",
         "0.9642411150525662",
         "0.084462283671052"
        ],
        [
         "34",
         "NA",
         "50",
         "diff_proba_auc",
         "0.9217978450577063",
         "0.13599351262941944"
        ],
        [
         "35",
         "NA",
         "50",
         "diff_proba_auc_test",
         "0.9257345922588178",
         "0.13422798349121604"
        ],
        [
         "36",
         "oob",
         "50",
         "ice_auc",
         "0.9272553588277157",
         "0.11377541397495355"
        ],
        [
         "37",
         "oob",
         "50",
         "ice_auc_test",
         "0.9220732397803847",
         "0.133399733512376"
        ],
        [
         "38",
         "NA",
         "50",
         "tree_conformity_auc",
         "0.7045386067736555",
         "0.21793653736565702"
        ],
        [
         "39",
         "NA",
         "50",
         "tree_conformity_auc_test",
         "0.7429576747900724",
         "0.20175462714471662"
        ],
        [
         "40",
         "oob",
         "100",
         "conformity_auc",
         "0.9788530911384951",
         "0.03541443168789017"
        ],
        [
         "41",
         "oob",
         "100",
         "conformity_auc_test",
         "0.976218044208821",
         "0.036376510769045675"
        ],
        [
         "42",
         "NA",
         "100",
         "diff_proba_auc",
         "0.9350413127243253",
         "0.08964198533966895"
        ],
        [
         "43",
         "NA",
         "100",
         "diff_proba_auc_test",
         "0.9390337497438357",
         "0.08490561818370744"
        ],
        [
         "44",
         "oob",
         "100",
         "ice_auc",
         "0.9390364351106983",
         "0.07130191109153039"
        ],
        [
         "45",
         "oob",
         "100",
         "ice_auc_test",
         "0.935990278550955",
         "0.07942959711488441"
        ],
        [
         "46",
         "NA",
         "100",
         "tree_conformity_auc",
         "0.7211835003610707",
         "0.20133533108662882"
        ],
        [
         "47",
         "NA",
         "100",
         "tree_conformity_auc_test",
         "0.7601790332843578",
         "0.18195892511757597"
        ],
        [
         "48",
         "oob",
         "200",
         "conformity_auc",
         "0.9784428670354601",
         "0.04070023699752991"
        ],
        [
         "49",
         "oob",
         "200",
         "conformity_auc_test",
         "0.9766421821045183",
         "0.040201904450688435"
        ]
       ],
       "shape": {
        "columns": 5,
        "rows": 192
       }
      },
      "text/html": [
       "<div>\n",
       "<style scoped>\n",
       "    .dataframe tbody tr th:only-of-type {\n",
       "        vertical-align: middle;\n",
       "    }\n",
       "\n",
       "    .dataframe tbody tr th {\n",
       "        vertical-align: top;\n",
       "    }\n",
       "\n",
       "    .dataframe thead th {\n",
       "        text-align: right;\n",
       "    }\n",
       "</style>\n",
       "<table border=\"1\" class=\"dataframe\">\n",
       "  <thead>\n",
       "    <tr style=\"text-align: right;\">\n",
       "      <th></th>\n",
       "      <th>prox_method</th>\n",
       "      <th>conformity_k</th>\n",
       "      <th>metric</th>\n",
       "      <th>mean</th>\n",
       "      <th>std</th>\n",
       "    </tr>\n",
       "  </thead>\n",
       "  <tbody>\n",
       "    <tr>\n",
       "      <th>0</th>\n",
       "      <td>oob</td>\n",
       "      <td>1</td>\n",
       "      <td>conformity_auc</td>\n",
       "      <td>0.932545</td>\n",
       "      <td>0.100632</td>\n",
       "    </tr>\n",
       "    <tr>\n",
       "      <th>1</th>\n",
       "      <td>oob</td>\n",
       "      <td>1</td>\n",
       "      <td>conformity_auc_test</td>\n",
       "      <td>0.934253</td>\n",
       "      <td>0.097316</td>\n",
       "    </tr>\n",
       "    <tr>\n",
       "      <th>2</th>\n",
       "      <td>NA</td>\n",
       "      <td>1</td>\n",
       "      <td>diff_proba_auc</td>\n",
       "      <td>0.926252</td>\n",
       "      <td>0.130280</td>\n",
       "    </tr>\n",
       "    <tr>\n",
       "      <th>3</th>\n",
       "      <td>NA</td>\n",
       "      <td>1</td>\n",
       "      <td>diff_proba_auc_test</td>\n",
       "      <td>0.930108</td>\n",
       "      <td>0.128460</td>\n",
       "    </tr>\n",
       "    <tr>\n",
       "      <th>4</th>\n",
       "      <td>oob</td>\n",
       "      <td>1</td>\n",
       "      <td>ice_auc</td>\n",
       "      <td>0.930008</td>\n",
       "      <td>0.108878</td>\n",
       "    </tr>\n",
       "    <tr>\n",
       "      <th>...</th>\n",
       "      <td>...</td>\n",
       "      <td>...</td>\n",
       "      <td>...</td>\n",
       "      <td>...</td>\n",
       "      <td>...</td>\n",
       "    </tr>\n",
       "    <tr>\n",
       "      <th>187</th>\n",
       "      <td>NA</td>\n",
       "      <td>500</td>\n",
       "      <td>diff_proba_auc_test</td>\n",
       "      <td>0.943224</td>\n",
       "      <td>0.084119</td>\n",
       "    </tr>\n",
       "    <tr>\n",
       "      <th>188</th>\n",
       "      <td>rfgap</td>\n",
       "      <td>500</td>\n",
       "      <td>ice_auc</td>\n",
       "      <td>0.934313</td>\n",
       "      <td>0.085554</td>\n",
       "    </tr>\n",
       "    <tr>\n",
       "      <th>189</th>\n",
       "      <td>rfgap</td>\n",
       "      <td>500</td>\n",
       "      <td>ice_auc_test</td>\n",
       "      <td>0.938393</td>\n",
       "      <td>0.079136</td>\n",
       "    </tr>\n",
       "    <tr>\n",
       "      <th>190</th>\n",
       "      <td>NA</td>\n",
       "      <td>500</td>\n",
       "      <td>tree_conformity_auc</td>\n",
       "      <td>0.792525</td>\n",
       "      <td>0.125307</td>\n",
       "    </tr>\n",
       "    <tr>\n",
       "      <th>191</th>\n",
       "      <td>NA</td>\n",
       "      <td>500</td>\n",
       "      <td>tree_conformity_auc_test</td>\n",
       "      <td>0.830384</td>\n",
       "      <td>0.112146</td>\n",
       "    </tr>\n",
       "  </tbody>\n",
       "</table>\n",
       "<p>192 rows × 5 columns</p>\n",
       "</div>"
      ],
      "text/plain": [
       "    prox_method  conformity_k                    metric      mean       std\n",
       "0           oob             1            conformity_auc  0.932545  0.100632\n",
       "1           oob             1       conformity_auc_test  0.934253  0.097316\n",
       "2            NA             1            diff_proba_auc  0.926252  0.130280\n",
       "3            NA             1       diff_proba_auc_test  0.930108  0.128460\n",
       "4           oob             1                   ice_auc  0.930008  0.108878\n",
       "..          ...           ...                       ...       ...       ...\n",
       "187          NA           500       diff_proba_auc_test  0.943224  0.084119\n",
       "188       rfgap           500                   ice_auc  0.934313  0.085554\n",
       "189       rfgap           500              ice_auc_test  0.938393  0.079136\n",
       "190          NA           500       tree_conformity_auc  0.792525  0.125307\n",
       "191          NA           500  tree_conformity_auc_test  0.830384  0.112146\n",
       "\n",
       "[192 rows x 5 columns]"
      ]
     },
     "execution_count": 14,
     "metadata": {},
     "output_type": "execute_result"
    }
   ],
   "source": [
    "df_group"
   ]
  }
 ],
 "metadata": {
  "kernelspec": {
   "display_name": "rf-uncertainty",
   "language": "python",
   "name": "python3"
  },
  "language_info": {
   "codemirror_mode": {
    "name": "ipython",
    "version": 3
   },
   "file_extension": ".py",
   "mimetype": "text/x-python",
   "name": "python",
   "nbconvert_exporter": "python",
   "pygments_lexer": "ipython3",
   "version": "3.10.18"
  }
 },
 "nbformat": 4,
 "nbformat_minor": 5
}
